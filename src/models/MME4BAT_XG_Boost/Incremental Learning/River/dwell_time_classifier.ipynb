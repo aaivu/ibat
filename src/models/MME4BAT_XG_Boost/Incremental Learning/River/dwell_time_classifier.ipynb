{
 "cells": [
  {
   "cell_type": "markdown",
   "metadata": {},
   "source": [
    "https://github.com/alessiobernardo/River_Hands-on_ContinualAI_Unconference/tree/main"
   ]
  },
  {
   "cell_type": "code",
   "execution_count": 23,
   "id": "7ec2acdd",
   "metadata": {},
   "outputs": [],
   "source": [
    "import pandas as pd\n",
    "import seaborn as sns\n",
    "import matplotlib.pyplot as plt\n",
    "from sklearn.metrics import accuracy_score, f1_score\n",
    "from sklearn.linear_model import SGDClassifier\n",
    "import numpy as np"
   ]
  },
  {
   "cell_type": "code",
   "execution_count": 24,
   "id": "840db04c",
   "metadata": {},
   "outputs": [],
   "source": [
    "path= '../data/bus_stop_times_feature_added_all.csv'\n",
    "df = pd.read_csv(path)\n",
    "df = df[df['week_no'] < 25]\n",
    "\n",
    "def condition(x):\n",
    "    if x == 0:\n",
    "        return 0\n",
    "    else:\n",
    "        return 1\n",
    "\n",
    "df['dwell/pass'] = df['dwell_time_in_seconds'].apply(condition)"
   ]
  },
  {
   "cell_type": "code",
   "execution_count": 25,
   "id": "90964906",
   "metadata": {},
   "outputs": [
    {
     "data": {
      "text/html": [
       "<div>\n",
       "<style scoped>\n",
       "    .dataframe tbody tr th:only-of-type {\n",
       "        vertical-align: middle;\n",
       "    }\n",
       "\n",
       "    .dataframe tbody tr th {\n",
       "        vertical-align: top;\n",
       "    }\n",
       "\n",
       "    .dataframe thead th {\n",
       "        text-align: right;\n",
       "    }\n",
       "</style>\n",
       "<table border=\"1\" class=\"dataframe\">\n",
       "  <thead>\n",
       "    <tr style=\"text-align: right;\">\n",
       "      <th></th>\n",
       "      <th>deviceid</th>\n",
       "      <th>bus_stop</th>\n",
       "      <th>week_no</th>\n",
       "      <th>day_of_week</th>\n",
       "      <th>Sunday/holiday</th>\n",
       "      <th>saturday</th>\n",
       "      <th>time_of_day</th>\n",
       "      <th>dt(w-1)</th>\n",
       "      <th>dt(w-2)</th>\n",
       "      <th>dt(w-3)</th>\n",
       "      <th>dt(t-1)</th>\n",
       "      <th>dt(t-2)</th>\n",
       "      <th>dt(n-1)</th>\n",
       "      <th>dt(n-2)</th>\n",
       "      <th>dt(n-3)</th>\n",
       "      <th>temp</th>\n",
       "      <th>precip</th>\n",
       "      <th>rt(n-1)</th>\n",
       "      <th>dwell/pass</th>\n",
       "    </tr>\n",
       "  </thead>\n",
       "  <tbody>\n",
       "    <tr>\n",
       "      <th>0</th>\n",
       "      <td>262</td>\n",
       "      <td>101</td>\n",
       "      <td>1</td>\n",
       "      <td>4</td>\n",
       "      <td>0</td>\n",
       "      <td>0</td>\n",
       "      <td>6.50</td>\n",
       "      <td>92.0</td>\n",
       "      <td>92.0</td>\n",
       "      <td>92.0</td>\n",
       "      <td>92.0</td>\n",
       "      <td>92.0</td>\n",
       "      <td>92.0</td>\n",
       "      <td>92.0</td>\n",
       "      <td>92.0</td>\n",
       "      <td>20.0</td>\n",
       "      <td>0.000</td>\n",
       "      <td>69.0</td>\n",
       "      <td>1</td>\n",
       "    </tr>\n",
       "    <tr>\n",
       "      <th>1</th>\n",
       "      <td>262</td>\n",
       "      <td>102</td>\n",
       "      <td>1</td>\n",
       "      <td>4</td>\n",
       "      <td>0</td>\n",
       "      <td>0</td>\n",
       "      <td>6.75</td>\n",
       "      <td>45.0</td>\n",
       "      <td>45.0</td>\n",
       "      <td>45.0</td>\n",
       "      <td>45.0</td>\n",
       "      <td>45.0</td>\n",
       "      <td>74.0</td>\n",
       "      <td>45.0</td>\n",
       "      <td>45.0</td>\n",
       "      <td>20.0</td>\n",
       "      <td>0.000</td>\n",
       "      <td>210.0</td>\n",
       "      <td>0</td>\n",
       "    </tr>\n",
       "    <tr>\n",
       "      <th>2</th>\n",
       "      <td>262</td>\n",
       "      <td>103</td>\n",
       "      <td>1</td>\n",
       "      <td>4</td>\n",
       "      <td>0</td>\n",
       "      <td>0</td>\n",
       "      <td>6.75</td>\n",
       "      <td>28.0</td>\n",
       "      <td>28.0</td>\n",
       "      <td>28.0</td>\n",
       "      <td>28.0</td>\n",
       "      <td>28.0</td>\n",
       "      <td>0.0</td>\n",
       "      <td>74.0</td>\n",
       "      <td>28.0</td>\n",
       "      <td>20.0</td>\n",
       "      <td>0.000</td>\n",
       "      <td>496.0</td>\n",
       "      <td>1</td>\n",
       "    </tr>\n",
       "    <tr>\n",
       "      <th>3</th>\n",
       "      <td>262</td>\n",
       "      <td>104</td>\n",
       "      <td>1</td>\n",
       "      <td>4</td>\n",
       "      <td>0</td>\n",
       "      <td>0</td>\n",
       "      <td>6.75</td>\n",
       "      <td>1.0</td>\n",
       "      <td>1.0</td>\n",
       "      <td>1.0</td>\n",
       "      <td>1.0</td>\n",
       "      <td>1.0</td>\n",
       "      <td>6.0</td>\n",
       "      <td>0.0</td>\n",
       "      <td>74.0</td>\n",
       "      <td>20.0</td>\n",
       "      <td>0.000</td>\n",
       "      <td>195.0</td>\n",
       "      <td>0</td>\n",
       "    </tr>\n",
       "    <tr>\n",
       "      <th>4</th>\n",
       "      <td>262</td>\n",
       "      <td>105</td>\n",
       "      <td>1</td>\n",
       "      <td>4</td>\n",
       "      <td>0</td>\n",
       "      <td>0</td>\n",
       "      <td>6.75</td>\n",
       "      <td>230.0</td>\n",
       "      <td>230.0</td>\n",
       "      <td>230.0</td>\n",
       "      <td>230.0</td>\n",
       "      <td>230.0</td>\n",
       "      <td>0.0</td>\n",
       "      <td>6.0</td>\n",
       "      <td>0.0</td>\n",
       "      <td>20.0</td>\n",
       "      <td>0.000</td>\n",
       "      <td>97.0</td>\n",
       "      <td>1</td>\n",
       "    </tr>\n",
       "    <tr>\n",
       "      <th>...</th>\n",
       "      <td>...</td>\n",
       "      <td>...</td>\n",
       "      <td>...</td>\n",
       "      <td>...</td>\n",
       "      <td>...</td>\n",
       "      <td>...</td>\n",
       "      <td>...</td>\n",
       "      <td>...</td>\n",
       "      <td>...</td>\n",
       "      <td>...</td>\n",
       "      <td>...</td>\n",
       "      <td>...</td>\n",
       "      <td>...</td>\n",
       "      <td>...</td>\n",
       "      <td>...</td>\n",
       "      <td>...</td>\n",
       "      <td>...</td>\n",
       "      <td>...</td>\n",
       "      <td>...</td>\n",
       "    </tr>\n",
       "    <tr>\n",
       "      <th>62820</th>\n",
       "      <td>121</td>\n",
       "      <td>110</td>\n",
       "      <td>24</td>\n",
       "      <td>6</td>\n",
       "      <td>1</td>\n",
       "      <td>0</td>\n",
       "      <td>14.25</td>\n",
       "      <td>21.0</td>\n",
       "      <td>21.0</td>\n",
       "      <td>21.0</td>\n",
       "      <td>21.0</td>\n",
       "      <td>21.0</td>\n",
       "      <td>15.0</td>\n",
       "      <td>15.0</td>\n",
       "      <td>15.0</td>\n",
       "      <td>23.7</td>\n",
       "      <td>6.742</td>\n",
       "      <td>190.0</td>\n",
       "      <td>1</td>\n",
       "    </tr>\n",
       "    <tr>\n",
       "      <th>62821</th>\n",
       "      <td>121</td>\n",
       "      <td>111</td>\n",
       "      <td>24</td>\n",
       "      <td>6</td>\n",
       "      <td>1</td>\n",
       "      <td>0</td>\n",
       "      <td>14.25</td>\n",
       "      <td>10.0</td>\n",
       "      <td>10.0</td>\n",
       "      <td>10.0</td>\n",
       "      <td>10.0</td>\n",
       "      <td>10.0</td>\n",
       "      <td>15.0</td>\n",
       "      <td>15.0</td>\n",
       "      <td>15.0</td>\n",
       "      <td>23.7</td>\n",
       "      <td>6.742</td>\n",
       "      <td>165.0</td>\n",
       "      <td>1</td>\n",
       "    </tr>\n",
       "    <tr>\n",
       "      <th>62822</th>\n",
       "      <td>121</td>\n",
       "      <td>112</td>\n",
       "      <td>24</td>\n",
       "      <td>6</td>\n",
       "      <td>1</td>\n",
       "      <td>0</td>\n",
       "      <td>14.25</td>\n",
       "      <td>8.0</td>\n",
       "      <td>8.0</td>\n",
       "      <td>8.0</td>\n",
       "      <td>8.0</td>\n",
       "      <td>8.0</td>\n",
       "      <td>15.0</td>\n",
       "      <td>15.0</td>\n",
       "      <td>15.0</td>\n",
       "      <td>23.7</td>\n",
       "      <td>6.742</td>\n",
       "      <td>177.0</td>\n",
       "      <td>1</td>\n",
       "    </tr>\n",
       "    <tr>\n",
       "      <th>62823</th>\n",
       "      <td>121</td>\n",
       "      <td>113</td>\n",
       "      <td>24</td>\n",
       "      <td>6</td>\n",
       "      <td>1</td>\n",
       "      <td>0</td>\n",
       "      <td>14.25</td>\n",
       "      <td>19.0</td>\n",
       "      <td>19.0</td>\n",
       "      <td>19.0</td>\n",
       "      <td>19.0</td>\n",
       "      <td>15.0</td>\n",
       "      <td>6.0</td>\n",
       "      <td>15.0</td>\n",
       "      <td>15.0</td>\n",
       "      <td>23.7</td>\n",
       "      <td>6.742</td>\n",
       "      <td>168.0</td>\n",
       "      <td>1</td>\n",
       "    </tr>\n",
       "    <tr>\n",
       "      <th>62824</th>\n",
       "      <td>121</td>\n",
       "      <td>114</td>\n",
       "      <td>24</td>\n",
       "      <td>6</td>\n",
       "      <td>1</td>\n",
       "      <td>0</td>\n",
       "      <td>14.25</td>\n",
       "      <td>15.0</td>\n",
       "      <td>15.0</td>\n",
       "      <td>15.0</td>\n",
       "      <td>15.0</td>\n",
       "      <td>75.0</td>\n",
       "      <td>75.0</td>\n",
       "      <td>6.0</td>\n",
       "      <td>15.0</td>\n",
       "      <td>23.7</td>\n",
       "      <td>6.742</td>\n",
       "      <td>132.0</td>\n",
       "      <td>1</td>\n",
       "    </tr>\n",
       "  </tbody>\n",
       "</table>\n",
       "<p>62825 rows × 19 columns</p>\n",
       "</div>"
      ],
      "text/plain": [
       "       deviceid  bus_stop  week_no  day_of_week  Sunday/holiday  saturday  \\\n",
       "0           262       101        1            4               0         0   \n",
       "1           262       102        1            4               0         0   \n",
       "2           262       103        1            4               0         0   \n",
       "3           262       104        1            4               0         0   \n",
       "4           262       105        1            4               0         0   \n",
       "...         ...       ...      ...          ...             ...       ...   \n",
       "62820       121       110       24            6               1         0   \n",
       "62821       121       111       24            6               1         0   \n",
       "62822       121       112       24            6               1         0   \n",
       "62823       121       113       24            6               1         0   \n",
       "62824       121       114       24            6               1         0   \n",
       "\n",
       "       time_of_day  dt(w-1)  dt(w-2)  dt(w-3)  dt(t-1)  dt(t-2)  dt(n-1)  \\\n",
       "0             6.50     92.0     92.0     92.0     92.0     92.0     92.0   \n",
       "1             6.75     45.0     45.0     45.0     45.0     45.0     74.0   \n",
       "2             6.75     28.0     28.0     28.0     28.0     28.0      0.0   \n",
       "3             6.75      1.0      1.0      1.0      1.0      1.0      6.0   \n",
       "4             6.75    230.0    230.0    230.0    230.0    230.0      0.0   \n",
       "...            ...      ...      ...      ...      ...      ...      ...   \n",
       "62820        14.25     21.0     21.0     21.0     21.0     21.0     15.0   \n",
       "62821        14.25     10.0     10.0     10.0     10.0     10.0     15.0   \n",
       "62822        14.25      8.0      8.0      8.0      8.0      8.0     15.0   \n",
       "62823        14.25     19.0     19.0     19.0     19.0     15.0      6.0   \n",
       "62824        14.25     15.0     15.0     15.0     15.0     75.0     75.0   \n",
       "\n",
       "       dt(n-2)  dt(n-3)  temp  precip  rt(n-1)  dwell/pass  \n",
       "0         92.0     92.0  20.0   0.000     69.0           1  \n",
       "1         45.0     45.0  20.0   0.000    210.0           0  \n",
       "2         74.0     28.0  20.0   0.000    496.0           1  \n",
       "3          0.0     74.0  20.0   0.000    195.0           0  \n",
       "4          6.0      0.0  20.0   0.000     97.0           1  \n",
       "...        ...      ...   ...     ...      ...         ...  \n",
       "62820     15.0     15.0  23.7   6.742    190.0           1  \n",
       "62821     15.0     15.0  23.7   6.742    165.0           1  \n",
       "62822     15.0     15.0  23.7   6.742    177.0           1  \n",
       "62823     15.0     15.0  23.7   6.742    168.0           1  \n",
       "62824      6.0     15.0  23.7   6.742    132.0           1  \n",
       "\n",
       "[62825 rows x 19 columns]"
      ]
     },
     "execution_count": 25,
     "metadata": {},
     "output_type": "execute_result"
    }
   ],
   "source": [
    "df = df[['deviceid',\n",
    "         'bus_stop',\n",
    "         'week_no',\n",
    "         'day_of_week',\n",
    "         'Sunday/holiday',\n",
    "         'saturday',\n",
    "         'time_of_day',\n",
    "         'dt(w-1)',\n",
    "         'dt(w-2)',\n",
    "         'dt(w-3)',\n",
    "         'dt(t-1)',\n",
    "         'dt(t-2)',\n",
    "         'dt(n-1)',\n",
    "         'dt(n-2)',\n",
    "         'dt(n-3)',\n",
    "         'temp', \n",
    "         'precip',\n",
    "         'rt(n-1)',\n",
    "         'dwell/pass']]\n",
    "df"
   ]
  },
  {
   "cell_type": "code",
   "execution_count": 26,
   "id": "40745c98",
   "metadata": {},
   "outputs": [
    {
     "data": {
      "text/plain": [
       "<Axes: xlabel='dwell/pass', ylabel='count'>"
      ]
     },
     "execution_count": 26,
     "metadata": {},
     "output_type": "execute_result"
    },
    {
     "data": {
      "image/png": "[encoded data removed]",
      "text/plain": [
       "<Figure size 432x288 with 1 Axes>"
      ]
     },
     "metadata": {
      "needs_background": "light"
     },
     "output_type": "display_data"
    }
   ],
   "source": [
    "sns.countplot(x=\"dwell/pass\", data=df)"
   ]
  },
  {
   "cell_type": "markdown",
   "id": "c917333f",
   "metadata": {},
   "source": [
    "<hr>"
   ]
  },
  {
   "cell_type": "code",
   "execution_count": 27,
   "metadata": {},
   "outputs": [],
   "source": [
    "from river.stream import iter_pandas\n",
    "from river.metrics import Accuracy,BalancedAccuracy,CohenKappa,F1\n",
    "from river.metrics.base import Metrics\n",
    "from river.utils import Rolling\n",
    "from river.evaluate import progressive_val_score"
   ]
  },
  {
   "cell_type": "code",
   "execution_count": 43,
   "metadata": {},
   "outputs": [],
   "source": [
    "stream = iter_pandas(X=df.drop(columns=['dwell/pass', 'week_no']), y=df['dwell/pass'])"
   ]
  },
  {
   "cell_type": "markdown",
   "metadata": {},
   "source": [
    "Naïve Bayes"
   ]
  },
  {
   "cell_type": "code",
   "execution_count": 29,
   "metadata": {},
   "outputs": [
    {
     "name": "stdout",
     "output_type": "stream",
     "text": [
      "[3,000] Accuracy: 52.85%, BalancedAccuracy: 64.22%, F1: 59.09%, CohenKappa: 17.25%\n",
      "[6,000] Accuracy: 52.03%, BalancedAccuracy: 64.55%, F1: 58.33%, CohenKappa: 16.93%\n",
      "[9,000] Accuracy: 52.86%, BalancedAccuracy: 65.13%, F1: 58.53%, CohenKappa: 18.25%\n",
      "[12,000] Accuracy: 52.86%, BalancedAccuracy: 64.89%, F1: 58.10%, CohenKappa: 18.34%\n",
      "[15,000] Accuracy: 53.23%, BalancedAccuracy: 65.30%, F1: 58.13%, CohenKappa: 19.07%\n",
      "[18,000] Accuracy: 53.58%, BalancedAccuracy: 65.44%, F1: 58.16%, CohenKappa: 19.58%\n",
      "[21,000] Accuracy: 53.32%, BalancedAccuracy: 65.38%, F1: 58.06%, CohenKappa: 19.28%\n",
      "[24,000] Accuracy: 52.92%, BalancedAccuracy: 65.25%, F1: 57.95%, CohenKappa: 18.76%\n",
      "[27,000] Accuracy: 52.72%, BalancedAccuracy: 65.35%, F1: 57.95%, CohenKappa: 18.58%\n",
      "[30,000] Accuracy: 52.68%, BalancedAccuracy: 65.38%, F1: 57.88%, CohenKappa: 18.60%\n",
      "[33,000] Accuracy: 52.62%, BalancedAccuracy: 65.29%, F1: 57.80%, CohenKappa: 18.50%\n",
      "[36,000] Accuracy: 52.52%, BalancedAccuracy: 65.19%, F1: 57.69%, CohenKappa: 18.37%\n",
      "[39,000] Accuracy: 52.43%, BalancedAccuracy: 65.12%, F1: 57.53%, CohenKappa: 18.31%\n",
      "[42,000] Accuracy: 52.51%, BalancedAccuracy: 65.13%, F1: 57.50%, CohenKappa: 18.42%\n",
      "[45,000] Accuracy: 52.63%, BalancedAccuracy: 65.16%, F1: 57.53%, CohenKappa: 18.57%\n",
      "[48,000] Accuracy: 52.73%, BalancedAccuracy: 65.17%, F1: 57.59%, CohenKappa: 18.68%\n",
      "[51,000] Accuracy: 52.77%, BalancedAccuracy: 65.13%, F1: 57.62%, CohenKappa: 18.66%\n",
      "[54,000] Accuracy: 52.84%, BalancedAccuracy: 65.10%, F1: 57.62%, CohenKappa: 18.74%\n",
      "[57,000] Accuracy: 52.88%, BalancedAccuracy: 65.11%, F1: 57.63%, CohenKappa: 18.79%\n",
      "[60,000] Accuracy: 52.88%, BalancedAccuracy: 65.12%, F1: 57.57%, CohenKappa: 18.82%\n",
      "[62,825] Accuracy: 52.76%, BalancedAccuracy: 64.98%, F1: 57.43%, CohenKappa: 18.65%\n"
     ]
    },
    {
     "data": {
      "text/plain": [
       "Accuracy: 52.76%, BalancedAccuracy: 64.98%, F1: 57.43%, CohenKappa: 18.65%"
      ]
     },
     "execution_count": 29,
     "metadata": {},
     "output_type": "execute_result"
    }
   ],
   "source": [
    "from river.naive_bayes import GaussianNB\n",
    "\n",
    "model = GaussianNB()\n",
    "metrics = Metrics(metrics=[Accuracy(),BalancedAccuracy(),F1(),CohenKappa()])\n",
    "\n",
    "progressive_val_score(dataset=stream,\n",
    "                      model=model,\n",
    "                      metric=metrics,\n",
    "                      print_every=3000)"
   ]
  },
  {
   "cell_type": "code",
   "execution_count": null,
   "metadata": {},
   "outputs": [],
   "source": [
    "stream = iter_pandas(X=df.drop(columns=['dwell/pass', 'week_no']), y=df['dwell/pass'])"
   ]
  },
  {
   "cell_type": "markdown",
   "metadata": {},
   "source": [
    "K-Nearest Neighbors"
   ]
  },
  {
   "cell_type": "code",
   "execution_count": 31,
   "metadata": {},
   "outputs": [
    {
     "name": "stdout",
     "output_type": "stream",
     "text": [
      "[3,000] Accuracy: 78.13%, BalancedAccuracy: 61.53%, F1: 86.67%, CohenKappa: 26.70%\n",
      "[6,000] Accuracy: 78.41%, BalancedAccuracy: 61.08%, F1: 86.94%, CohenKappa: 25.64%\n",
      "[9,000] Accuracy: 77.44%, BalancedAccuracy: 61.38%, F1: 86.16%, CohenKappa: 25.98%\n",
      "[12,000] Accuracy: 76.91%, BalancedAccuracy: 61.37%, F1: 85.73%, CohenKappa: 25.93%\n",
      "[15,000] Accuracy: 76.51%, BalancedAccuracy: 61.53%, F1: 85.39%, CohenKappa: 26.13%\n",
      "[18,000] Accuracy: 75.84%, BalancedAccuracy: 61.46%, F1: 84.86%, CohenKappa: 25.79%\n",
      "[21,000] Accuracy: 76.08%, BalancedAccuracy: 61.32%, F1: 85.08%, CohenKappa: 25.55%\n",
      "[24,000] Accuracy: 76.65%, BalancedAccuracy: 61.47%, F1: 85.52%, CohenKappa: 25.94%\n",
      "[27,000] Accuracy: 77.10%, BalancedAccuracy: 61.48%, F1: 85.88%, CohenKappa: 26.06%\n",
      "[30,000] Accuracy: 77.16%, BalancedAccuracy: 61.47%, F1: 85.93%, CohenKappa: 26.09%\n",
      "[33,000] Accuracy: 77.11%, BalancedAccuracy: 61.51%, F1: 85.88%, CohenKappa: 26.13%\n",
      "[36,000] Accuracy: 77.13%, BalancedAccuracy: 61.49%, F1: 85.90%, CohenKappa: 26.11%\n",
      "[39,000] Accuracy: 76.92%, BalancedAccuracy: 61.26%, F1: 85.76%, CohenKappa: 25.60%\n",
      "[42,000] Accuracy: 76.65%, BalancedAccuracy: 61.19%, F1: 85.55%, CohenKappa: 25.36%\n",
      "[45,000] Accuracy: 76.47%, BalancedAccuracy: 61.23%, F1: 85.41%, CohenKappa: 25.38%\n",
      "[48,000] Accuracy: 76.44%, BalancedAccuracy: 61.30%, F1: 85.38%, CohenKappa: 25.55%\n",
      "[51,000] Accuracy: 76.43%, BalancedAccuracy: 61.40%, F1: 85.36%, CohenKappa: 25.74%\n",
      "[54,000] Accuracy: 76.38%, BalancedAccuracy: 61.54%, F1: 85.29%, CohenKappa: 26.03%\n",
      "[57,000] Accuracy: 76.35%, BalancedAccuracy: 61.60%, F1: 85.26%, CohenKappa: 26.14%\n",
      "[60,000] Accuracy: 76.35%, BalancedAccuracy: 61.77%, F1: 85.24%, CohenKappa: 26.46%\n",
      "[62,825] Accuracy: 76.35%, BalancedAccuracy: 61.82%, F1: 85.23%, CohenKappa: 26.55%\n"
     ]
    },
    {
     "data": {
      "text/plain": [
       "Accuracy: 76.35%, BalancedAccuracy: 61.82%, F1: 85.23%, CohenKappa: 26.55%"
      ]
     },
     "execution_count": 31,
     "metadata": {},
     "output_type": "execute_result"
    }
   ],
   "source": [
    "from river.neighbors import KNNClassifier\n",
    "\n",
    "model = KNNClassifier(n_neighbors=5)\n",
    "metrics = Metrics(metrics=[Accuracy(),BalancedAccuracy(),F1(),CohenKappa()])\n",
    "\n",
    "progressive_val_score(dataset=stream,\n",
    "                      model=model,\n",
    "                      metric=metrics,\n",
    "                      print_every=3000)"
   ]
  },
  {
   "cell_type": "code",
   "execution_count": null,
   "metadata": {},
   "outputs": [],
   "source": [
    "stream = iter_pandas(X=df.drop(columns=['dwell/pass', 'week_no']), y=df['dwell/pass'])"
   ]
  },
  {
   "cell_type": "markdown",
   "metadata": {},
   "source": [
    "Logistic Regression (SGD Optimizer)"
   ]
  },
  {
   "cell_type": "code",
   "execution_count": 44,
   "metadata": {},
   "outputs": [
    {
     "name": "stdout",
     "output_type": "stream",
     "text": [
      "[3,000] Accuracy: 71.83%, BalancedAccuracy: 58.93%, F1: 81.94%, CohenKappa: 17.98%\n",
      "[6,000] Accuracy: 73.23%, BalancedAccuracy: 59.86%, F1: 83.02%, CohenKappa: 19.84%\n",
      "[9,000] Accuracy: 73.09%, BalancedAccuracy: 61.11%, F1: 82.69%, CohenKappa: 22.32%\n",
      "[12,000] Accuracy: 72.82%, BalancedAccuracy: 61.62%, F1: 82.34%, CohenKappa: 23.31%\n",
      "[15,000] Accuracy: 72.50%, BalancedAccuracy: 61.70%, F1: 82.03%, CohenKappa: 23.46%\n",
      "[18,000] Accuracy: 72.32%, BalancedAccuracy: 62.05%, F1: 81.79%, CohenKappa: 24.18%\n",
      "[21,000] Accuracy: 72.74%, BalancedAccuracy: 62.26%, F1: 82.14%, CohenKappa: 24.58%\n",
      "[24,000] Accuracy: 73.25%, BalancedAccuracy: 62.38%, F1: 82.60%, CohenKappa: 24.81%\n",
      "[27,000] Accuracy: 73.58%, BalancedAccuracy: 62.30%, F1: 82.92%, CohenKappa: 24.66%\n",
      "[30,000] Accuracy: 73.52%, BalancedAccuracy: 62.20%, F1: 82.88%, CohenKappa: 24.46%\n",
      "[33,000] Accuracy: 73.50%, BalancedAccuracy: 62.22%, F1: 82.86%, CohenKappa: 24.50%\n",
      "[36,000] Accuracy: 73.50%, BalancedAccuracy: 62.23%, F1: 82.86%, CohenKappa: 24.52%\n",
      "[39,000] Accuracy: 73.29%, BalancedAccuracy: 62.01%, F1: 82.71%, CohenKappa: 24.07%\n",
      "[42,000] Accuracy: 73.09%, BalancedAccuracy: 61.92%, F1: 82.54%, CohenKappa: 23.90%\n",
      "[45,000] Accuracy: 72.93%, BalancedAccuracy: 61.89%, F1: 82.39%, CohenKappa: 23.84%\n",
      "[48,000] Accuracy: 72.87%, BalancedAccuracy: 61.96%, F1: 82.32%, CohenKappa: 23.98%\n",
      "[51,000] Accuracy: 72.83%, BalancedAccuracy: 61.97%, F1: 82.29%, CohenKappa: 23.99%\n",
      "[54,000] Accuracy: 72.74%, BalancedAccuracy: 62.05%, F1: 82.18%, CohenKappa: 24.16%\n",
      "[57,000] Accuracy: 72.70%, BalancedAccuracy: 62.06%, F1: 82.15%, CohenKappa: 24.16%\n",
      "[60,000] Accuracy: 72.79%, BalancedAccuracy: 62.23%, F1: 82.19%, CohenKappa: 24.52%\n",
      "[62,825] Accuracy: 72.82%, BalancedAccuracy: 62.31%, F1: 82.21%, CohenKappa: 24.67%\n"
     ]
    },
    {
     "data": {
      "text/plain": [
       "Accuracy: 72.82%, BalancedAccuracy: 62.31%, F1: 82.21%, CohenKappa: 24.67%"
      ]
     },
     "execution_count": 44,
     "metadata": {},
     "output_type": "execute_result"
    }
   ],
   "source": [
    "from river import linear_model\n",
    "from river import optim\n",
    "\n",
    "optimizer = optim.SGD(lr=0.01)\n",
    "model = linear_model.LogisticRegression(optimizer)\n",
    "metrics = Metrics(metrics=[Accuracy(),BalancedAccuracy(),F1(),CohenKappa()])\n",
    "\n",
    "progressive_val_score(dataset=stream,\n",
    "                      model=model,\n",
    "                      metric=metrics,\n",
    "                      print_every=3000)"
   ]
  },
  {
   "cell_type": "code",
   "execution_count": 47,
   "metadata": {},
   "outputs": [],
   "source": [
    "stream = iter_pandas(X=df.drop(columns=['dwell/pass', 'week_no']), y=df['dwell/pass'])"
   ]
  },
  {
   "cell_type": "code",
   "execution_count": null,
   "metadata": {},
   "outputs": [],
   "source": [
    "stream = iter_pandas(X=df.drop(columns=['dwell/pass', 'week_no']), y=df['dwell/pass'])"
   ]
  },
  {
   "cell_type": "markdown",
   "metadata": {},
   "source": [
    "Hoeffding Tree"
   ]
  },
  {
   "cell_type": "markdown",
   "metadata": {},
   "source": [
    "Tree-based models are popular due to their interpretability. Hoeffding Tree uses a tree data structure to model the data. When a sample arrives, it traverses the tree until it reaches a leaf node. Internal nodes define the path for a data sample based on the values of its features. Leaf nodes are models that provide predictions for unlabeled-samples and can update their internal state using the labels from labeled samples.\n",
    "\n"
   ]
  },
  {
   "cell_type": "code",
   "execution_count": 34,
   "metadata": {},
   "outputs": [
    {
     "name": "stdout",
     "output_type": "stream",
     "text": [
      "[3,000] Accuracy: 77.73%, BalancedAccuracy: 49.96%, F1: 87.47%, CohenKappa: -0.13%\n",
      "[6,000] Accuracy: 78.53%, BalancedAccuracy: 49.95%, F1: 87.97%, CohenKappa: -0.14%\n",
      "[9,000] Accuracy: 77.45%, BalancedAccuracy: 49.94%, F1: 87.29%, CohenKappa: -0.19%\n",
      "[12,000] Accuracy: 77.35%, BalancedAccuracy: 53.22%, F1: 86.94%, CohenKappa: 9.17%\n",
      "[15,000] Accuracy: 77.42%, BalancedAccuracy: 55.63%, F1: 86.76%, CohenKappa: 15.24%\n",
      "[18,000] Accuracy: 77.10%, BalancedAccuracy: 56.96%, F1: 86.40%, CohenKappa: 18.20%\n",
      "[21,000] Accuracy: 77.47%, BalancedAccuracy: 57.81%, F1: 86.57%, CohenKappa: 20.07%\n",
      "[24,000] Accuracy: 78.03%, BalancedAccuracy: 58.49%, F1: 86.91%, CohenKappa: 21.60%\n",
      "[27,000] Accuracy: 78.49%, BalancedAccuracy: 58.92%, F1: 87.20%, CohenKappa: 22.58%\n",
      "[30,000] Accuracy: 78.72%, BalancedAccuracy: 59.09%, F1: 87.35%, CohenKappa: 23.09%\n",
      "[33,000] Accuracy: 78.84%, BalancedAccuracy: 59.23%, F1: 87.42%, CohenKappa: 23.48%\n",
      "[36,000] Accuracy: 79.00%, BalancedAccuracy: 59.31%, F1: 87.54%, CohenKappa: 23.77%\n",
      "[39,000] Accuracy: 78.89%, BalancedAccuracy: 59.06%, F1: 87.48%, CohenKappa: 23.24%\n",
      "[42,000] Accuracy: 78.73%, BalancedAccuracy: 58.83%, F1: 87.39%, CohenKappa: 22.74%\n",
      "[45,000] Accuracy: 78.65%, BalancedAccuracy: 58.75%, F1: 87.34%, CohenKappa: 22.60%\n",
      "[48,000] Accuracy: 78.59%, BalancedAccuracy: 58.65%, F1: 87.31%, CohenKappa: 22.42%\n",
      "[51,000] Accuracy: 78.64%, BalancedAccuracy: 58.70%, F1: 87.34%, CohenKappa: 22.58%\n",
      "[54,000] Accuracy: 78.57%, BalancedAccuracy: 58.76%, F1: 87.29%, CohenKappa: 22.75%\n",
      "[57,000] Accuracy: 78.60%, BalancedAccuracy: 58.87%, F1: 87.30%, CohenKappa: 23.01%\n",
      "[60,000] Accuracy: 78.63%, BalancedAccuracy: 58.97%, F1: 87.31%, CohenKappa: 23.27%\n",
      "[62,825] Accuracy: 78.61%, BalancedAccuracy: 59.04%, F1: 87.29%, CohenKappa: 23.40%\n"
     ]
    },
    {
     "data": {
      "text/plain": [
       "Accuracy: 78.61%, BalancedAccuracy: 59.04%, F1: 87.29%, CohenKappa: 23.40%"
      ]
     },
     "execution_count": 34,
     "metadata": {},
     "output_type": "execute_result"
    }
   ],
   "source": [
    "from river.tree import HoeffdingTreeClassifier\n",
    "\n",
    "model = HoeffdingTreeClassifier()\n",
    "metrics = Metrics(metrics=[Accuracy(),BalancedAccuracy(),F1(),CohenKappa()])\n",
    "\n",
    "progressive_val_score(dataset=stream,\n",
    "                      model=model,\n",
    "                      metric=metrics,\n",
    "                      print_every=3000)"
   ]
  },
  {
   "cell_type": "code",
   "execution_count": null,
   "metadata": {},
   "outputs": [],
   "source": [
    "stream = iter_pandas(X=df.drop(columns=['dwell/pass', 'week_no']), y=df['dwell/pass'])"
   ]
  },
  {
   "cell_type": "markdown",
   "metadata": {},
   "source": [
    "Hoeffding Adaptive Tree"
   ]
  },
  {
   "cell_type": "markdown",
   "metadata": {},
   "source": [
    "The HAT model uses ADWIN to detect changes. If change is detected in a given branch, an alternate branch is created and eventually replaces the original branch if it shows better performance on new data.\n",
    "\n"
   ]
  },
  {
   "cell_type": "code",
   "execution_count": 37,
   "metadata": {},
   "outputs": [
    {
     "name": "stdout",
     "output_type": "stream",
     "text": [
      "[3,000] Accuracy: 77.56%, BalancedAccuracy: 50.60%, F1: 87.29%, CohenKappa: 1.82%\n",
      "[6,000] Accuracy: 78.48%, BalancedAccuracy: 50.29%, F1: 87.91%, CohenKappa: 0.90%\n",
      "[9,000] Accuracy: 78.04%, BalancedAccuracy: 54.23%, F1: 87.31%, CohenKappa: 11.82%\n",
      "[12,000] Accuracy: 77.74%, BalancedAccuracy: 56.77%, F1: 86.87%, CohenKappa: 17.78%\n",
      "[15,000] Accuracy: 77.64%, BalancedAccuracy: 58.15%, F1: 86.66%, CohenKappa: 20.79%\n",
      "[18,000] Accuracy: 77.49%, BalancedAccuracy: 59.24%, F1: 86.43%, CohenKappa: 23.11%\n",
      "[21,000] Accuracy: 77.98%, BalancedAccuracy: 59.95%, F1: 86.72%, CohenKappa: 24.68%\n",
      "[24,000] Accuracy: 78.55%, BalancedAccuracy: 60.49%, F1: 87.09%, CohenKappa: 25.86%\n",
      "[27,000] Accuracy: 79.07%, BalancedAccuracy: 60.87%, F1: 87.44%, CohenKappa: 26.76%\n",
      "[30,000] Accuracy: 79.24%, BalancedAccuracy: 60.95%, F1: 87.55%, CohenKappa: 27.05%\n",
      "[33,000] Accuracy: 79.13%, BalancedAccuracy: 60.99%, F1: 87.47%, CohenKappa: 27.03%\n",
      "[36,000] Accuracy: 79.15%, BalancedAccuracy: 61.08%, F1: 87.48%, CohenKappa: 27.22%\n",
      "[39,000] Accuracy: 79.04%, BalancedAccuracy: 60.83%, F1: 87.42%, CohenKappa: 26.71%\n",
      "[42,000] Accuracy: 78.87%, BalancedAccuracy: 60.56%, F1: 87.32%, CohenKappa: 26.16%\n",
      "[45,000] Accuracy: 78.82%, BalancedAccuracy: 60.51%, F1: 87.29%, CohenKappa: 26.13%\n",
      "[48,000] Accuracy: 78.76%, BalancedAccuracy: 60.40%, F1: 87.25%, CohenKappa: 25.93%\n",
      "[51,000] Accuracy: 78.77%, BalancedAccuracy: 60.38%, F1: 87.26%, CohenKappa: 25.94%\n",
      "[54,000] Accuracy: 78.70%, BalancedAccuracy: 60.37%, F1: 87.22%, CohenKappa: 25.96%\n",
      "[57,000] Accuracy: 78.70%, BalancedAccuracy: 60.35%, F1: 87.22%, CohenKappa: 25.95%\n",
      "[60,000] Accuracy: 78.70%, BalancedAccuracy: 60.27%, F1: 87.22%, CohenKappa: 25.84%\n",
      "[62,825] Accuracy: 78.70%, BalancedAccuracy: 60.28%, F1: 87.23%, CohenKappa: 25.87%\n"
     ]
    },
    {
     "data": {
      "text/plain": [
       "Accuracy: 78.70%, BalancedAccuracy: 60.28%, F1: 87.23%, CohenKappa: 25.87%"
      ]
     },
     "execution_count": 37,
     "metadata": {},
     "output_type": "execute_result"
    }
   ],
   "source": [
    "from river.tree import HoeffdingAdaptiveTreeClassifier\n",
    "\n",
    "model = HoeffdingAdaptiveTreeClassifier(seed=42)\n",
    "metrics = Metrics(metrics=[Accuracy(),BalancedAccuracy(),F1(),CohenKappa()])\n",
    "\n",
    "progressive_val_score(dataset=stream,\n",
    "                      model=model,\n",
    "                      metric=metrics,\n",
    "                      print_every=3000)"
   ]
  },
  {
   "cell_type": "code",
   "execution_count": null,
   "metadata": {},
   "outputs": [],
   "source": [
    "stream = iter_pandas(X=df.drop(columns=['dwell/pass', 'week_no']), y=df['dwell/pass'])"
   ]
  },
  {
   "cell_type": "markdown",
   "metadata": {},
   "source": [
    "AdaptiveRandomForest"
   ]
  },
  {
   "cell_type": "markdown",
   "metadata": {},
   "source": [
    "The 3 most important aspects of ARF are:\n",
    "\n",
    "* inducing diversity through re-sampling\n",
    "* inducing diversity through randomly selecting subsets of features for node splits\n",
    "* drift detectors per base tree, which cause selective resets in response to drifts\n",
    "\n",
    "It also allows training background trees, which start training if a warning is detected and replace the active tree if the warning escalates to a drift."
   ]
  },
  {
   "cell_type": "code",
   "execution_count": 40,
   "metadata": {},
   "outputs": [
    {
     "name": "stdout",
     "output_type": "stream",
     "text": [
      "[3,000] Accuracy: 80.03%, BalancedAccuracy: 59.91%, F1: 88.22%, CohenKappa: 25.54%\n",
      "[6,000] Accuracy: 81.18%, BalancedAccuracy: 60.45%, F1: 88.98%, CohenKappa: 27.17%\n",
      "[9,000] Accuracy: 80.49%, BalancedAccuracy: 60.53%, F1: 88.49%, CohenKappa: 27.29%\n",
      "[12,000] Accuracy: 80.14%, BalancedAccuracy: 61.14%, F1: 88.19%, CohenKappa: 28.52%\n",
      "[15,000] Accuracy: 79.79%, BalancedAccuracy: 61.44%, F1: 87.91%, CohenKappa: 28.98%\n",
      "[18,000] Accuracy: 79.53%, BalancedAccuracy: 61.83%, F1: 87.68%, CohenKappa: 29.75%\n",
      "[21,000] Accuracy: 79.87%, BalancedAccuracy: 62.12%, F1: 87.90%, CohenKappa: 30.39%\n",
      "[24,000] Accuracy: 80.44%, BalancedAccuracy: 62.40%, F1: 88.29%, CohenKappa: 31.13%\n",
      "[27,000] Accuracy: 80.87%, BalancedAccuracy: 62.52%, F1: 88.60%, CohenKappa: 31.51%\n",
      "[30,000] Accuracy: 80.94%, BalancedAccuracy: 62.55%, F1: 88.64%, CohenKappa: 31.63%\n",
      "[33,000] Accuracy: 80.86%, BalancedAccuracy: 62.43%, F1: 88.60%, CohenKappa: 31.37%\n",
      "[36,000] Accuracy: 80.96%, BalancedAccuracy: 62.57%, F1: 88.66%, CohenKappa: 31.71%\n",
      "[39,000] Accuracy: 80.83%, BalancedAccuracy: 62.49%, F1: 88.57%, CohenKappa: 31.49%\n",
      "[42,000] Accuracy: 80.57%, BalancedAccuracy: 62.32%, F1: 88.40%, CohenKappa: 31.02%\n",
      "[45,000] Accuracy: 80.44%, BalancedAccuracy: 62.32%, F1: 88.30%, CohenKappa: 30.98%\n",
      "[48,000] Accuracy: 80.32%, BalancedAccuracy: 62.27%, F1: 88.22%, CohenKappa: 30.85%\n",
      "[51,000] Accuracy: 80.33%, BalancedAccuracy: 62.40%, F1: 88.22%, CohenKappa: 31.12%\n",
      "[54,000] Accuracy: 80.28%, BalancedAccuracy: 62.55%, F1: 88.16%, CohenKappa: 31.43%\n",
      "[57,000] Accuracy: 80.25%, BalancedAccuracy: 62.61%, F1: 88.14%, CohenKappa: 31.54%\n",
      "[60,000] Accuracy: 80.26%, BalancedAccuracy: 62.74%, F1: 88.13%, CohenKappa: 31.80%\n",
      "[62,825] Accuracy: 80.25%, BalancedAccuracy: 62.82%, F1: 88.11%, CohenKappa: 31.94%\n"
     ]
    },
    {
     "data": {
      "text/plain": [
       "Accuracy: 80.25%, BalancedAccuracy: 62.82%, F1: 88.11%, CohenKappa: 31.94%"
      ]
     },
     "execution_count": 40,
     "metadata": {},
     "output_type": "execute_result"
    }
   ],
   "source": [
    "from river.forest import ARFClassifier    \n",
    "\n",
    "model = ARFClassifier(n_models=10)\n",
    "metrics = Metrics(metrics=[Accuracy(),BalancedAccuracy(),F1(),CohenKappa()])\n",
    "\n",
    "progressive_val_score(dataset=stream,\n",
    "                      model=model,\n",
    "                      metric=metrics,\n",
    "                      print_every=3000)"
   ]
  },
  {
   "cell_type": "code",
   "execution_count": null,
   "metadata": {},
   "outputs": [],
   "source": [
    "stream = iter_pandas(X=df.drop(columns=['dwell/pass', 'week_no']), y=df['dwell/pass'])"
   ]
  },
  {
   "cell_type": "markdown",
   "metadata": {},
   "source": [
    "ExtremelyFastDecisionTreeClassifier"
   ]
  },
  {
   "cell_type": "code",
   "execution_count": 53,
   "metadata": {},
   "outputs": [],
   "source": [
    "stream = iter_pandas(X=df.drop(columns=['dwell/pass', 'week_no']), y=df['dwell/pass'])"
   ]
  },
  {
   "cell_type": "code",
   "execution_count": 55,
   "metadata": {},
   "outputs": [
    {
     "name": "stdout",
     "output_type": "stream",
     "text": [
      "[3,000] Accuracy: 77.06%, BalancedAccuracy: 50.49%, F1: 86.95%, CohenKappa: 1.47%\n",
      "[6,000] Accuracy: 77.21%, BalancedAccuracy: 50.71%, F1: 87.00%, CohenKappa: 2.05%\n",
      "[9,000] Accuracy: 75.69%, BalancedAccuracy: 53.03%, F1: 85.73%, CohenKappa: 7.97%\n",
      "[12,000] Accuracy: 75.47%, BalancedAccuracy: 54.30%, F1: 85.45%, CohenKappa: 11.09%\n",
      "[15,000] Accuracy: 75.28%, BalancedAccuracy: 55.72%, F1: 85.15%, CohenKappa: 14.29%\n",
      "[18,000] Accuracy: 74.63%, BalancedAccuracy: 55.50%, F1: 84.69%, CohenKappa: 13.71%\n",
      "[21,000] Accuracy: 75.02%, BalancedAccuracy: 55.18%, F1: 85.02%, CohenKappa: 13.08%\n",
      "[24,000] Accuracy: 75.49%, BalancedAccuracy: 55.21%, F1: 85.36%, CohenKappa: 13.16%\n",
      "[27,000] Accuracy: 76.07%, BalancedAccuracy: 54.79%, F1: 85.83%, CohenKappa: 12.34%\n",
      "[30,000] Accuracy: 76.21%, BalancedAccuracy: 55.08%, F1: 85.91%, CohenKappa: 13.06%\n",
      "[33,000] Accuracy: 76.09%, BalancedAccuracy: 55.34%, F1: 85.79%, CohenKappa: 13.59%\n",
      "[36,000] Accuracy: 76.04%, BalancedAccuracy: 55.19%, F1: 85.77%, CohenKappa: 13.23%\n",
      "[39,000] Accuracy: 75.97%, BalancedAccuracy: 55.15%, F1: 85.72%, CohenKappa: 13.14%\n",
      "[42,000] Accuracy: 75.77%, BalancedAccuracy: 55.04%, F1: 85.59%, CohenKappa: 12.86%\n",
      "[45,000] Accuracy: 75.66%, BalancedAccuracy: 55.23%, F1: 85.49%, CohenKappa: 13.29%\n",
      "[48,000] Accuracy: 75.50%, BalancedAccuracy: 55.27%, F1: 85.36%, CohenKappa: 13.34%\n",
      "[51,000] Accuracy: 75.42%, BalancedAccuracy: 55.17%, F1: 85.31%, CohenKappa: 13.10%\n",
      "[54,000] Accuracy: 75.22%, BalancedAccuracy: 55.15%, F1: 85.17%, CohenKappa: 13.03%\n",
      "[57,000] Accuracy: 75.11%, BalancedAccuracy: 55.20%, F1: 85.08%, CohenKappa: 13.11%\n",
      "[60,000] Accuracy: 75.07%, BalancedAccuracy: 55.29%, F1: 85.04%, CohenKappa: 13.29%\n",
      "[62,825] Accuracy: 75.05%, BalancedAccuracy: 55.15%, F1: 85.04%, CohenKappa: 12.98%\n"
     ]
    },
    {
     "data": {
      "text/plain": [
       "Accuracy: 75.05%, BalancedAccuracy: 55.15%, F1: 85.04%, CohenKappa: 12.98%"
      ]
     },
     "execution_count": 55,
     "metadata": {},
     "output_type": "execute_result"
    }
   ],
   "source": [
    "from river import tree\n",
    "model = tree.ExtremelyFastDecisionTreeClassifier(\n",
    "     grace_period=100,\n",
    "     nominal_attributes=['elevel', 'car', 'zipcode'],\n",
    "     min_samples_reevaluate=100\n",
    " )\n",
    "metrics = Metrics(metrics=[Accuracy(),BalancedAccuracy(),F1(),CohenKappa()])\n",
    "\n",
    "progressive_val_score(dataset=stream,\n",
    "                      model=model,\n",
    "                      metric=metrics,\n",
    "                      print_every=3000)"
   ]
  },
  {
   "cell_type": "markdown",
   "metadata": {},
   "source": [
    "StreamingRandomPatches"
   ]
  },
  {
   "cell_type": "markdown",
   "metadata": {},
   "source": [
    "SRP is an ensemble method that simulates bagging or random subspaces. The default algorithm uses both bagging and random subspaces, namely Random Patches. The default base estimator is a Hoeffding Tree, but other base estimators can be used (differently from random forest variations)."
   ]
  },
  {
   "cell_type": "code",
   "execution_count": 42,
   "metadata": {},
   "outputs": [
    {
     "name": "stdout",
     "output_type": "stream",
     "text": [
      "[3,000] Accuracy: 78.59%, BalancedAccuracy: 57.92%, F1: 87.36%, CohenKappa: 20.35%\n",
      "[6,000] Accuracy: 80.31%, BalancedAccuracy: 59.50%, F1: 88.45%, CohenKappa: 24.49%\n",
      "[9,000] Accuracy: 79.89%, BalancedAccuracy: 59.96%, F1: 88.11%, CohenKappa: 25.63%\n",
      "[12,000] Accuracy: 79.52%, BalancedAccuracy: 60.34%, F1: 87.82%, CohenKappa: 26.42%\n",
      "[15,000] Accuracy: 79.39%, BalancedAccuracy: 61.06%, F1: 87.66%, CohenKappa: 27.89%\n",
      "[18,000] Accuracy: 79.07%, BalancedAccuracy: 61.44%, F1: 87.38%, CohenKappa: 28.59%\n",
      "[21,000] Accuracy: 79.42%, BalancedAccuracy: 61.59%, F1: 87.63%, CohenKappa: 29.00%\n",
      "[24,000] Accuracy: 80.05%, BalancedAccuracy: 61.86%, F1: 88.06%, CohenKappa: 29.76%\n",
      "[27,000] Accuracy: 80.54%, BalancedAccuracy: 62.00%, F1: 88.40%, CohenKappa: 30.23%\n",
      "[30,000] Accuracy: 80.63%, BalancedAccuracy: 62.00%, F1: 88.47%, CohenKappa: 30.33%\n",
      "[33,000] Accuracy: 80.60%, BalancedAccuracy: 61.84%, F1: 88.46%, CohenKappa: 30.05%\n",
      "[36,000] Accuracy: 80.62%, BalancedAccuracy: 61.77%, F1: 88.48%, CohenKappa: 29.94%\n",
      "[39,000] Accuracy: 80.41%, BalancedAccuracy: 61.39%, F1: 88.36%, CohenKappa: 29.08%\n",
      "[42,000] Accuracy: 80.22%, BalancedAccuracy: 61.21%, F1: 88.24%, CohenKappa: 28.65%\n",
      "[45,000] Accuracy: 80.15%, BalancedAccuracy: 61.26%, F1: 88.19%, CohenKappa: 28.80%\n",
      "[48,000] Accuracy: 80.04%, BalancedAccuracy: 61.21%, F1: 88.12%, CohenKappa: 28.66%\n",
      "[51,000] Accuracy: 80.11%, BalancedAccuracy: 61.35%, F1: 88.15%, CohenKappa: 29.02%\n",
      "[54,000] Accuracy: 80.04%, BalancedAccuracy: 61.44%, F1: 88.09%, CohenKappa: 29.22%\n",
      "[57,000] Accuracy: 80.06%, BalancedAccuracy: 61.53%, F1: 88.10%, CohenKappa: 29.43%\n",
      "[60,000] Accuracy: 80.09%, BalancedAccuracy: 61.64%, F1: 88.11%, CohenKappa: 29.70%\n",
      "[62,825] Accuracy: 80.09%, BalancedAccuracy: 61.70%, F1: 88.11%, CohenKappa: 29.82%\n"
     ]
    },
    {
     "data": {
      "text/plain": [
       "Accuracy: 80.09%, BalancedAccuracy: 61.70%, F1: 88.11%, CohenKappa: 29.82%"
      ]
     },
     "execution_count": 42,
     "metadata": {},
     "output_type": "execute_result"
    }
   ],
   "source": [
    "from river.ensemble import SRPClassifier\n",
    "from river.tree import HoeffdingTreeClassifier  \n",
    "\n",
    "model = SRPClassifier(model=HoeffdingTreeClassifier(),\n",
    "                      n_models=10,\n",
    "                      seed=42)\n",
    "metrics = Metrics(metrics=[Accuracy(),BalancedAccuracy(),F1(),CohenKappa()])\n",
    "\n",
    "progressive_val_score(dataset=stream,\n",
    "                      model=model,\n",
    "                      metric=metrics,\n",
    "                      print_every=3000)"
   ]
  },
  {
   "cell_type": "markdown",
   "metadata": {},
   "source": [
    "Ada Boost"
   ]
  },
  {
   "cell_type": "code",
   "execution_count": 50,
   "metadata": {},
   "outputs": [],
   "source": [
    "stream = iter_pandas(X=df.drop(columns=['dwell/pass', 'week_no']), y=df['dwell/pass'])"
   ]
  },
  {
   "cell_type": "code",
   "execution_count": 52,
   "metadata": {},
   "outputs": [
    {
     "name": "stdout",
     "output_type": "stream",
     "text": [
      "[3,000] Accuracy: 73.26%, BalancedAccuracy: 63.82%, F1: 82.46%, CohenKappa: 26.32%\n",
      "[6,000] Accuracy: 73.08%, BalancedAccuracy: 63.95%, F1: 82.36%, CohenKappa: 25.82%\n",
      "[9,000] Accuracy: 73.52%, BalancedAccuracy: 65.19%, F1: 82.47%, CohenKappa: 28.53%\n",
      "[12,000] Accuracy: 73.86%, BalancedAccuracy: 64.71%, F1: 82.78%, CohenKappa: 28.57%\n",
      "[15,000] Accuracy: 74.41%, BalancedAccuracy: 64.85%, F1: 83.21%, CohenKappa: 29.49%\n",
      "[18,000] Accuracy: 74.43%, BalancedAccuracy: 64.66%, F1: 83.21%, CohenKappa: 29.57%\n",
      "[21,000] Accuracy: 75.10%, BalancedAccuracy: 64.93%, F1: 83.78%, CohenKappa: 30.31%\n",
      "[24,000] Accuracy: 75.89%, BalancedAccuracy: 65.06%, F1: 84.46%, CohenKappa: 30.82%\n",
      "[27,000] Accuracy: 76.59%, BalancedAccuracy: 65.20%, F1: 85.04%, CohenKappa: 31.33%\n",
      "[30,000] Accuracy: 76.95%, BalancedAccuracy: 65.08%, F1: 85.34%, CohenKappa: 31.51%\n",
      "[33,000] Accuracy: 77.05%, BalancedAccuracy: 64.68%, F1: 85.47%, CohenKappa: 31.04%\n",
      "[36,000] Accuracy: 77.22%, BalancedAccuracy: 64.50%, F1: 85.62%, CohenKappa: 30.93%\n",
      "[39,000] Accuracy: 77.16%, BalancedAccuracy: 64.16%, F1: 85.61%, CohenKappa: 30.42%\n",
      "[42,000] Accuracy: 77.02%, BalancedAccuracy: 63.78%, F1: 85.54%, CohenKappa: 29.84%\n",
      "[45,000] Accuracy: 76.92%, BalancedAccuracy: 63.69%, F1: 85.47%, CohenKappa: 29.72%\n",
      "[48,000] Accuracy: 76.86%, BalancedAccuracy: 63.67%, F1: 85.42%, CohenKappa: 29.70%\n",
      "[51,000] Accuracy: 76.89%, BalancedAccuracy: 63.60%, F1: 85.45%, CohenKappa: 29.66%\n",
      "[54,000] Accuracy: 76.90%, BalancedAccuracy: 63.76%, F1: 85.43%, CohenKappa: 30.02%\n",
      "[57,000] Accuracy: 76.95%, BalancedAccuracy: 63.87%, F1: 85.46%, CohenKappa: 30.27%\n",
      "[60,000] Accuracy: 77.07%, BalancedAccuracy: 64.08%, F1: 85.53%, CohenKappa: 30.73%\n",
      "[62,825] Accuracy: 77.13%, BalancedAccuracy: 64.16%, F1: 85.56%, CohenKappa: 30.93%\n"
     ]
    },
    {
     "data": {
      "text/plain": [
       "Accuracy: 77.13%, BalancedAccuracy: 64.16%, F1: 85.56%, CohenKappa: 30.93%"
      ]
     },
     "execution_count": 52,
     "metadata": {},
     "output_type": "execute_result"
    }
   ],
   "source": [
    "from river import ensemble\n",
    "from river.neighbors import KNNClassifier\n",
    "from river import tree\n",
    "\n",
    "model = ensemble.AdaBoostClassifier(\n",
    "    model=(\n",
    "        tree.HoeffdingTreeClassifier(\n",
    "            split_criterion='gini',\n",
    "            grace_period=2000\n",
    "        )\n",
    "    ),\n",
    "    n_models=5,\n",
    "    seed=42\n",
    ")\n",
    "metrics = Metrics(metrics=[Accuracy(),BalancedAccuracy(),F1(),CohenKappa()])\n",
    "\n",
    "progressive_val_score(dataset=stream,\n",
    "                      model=model,\n",
    "                      metric=metrics,\n",
    "                      print_every=3000)"
   ]
  }
 ],
 "metadata": {
  "kernelspec": {
   "display_name": "Python 3 (ipykernel)",
   "language": "python",
   "name": "python3"
  },
  "language_info": {
   "codemirror_mode": {
    "name": "ipython",
    "version": 3
   },
   "file_extension": ".py",
   "mimetype": "text/x-python",
   "name": "python",
   "nbconvert_exporter": "python",
   "pygments_lexer": "ipython3",
   "version": "3.10.2"
  }
 },
 "nbformat": 4,
 "nbformat_minor": 5
}
