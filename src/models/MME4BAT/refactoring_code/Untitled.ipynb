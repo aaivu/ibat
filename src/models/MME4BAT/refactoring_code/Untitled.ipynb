{
 "cells": [
  {
   "cell_type": "code",
   "execution_count": 59,
   "id": "7ec2acdd",
   "metadata": {},
   "outputs": [],
   "source": [
    "import pandas as pd\n",
    "import seaborn as sns\n",
    "import matplotlib.pyplot as plt\n",
    "import xgboost as xgb\n",
    "from sklearn.metrics import accuracy_score, f1_score"
   ]
  },
  {
   "cell_type": "code",
   "execution_count": 4,
   "id": "840db04c",
   "metadata": {},
   "outputs": [],
   "source": [
    "path= './data/bus_stop_times_feature_added_all.csv'\n",
    "df = pd.read_csv(path)\n",
    "\n",
    "def condition(x):\n",
    "    if x == 0:\n",
    "        return 0\n",
    "    else:\n",
    "        return 1\n",
    "\n",
    "df['dwell/pass'] = df['dwell_time_in_seconds'].apply(condition)"
   ]
  },
  {
   "cell_type": "code",
   "execution_count": 5,
   "id": "90964906",
   "metadata": {},
   "outputs": [
    {
     "data": {
      "text/html": [
       "<div>\n",
       "<style scoped>\n",
       "    .dataframe tbody tr th:only-of-type {\n",
       "        vertical-align: middle;\n",
       "    }\n",
       "\n",
       "    .dataframe tbody tr th {\n",
       "        vertical-align: top;\n",
       "    }\n",
       "\n",
       "    .dataframe thead th {\n",
       "        text-align: right;\n",
       "    }\n",
       "</style>\n",
       "<table border=\"1\" class=\"dataframe\">\n",
       "  <thead>\n",
       "    <tr style=\"text-align: right;\">\n",
       "      <th></th>\n",
       "      <th>deviceid</th>\n",
       "      <th>bus_stop</th>\n",
       "      <th>week_no</th>\n",
       "      <th>day_of_week</th>\n",
       "      <th>time_of_day</th>\n",
       "      <th>dt(w-1)</th>\n",
       "      <th>dt(w-2)</th>\n",
       "      <th>dt(w-3)</th>\n",
       "      <th>dt(t-1)</th>\n",
       "      <th>dt(t-2)</th>\n",
       "      <th>dt(n-1)</th>\n",
       "      <th>dt(n-2)</th>\n",
       "      <th>dwell/pass</th>\n",
       "    </tr>\n",
       "  </thead>\n",
       "  <tbody>\n",
       "    <tr>\n",
       "      <th>0</th>\n",
       "      <td>262</td>\n",
       "      <td>101</td>\n",
       "      <td>1</td>\n",
       "      <td>4</td>\n",
       "      <td>6</td>\n",
       "      <td>87.0</td>\n",
       "      <td>87.0</td>\n",
       "      <td>87.0</td>\n",
       "      <td>87.0</td>\n",
       "      <td>87.0</td>\n",
       "      <td>87.0</td>\n",
       "      <td>87.0</td>\n",
       "      <td>1</td>\n",
       "    </tr>\n",
       "    <tr>\n",
       "      <th>1</th>\n",
       "      <td>262</td>\n",
       "      <td>102</td>\n",
       "      <td>1</td>\n",
       "      <td>4</td>\n",
       "      <td>6</td>\n",
       "      <td>37.0</td>\n",
       "      <td>37.0</td>\n",
       "      <td>37.0</td>\n",
       "      <td>37.0</td>\n",
       "      <td>37.0</td>\n",
       "      <td>74.0</td>\n",
       "      <td>37.0</td>\n",
       "      <td>0</td>\n",
       "    </tr>\n",
       "    <tr>\n",
       "      <th>2</th>\n",
       "      <td>262</td>\n",
       "      <td>103</td>\n",
       "      <td>1</td>\n",
       "      <td>4</td>\n",
       "      <td>6</td>\n",
       "      <td>29.0</td>\n",
       "      <td>29.0</td>\n",
       "      <td>29.0</td>\n",
       "      <td>29.0</td>\n",
       "      <td>29.0</td>\n",
       "      <td>0.0</td>\n",
       "      <td>74.0</td>\n",
       "      <td>1</td>\n",
       "    </tr>\n",
       "    <tr>\n",
       "      <th>3</th>\n",
       "      <td>262</td>\n",
       "      <td>104</td>\n",
       "      <td>1</td>\n",
       "      <td>4</td>\n",
       "      <td>6</td>\n",
       "      <td>1.0</td>\n",
       "      <td>1.0</td>\n",
       "      <td>1.0</td>\n",
       "      <td>1.0</td>\n",
       "      <td>1.0</td>\n",
       "      <td>6.0</td>\n",
       "      <td>0.0</td>\n",
       "      <td>0</td>\n",
       "    </tr>\n",
       "    <tr>\n",
       "      <th>4</th>\n",
       "      <td>262</td>\n",
       "      <td>105</td>\n",
       "      <td>1</td>\n",
       "      <td>4</td>\n",
       "      <td>6</td>\n",
       "      <td>224.0</td>\n",
       "      <td>224.0</td>\n",
       "      <td>224.0</td>\n",
       "      <td>224.0</td>\n",
       "      <td>224.0</td>\n",
       "      <td>0.0</td>\n",
       "      <td>6.0</td>\n",
       "      <td>1</td>\n",
       "    </tr>\n",
       "    <tr>\n",
       "      <th>...</th>\n",
       "      <td>...</td>\n",
       "      <td>...</td>\n",
       "      <td>...</td>\n",
       "      <td>...</td>\n",
       "      <td>...</td>\n",
       "      <td>...</td>\n",
       "      <td>...</td>\n",
       "      <td>...</td>\n",
       "      <td>...</td>\n",
       "      <td>...</td>\n",
       "      <td>...</td>\n",
       "      <td>...</td>\n",
       "      <td>...</td>\n",
       "    </tr>\n",
       "    <tr>\n",
       "      <th>62596</th>\n",
       "      <td>121</td>\n",
       "      <td>112</td>\n",
       "      <td>23</td>\n",
       "      <td>0</td>\n",
       "      <td>18</td>\n",
       "      <td>0.0</td>\n",
       "      <td>0.0</td>\n",
       "      <td>0.0</td>\n",
       "      <td>28.0</td>\n",
       "      <td>14.0</td>\n",
       "      <td>0.0</td>\n",
       "      <td>16.0</td>\n",
       "      <td>0</td>\n",
       "    </tr>\n",
       "    <tr>\n",
       "      <th>62597</th>\n",
       "      <td>121</td>\n",
       "      <td>113</td>\n",
       "      <td>23</td>\n",
       "      <td>0</td>\n",
       "      <td>18</td>\n",
       "      <td>26.0</td>\n",
       "      <td>16.0</td>\n",
       "      <td>75.0</td>\n",
       "      <td>83.0</td>\n",
       "      <td>121.0</td>\n",
       "      <td>0.0</td>\n",
       "      <td>0.0</td>\n",
       "      <td>1</td>\n",
       "    </tr>\n",
       "    <tr>\n",
       "      <th>62598</th>\n",
       "      <td>121</td>\n",
       "      <td>114</td>\n",
       "      <td>23</td>\n",
       "      <td>0</td>\n",
       "      <td>18</td>\n",
       "      <td>22.0</td>\n",
       "      <td>12.0</td>\n",
       "      <td>0.0</td>\n",
       "      <td>34.0</td>\n",
       "      <td>24.0</td>\n",
       "      <td>10.0</td>\n",
       "      <td>0.0</td>\n",
       "      <td>0</td>\n",
       "    </tr>\n",
       "    <tr>\n",
       "      <th>62599</th>\n",
       "      <td>116</td>\n",
       "      <td>101</td>\n",
       "      <td>23</td>\n",
       "      <td>0</td>\n",
       "      <td>18</td>\n",
       "      <td>68.0</td>\n",
       "      <td>56.0</td>\n",
       "      <td>39.0</td>\n",
       "      <td>57.0</td>\n",
       "      <td>79.0</td>\n",
       "      <td>68.0</td>\n",
       "      <td>68.0</td>\n",
       "      <td>1</td>\n",
       "    </tr>\n",
       "    <tr>\n",
       "      <th>62600</th>\n",
       "      <td>116</td>\n",
       "      <td>102</td>\n",
       "      <td>23</td>\n",
       "      <td>0</td>\n",
       "      <td>18</td>\n",
       "      <td>0.0</td>\n",
       "      <td>0.0</td>\n",
       "      <td>0.0</td>\n",
       "      <td>7.0</td>\n",
       "      <td>0.0</td>\n",
       "      <td>72.0</td>\n",
       "      <td>11.0</td>\n",
       "      <td>0</td>\n",
       "    </tr>\n",
       "  </tbody>\n",
       "</table>\n",
       "<p>62601 rows × 13 columns</p>\n",
       "</div>"
      ],
      "text/plain": [
       "       deviceid  bus_stop  week_no  day_of_week  time_of_day  dt(w-1)  \\\n",
       "0           262       101        1            4            6     87.0   \n",
       "1           262       102        1            4            6     37.0   \n",
       "2           262       103        1            4            6     29.0   \n",
       "3           262       104        1            4            6      1.0   \n",
       "4           262       105        1            4            6    224.0   \n",
       "...         ...       ...      ...          ...          ...      ...   \n",
       "62596       121       112       23            0           18      0.0   \n",
       "62597       121       113       23            0           18     26.0   \n",
       "62598       121       114       23            0           18     22.0   \n",
       "62599       116       101       23            0           18     68.0   \n",
       "62600       116       102       23            0           18      0.0   \n",
       "\n",
       "       dt(w-2)  dt(w-3)  dt(t-1)  dt(t-2)  dt(n-1)  dt(n-2)  dwell/pass  \n",
       "0         87.0     87.0     87.0     87.0     87.0     87.0           1  \n",
       "1         37.0     37.0     37.0     37.0     74.0     37.0           0  \n",
       "2         29.0     29.0     29.0     29.0      0.0     74.0           1  \n",
       "3          1.0      1.0      1.0      1.0      6.0      0.0           0  \n",
       "4        224.0    224.0    224.0    224.0      0.0      6.0           1  \n",
       "...        ...      ...      ...      ...      ...      ...         ...  \n",
       "62596      0.0      0.0     28.0     14.0      0.0     16.0           0  \n",
       "62597     16.0     75.0     83.0    121.0      0.0      0.0           1  \n",
       "62598     12.0      0.0     34.0     24.0     10.0      0.0           0  \n",
       "62599     56.0     39.0     57.0     79.0     68.0     68.0           1  \n",
       "62600      0.0      0.0      7.0      0.0     72.0     11.0           0  \n",
       "\n",
       "[62601 rows x 13 columns]"
      ]
     },
     "execution_count": 5,
     "metadata": {},
     "output_type": "execute_result"
    }
   ],
   "source": [
    "df = df[['deviceid',\n",
    "         'bus_stop',\n",
    "         'week_no',\n",
    "         'day_of_week',\n",
    "         'time_of_day',\n",
    "         'dt(w-1)',\n",
    "         'dt(w-2)',\n",
    "         'dt(w-3)',\n",
    "         'dt(t-1)',\n",
    "         'dt(t-2)',\n",
    "         'dt(n-1)',\n",
    "         'dt(n-2)',\n",
    "         'dwell/pass']]\n",
    "df"
   ]
  },
  {
   "cell_type": "code",
   "execution_count": 60,
   "id": "40745c98",
   "metadata": {},
   "outputs": [
    {
     "data": {
      "text/plain": [
       "<AxesSubplot:xlabel='dwell/pass', ylabel='count'>"
      ]
     },
     "execution_count": 60,
     "metadata": {},
     "output_type": "execute_result"
    },
    {
     "data": {
      "image/png": "[encoded data removed]",
      "text/plain": [
       "<Figure size 640x480 with 1 Axes>"
      ]
     },
     "metadata": {},
     "output_type": "display_data"
    }
   ],
   "source": [
    "sns.countplot(x=\"dwell/pass\", data=df)"
   ]
  },
  {
   "cell_type": "code",
   "execution_count": 6,
   "id": "9b4753c9",
   "metadata": {},
   "outputs": [],
   "source": [
    "params = {\n",
    "    'objective': 'binary:logistic',\n",
    "    'eval_metric': 'error',\n",
    "    'eta': 0.1,\n",
    "    'seed': 42,\n",
    "}"
   ]
  },
  {
   "cell_type": "code",
   "execution_count": 7,
   "id": "4cb8e2bc",
   "metadata": {},
   "outputs": [],
   "source": [
    "def predict(model, dt, t):\n",
    "    preds = model.predict(dt)\n",
    "\n",
    "    preds_binary = [1 if p > 0.5 else 0 for p in preds]\n",
    "\n",
    "    accuracy = accuracy_score(t[['dwell/pass']], preds_binary)\n",
    "    f1 = f1_score(t[['dwell/pass']], preds_binary)\n",
    "\n",
    "    print(f\"accuracy_score: {accuracy}\")\n",
    "    print(f\"f1_score: {f1}\")"
   ]
  },
  {
   "cell_type": "markdown",
   "id": "263017fd",
   "metadata": {},
   "source": [
    "### 1"
   ]
  },
  {
   "cell_type": "code",
   "execution_count": 8,
   "id": "d8fbb934",
   "metadata": {},
   "outputs": [],
   "source": [
    "train1 = df[df['week_no'] <= 19]\n",
    "test1 = df[df['week_no'] > 19]\n",
    "\n",
    "dtrain1 = xgb.DMatrix(train1.drop(columns=['dwell/pass', 'week_no']), label=train1[['dwell/pass']])\n",
    "dtest1 = xgb.DMatrix(test1.drop(columns=['dwell/pass', 'week_no']), label=test1[['dwell/pass']])"
   ]
  },
  {
   "cell_type": "code",
   "execution_count": 9,
   "id": "cf441010",
   "metadata": {},
   "outputs": [],
   "source": [
    "model1 = xgb.train(params, dtrain1, num_boost_round=10)"
   ]
  },
  {
   "cell_type": "code",
   "execution_count": 10,
   "id": "05c04e33",
   "metadata": {},
   "outputs": [
    {
     "name": "stdout",
     "output_type": "stream",
     "text": [
      "accuracy_score: 0.8053123006437395\n",
      "f1_score: 0.8853470554081899\n"
     ]
    }
   ],
   "source": [
    "predict(model1, dtrain1, train1)"
   ]
  },
  {
   "cell_type": "code",
   "execution_count": 11,
   "id": "e4a09df0",
   "metadata": {},
   "outputs": [
    {
     "name": "stdout",
     "output_type": "stream",
     "text": [
      "accuracy_score: 0.7928623988226637\n",
      "f1_score: 0.8767108288623672\n"
     ]
    }
   ],
   "source": [
    "predict(model1, dtest1, test1)"
   ]
  },
  {
   "cell_type": "markdown",
   "id": "ff74aaff",
   "metadata": {},
   "source": [
    "### 2"
   ]
  },
  {
   "cell_type": "code",
   "execution_count": 12,
   "id": "51c7eb4c",
   "metadata": {},
   "outputs": [],
   "source": [
    "train2 = df[df['week_no'] == 20]\n",
    "test2 = df[df['week_no'] > 20]\n",
    "\n",
    "dtrain2 = xgb.DMatrix(train2.drop(columns=['dwell/pass', 'week_no']), label=train2[['dwell/pass']])\n",
    "dtest2 = xgb.DMatrix(test2.drop(columns=['dwell/pass', 'week_no']), label=test2[['dwell/pass']])"
   ]
  },
  {
   "cell_type": "code",
   "execution_count": 13,
   "id": "464b78ff",
   "metadata": {},
   "outputs": [],
   "source": [
    "model2 = xgb.train(params, dtrain2, num_boost_round=10, xgb_model=model1)"
   ]
  },
  {
   "cell_type": "code",
   "execution_count": 14,
   "id": "8dd025c9",
   "metadata": {},
   "outputs": [
    {
     "name": "stdout",
     "output_type": "stream",
     "text": [
      "accuracy_score: 0.8183417425428676\n",
      "f1_score: 0.8895185468226442\n"
     ]
    }
   ],
   "source": [
    "predict(model2, dtrain1, train1)"
   ]
  },
  {
   "cell_type": "code",
   "execution_count": 15,
   "id": "643bc53d",
   "metadata": {},
   "outputs": [
    {
     "name": "stdout",
     "output_type": "stream",
     "text": [
      "accuracy_score: 0.7972275074748573\n",
      "f1_score: 0.8796385930945466\n"
     ]
    }
   ],
   "source": [
    "predict(model1, dtest2, test2)"
   ]
  },
  {
   "cell_type": "code",
   "execution_count": 16,
   "id": "ac6aa4e3",
   "metadata": {},
   "outputs": [
    {
     "name": "stdout",
     "output_type": "stream",
     "text": [
      "accuracy_score: 0.8098668116335961\n",
      "f1_score: 0.8825652648367329\n"
     ]
    }
   ],
   "source": [
    "predict(model2, dtest2, test2)"
   ]
  },
  {
   "cell_type": "markdown",
   "id": "d5a3e35a",
   "metadata": {},
   "source": [
    "### 3"
   ]
  },
  {
   "cell_type": "code",
   "execution_count": 17,
   "id": "49e2d5cf",
   "metadata": {},
   "outputs": [],
   "source": [
    "train3 = df[df['week_no'] == 21]\n",
    "test3 = df[df['week_no'] > 21]\n",
    "\n",
    "dtrain3 = xgb.DMatrix(train3.drop(columns=['dwell/pass', 'week_no']), label=train3[['dwell/pass']])\n",
    "dtest3 = xgb.DMatrix(test3.drop(columns=['dwell/pass', 'week_no']), label=test3[['dwell/pass']])"
   ]
  },
  {
   "cell_type": "code",
   "execution_count": 18,
   "id": "5d1f64c7",
   "metadata": {},
   "outputs": [],
   "source": [
    "model3 = xgb.train(params, dtrain3, num_boost_round=10, xgb_model=model2)"
   ]
  },
  {
   "cell_type": "code",
   "execution_count": 19,
   "id": "e387dbf3",
   "metadata": {},
   "outputs": [
    {
     "name": "stdout",
     "output_type": "stream",
     "text": [
      "accuracy_score: 0.8146107599219007\n",
      "f1_score: 0.8853693521396127\n"
     ]
    }
   ],
   "source": [
    "predict(model3, dtrain1, train1)"
   ]
  },
  {
   "cell_type": "code",
   "execution_count": 20,
   "id": "36b0a53c",
   "metadata": {},
   "outputs": [
    {
     "name": "stdout",
     "output_type": "stream",
     "text": [
      "accuracy_score: 0.7929992445227902\n",
      "f1_score: 0.8770933014354066\n"
     ]
    }
   ],
   "source": [
    "predict(model1, dtest3, test3)"
   ]
  },
  {
   "cell_type": "code",
   "execution_count": 21,
   "id": "564bfcd4",
   "metadata": {},
   "outputs": [
    {
     "name": "stdout",
     "output_type": "stream",
     "text": [
      "accuracy_score: 0.8071014857718459\n",
      "f1_score: 0.8802001876759462\n"
     ]
    }
   ],
   "source": [
    "predict(model2, dtest3, test3)"
   ]
  },
  {
   "cell_type": "code",
   "execution_count": 22,
   "id": "36f1667e",
   "metadata": {},
   "outputs": [
    {
     "name": "stdout",
     "output_type": "stream",
     "text": [
      "accuracy_score: 0.8111306975572904\n",
      "f1_score: 0.8798846893017296\n"
     ]
    }
   ],
   "source": [
    "predict(model3, dtest3, test3)"
   ]
  },
  {
   "cell_type": "markdown",
   "id": "1ff4c499",
   "metadata": {},
   "source": [
    "### 4"
   ]
  },
  {
   "cell_type": "code",
   "execution_count": 23,
   "id": "3e01adb4",
   "metadata": {},
   "outputs": [],
   "source": [
    "train4 = df[df['week_no'] == 22]\n",
    "test4 = df[df['week_no'] > 22]\n",
    "\n",
    "dtrain4 = xgb.DMatrix(train4.drop(columns=['dwell/pass', 'week_no']), label=train4[['dwell/pass']])\n",
    "dtest4 = xgb.DMatrix(test4.drop(columns=['dwell/pass', 'week_no']), label=test4[['dwell/pass']])"
   ]
  },
  {
   "cell_type": "code",
   "execution_count": 24,
   "id": "5cce45f4",
   "metadata": {},
   "outputs": [],
   "source": [
    "model4 = xgb.train(params, dtrain4, num_boost_round=10, xgb_model=model3)"
   ]
  },
  {
   "cell_type": "code",
   "execution_count": 25,
   "id": "3e0c6081",
   "metadata": {},
   "outputs": [
    {
     "name": "stdout",
     "output_type": "stream",
     "text": [
      "accuracy_score: 0.8097198863306849\n",
      "f1_score: 0.8817330914246578\n"
     ]
    }
   ],
   "source": [
    "predict(model4, dtrain1, train1)"
   ]
  },
  {
   "cell_type": "code",
   "execution_count": 26,
   "id": "9e204fb9",
   "metadata": {},
   "outputs": [
    {
     "name": "stdout",
     "output_type": "stream",
     "text": [
      "accuracy_score: 0.8285077951002228\n",
      "f1_score: 0.9021601016518425\n"
     ]
    }
   ],
   "source": [
    "predict(model1, dtest4, test4)"
   ]
  },
  {
   "cell_type": "code",
   "execution_count": 27,
   "id": "19187f10",
   "metadata": {},
   "outputs": [
    {
     "name": "stdout",
     "output_type": "stream",
     "text": [
      "accuracy_score: 0.844097995545657\n",
      "f1_score: 0.9088541666666667\n"
     ]
    }
   ],
   "source": [
    "predict(model2, dtest4, test4)"
   ]
  },
  {
   "cell_type": "code",
   "execution_count": 28,
   "id": "48b0a820",
   "metadata": {},
   "outputs": [
    {
     "name": "stdout",
     "output_type": "stream",
     "text": [
      "accuracy_score: 0.8552338530066815\n",
      "f1_score: 0.9143610013175231\n"
     ]
    }
   ],
   "source": [
    "predict(model3, dtest4, test4)"
   ]
  },
  {
   "cell_type": "code",
   "execution_count": 29,
   "id": "2afe2908",
   "metadata": {},
   "outputs": [
    {
     "name": "stdout",
     "output_type": "stream",
     "text": [
      "accuracy_score: 0.8530066815144766\n",
      "f1_score: 0.9133858267716535\n"
     ]
    }
   ],
   "source": [
    "predict(model4, dtest4, test4)"
   ]
  },
  {
   "cell_type": "markdown",
   "id": "c917333f",
   "metadata": {},
   "source": [
    "<hr>"
   ]
  },
  {
   "cell_type": "code",
   "execution_count": 30,
   "id": "8458bec2",
   "metadata": {},
   "outputs": [],
   "source": [
    "batch1 = df[df['week_no'] <= 19]\n",
    "dbatch1 = xgb.DMatrix(batch1.drop(columns=['dwell/pass', 'week_no']), label=batch1[['dwell/pass']])"
   ]
  },
  {
   "cell_type": "code",
   "execution_count": 31,
   "id": "a80c4c48",
   "metadata": {},
   "outputs": [],
   "source": [
    "batch2 = df[df['week_no'] == 20]\n",
    "dbatch2 = xgb.DMatrix(batch2.drop(columns=['dwell/pass', 'week_no']), label=batch2[['dwell/pass']])"
   ]
  },
  {
   "cell_type": "code",
   "execution_count": 32,
   "id": "5238c097",
   "metadata": {},
   "outputs": [],
   "source": [
    "batch3 = df[df['week_no'] == 21]\n",
    "dbatch3 = xgb.DMatrix(batch3.drop(columns=['dwell/pass', 'week_no']), label=batch3[['dwell/pass']])"
   ]
  },
  {
   "cell_type": "code",
   "execution_count": 33,
   "id": "aee9fb60",
   "metadata": {},
   "outputs": [],
   "source": [
    "batch4 = df[df['week_no'] == 22]\n",
    "dbatch4 = xgb.DMatrix(batch4.drop(columns=['dwell/pass', 'week_no']), label=batch4[['dwell/pass']])"
   ]
  },
  {
   "cell_type": "code",
   "execution_count": 34,
   "id": "d0f27f8d",
   "metadata": {},
   "outputs": [],
   "source": [
    "batch5 = df[df['week_no'] == 23]\n",
    "dbatch5 = xgb.DMatrix(batch5.drop(columns=['dwell/pass', 'week_no']), label=batch5[['dwell/pass']])"
   ]
  },
  {
   "cell_type": "markdown",
   "id": "3c7153af",
   "metadata": {},
   "source": [
    "### 1"
   ]
  },
  {
   "cell_type": "code",
   "execution_count": 35,
   "id": "729b4532",
   "metadata": {},
   "outputs": [],
   "source": [
    "model1 = xgb.train(params, dbatch1, num_boost_round=10)"
   ]
  },
  {
   "cell_type": "code",
   "execution_count": 36,
   "id": "250be078",
   "metadata": {},
   "outputs": [
    {
     "name": "stdout",
     "output_type": "stream",
     "text": [
      "accuracy_score: 0.8053123006437395\n",
      "f1_score: 0.8853470554081899\n"
     ]
    }
   ],
   "source": [
    "predict(model1, dbatch1, batch1)"
   ]
  },
  {
   "cell_type": "code",
   "execution_count": 37,
   "id": "11107fca",
   "metadata": {},
   "outputs": [
    {
     "name": "stdout",
     "output_type": "stream",
     "text": [
      "accuracy_score: 0.7837222538417757\n",
      "f1_score: 0.8705281090289608\n"
     ]
    }
   ],
   "source": [
    "predict(model1, dbatch2, batch2)"
   ]
  },
  {
   "cell_type": "code",
   "execution_count": 38,
   "id": "5f9e43d9",
   "metadata": {},
   "outputs": [
    {
     "name": "stdout",
     "output_type": "stream",
     "text": [
      "accuracy_score: 0.8021848243283142\n",
      "f1_score: 0.8826208829712685\n"
     ]
    }
   ],
   "source": [
    "predict(model1, dbatch3, batch3)"
   ]
  },
  {
   "cell_type": "code",
   "execution_count": 39,
   "id": "4e046806",
   "metadata": {},
   "outputs": [
    {
     "name": "stdout",
     "output_type": "stream",
     "text": [
      "accuracy_score: 0.7884724588302101\n",
      "f1_score: 0.8737502118285037\n"
     ]
    }
   ],
   "source": [
    "predict(model1, dbatch4, batch4)"
   ]
  },
  {
   "cell_type": "code",
   "execution_count": 40,
   "id": "7bc87b41",
   "metadata": {},
   "outputs": [
    {
     "name": "stdout",
     "output_type": "stream",
     "text": [
      "accuracy_score: 0.8285077951002228\n",
      "f1_score: 0.9021601016518425\n"
     ]
    }
   ],
   "source": [
    "predict(model1, dbatch5, batch5)"
   ]
  },
  {
   "cell_type": "markdown",
   "id": "fb31937a",
   "metadata": {},
   "source": [
    "### 2"
   ]
  },
  {
   "cell_type": "code",
   "execution_count": 41,
   "id": "ebc5e8f1",
   "metadata": {},
   "outputs": [],
   "source": [
    "model2 = xgb.train(params, dbatch2, num_boost_round=5, xgb_model=model1)"
   ]
  },
  {
   "cell_type": "code",
   "execution_count": 42,
   "id": "9c287f62",
   "metadata": {},
   "outputs": [
    {
     "name": "stdout",
     "output_type": "stream",
     "text": [
      "accuracy_score: 0.813431537435481\n",
      "f1_score: 0.8879809645406533\n"
     ]
    }
   ],
   "source": [
    "predict(model2, dbatch1, batch1)"
   ]
  },
  {
   "cell_type": "code",
   "execution_count": 43,
   "id": "e047ed23",
   "metadata": {},
   "outputs": [
    {
     "name": "stdout",
     "output_type": "stream",
     "text": [
      "accuracy_score: 0.8190096755833808\n",
      "f1_score: 0.8884992987377279\n"
     ]
    }
   ],
   "source": [
    "predict(model2, dbatch2, batch2)"
   ]
  },
  {
   "cell_type": "code",
   "execution_count": 44,
   "id": "2e3e34fa",
   "metadata": {},
   "outputs": [
    {
     "name": "stdout",
     "output_type": "stream",
     "text": [
      "accuracy_score: 0.8104517271922055\n",
      "f1_score: 0.8855614973262032\n"
     ]
    }
   ],
   "source": [
    "predict(model2, dbatch3, batch3)"
   ]
  },
  {
   "cell_type": "code",
   "execution_count": 45,
   "id": "c8ac5f63",
   "metadata": {},
   "outputs": [
    {
     "name": "stdout",
     "output_type": "stream",
     "text": [
      "accuracy_score: 0.7955706984667802\n",
      "f1_score: 0.8745207389334263\n"
     ]
    }
   ],
   "source": [
    "predict(model2, dbatch4, batch4)"
   ]
  },
  {
   "cell_type": "code",
   "execution_count": 46,
   "id": "433e08b6",
   "metadata": {},
   "outputs": [
    {
     "name": "stdout",
     "output_type": "stream",
     "text": [
      "accuracy_score: 0.8418708240534521\n",
      "f1_score: 0.9076723016905072\n"
     ]
    }
   ],
   "source": [
    "predict(model2, dbatch5, batch5)"
   ]
  },
  {
   "cell_type": "markdown",
   "id": "2eebe39d",
   "metadata": {},
   "source": [
    "### 3"
   ]
  },
  {
   "cell_type": "code",
   "execution_count": 47,
   "id": "2d304e1d",
   "metadata": {},
   "outputs": [],
   "source": [
    "model3 = xgb.train(params, dbatch3, num_boost_round=5, xgb_model=model2)"
   ]
  },
  {
   "cell_type": "code",
   "execution_count": 48,
   "id": "26860f84",
   "metadata": {},
   "outputs": [
    {
     "name": "stdout",
     "output_type": "stream",
     "text": [
      "accuracy_score: 0.8166019060874944\n",
      "f1_score: 0.8881817003170562\n"
     ]
    }
   ],
   "source": [
    "predict(model3, dbatch1, batch1)"
   ]
  },
  {
   "cell_type": "code",
   "execution_count": 49,
   "id": "cbc8cffa",
   "metadata": {},
   "outputs": [
    {
     "name": "stdout",
     "output_type": "stream",
     "text": [
      "accuracy_score: 0.8229937393284007\n",
      "f1_score: 0.888690050107373\n"
     ]
    }
   ],
   "source": [
    "predict(model3, dbatch2, batch2)"
   ]
  },
  {
   "cell_type": "code",
   "execution_count": 50,
   "id": "7fce2ab3",
   "metadata": {},
   "outputs": [
    {
     "name": "stdout",
     "output_type": "stream",
     "text": [
      "accuracy_score: 0.8296427516976675\n",
      "f1_score: 0.8948040109389244\n"
     ]
    }
   ],
   "source": [
    "predict(model3, dbatch3, batch3)"
   ]
  },
  {
   "cell_type": "code",
   "execution_count": 51,
   "id": "c7e933f3",
   "metadata": {},
   "outputs": [
    {
     "name": "stdout",
     "output_type": "stream",
     "text": [
      "accuracy_score: 0.8038046564452016\n",
      "f1_score: 0.8762314168010029\n"
     ]
    }
   ],
   "source": [
    "predict(model3, dbatch4, batch4)"
   ]
  },
  {
   "cell_type": "code",
   "execution_count": 52,
   "id": "f4c94caa",
   "metadata": {},
   "outputs": [
    {
     "name": "stdout",
     "output_type": "stream",
     "text": [
      "accuracy_score: 0.844097995545657\n",
      "f1_score: 0.9086161879895561\n"
     ]
    }
   ],
   "source": [
    "predict(model3, dbatch5, batch5)"
   ]
  },
  {
   "cell_type": "markdown",
   "id": "68a4c61f",
   "metadata": {},
   "source": [
    "### 4"
   ]
  },
  {
   "cell_type": "code",
   "execution_count": 53,
   "id": "4aadf658",
   "metadata": {},
   "outputs": [],
   "source": [
    "model4 = xgb.train(params, dbatch4, num_boost_round=5, xgb_model=model3)"
   ]
  },
  {
   "cell_type": "code",
   "execution_count": 54,
   "id": "82dbb4e2",
   "metadata": {},
   "outputs": [
    {
     "name": "stdout",
     "output_type": "stream",
     "text": [
      "accuracy_score: 0.8121943204005491\n",
      "f1_score: 0.8843135620467509\n"
     ]
    }
   ],
   "source": [
    "predict(model4, dbatch1, batch1)"
   ]
  },
  {
   "cell_type": "code",
   "execution_count": 55,
   "id": "a8d2ed84",
   "metadata": {},
   "outputs": [
    {
     "name": "stdout",
     "output_type": "stream",
     "text": [
      "accuracy_score: 0.8204325554923164\n",
      "f1_score: 0.8855432613821875\n"
     ]
    }
   ],
   "source": [
    "predict(model4, dbatch2, batch2)"
   ]
  },
  {
   "cell_type": "code",
   "execution_count": 56,
   "id": "639ca14e",
   "metadata": {},
   "outputs": [
    {
     "name": "stdout",
     "output_type": "stream",
     "text": [
      "accuracy_score: 0.8355476823147328\n",
      "f1_score: 0.8974783729063132\n"
     ]
    }
   ],
   "source": [
    "predict(model4, dbatch3, batch3)"
   ]
  },
  {
   "cell_type": "code",
   "execution_count": 57,
   "id": "4d711f76",
   "metadata": {},
   "outputs": [
    {
     "name": "stdout",
     "output_type": "stream",
     "text": [
      "accuracy_score: 0.8268029528676888\n",
      "f1_score: 0.8888888888888888\n"
     ]
    }
   ],
   "source": [
    "predict(model4, dbatch4, batch4)"
   ]
  },
  {
   "cell_type": "code",
   "execution_count": 58,
   "id": "c554a016",
   "metadata": {},
   "outputs": [
    {
     "name": "stdout",
     "output_type": "stream",
     "text": [
      "accuracy_score: 0.8507795100222717\n",
      "f1_score: 0.9126466753585397\n"
     ]
    }
   ],
   "source": [
    "predict(model4, dbatch5, batch5)"
   ]
  }
 ],
 "metadata": {
  "kernelspec": {
   "display_name": "Python 3 (ipykernel)",
   "language": "python",
   "name": "python3"
  },
  "language_info": {
   "codemirror_mode": {
    "name": "ipython",
    "version": 3
   },
   "file_extension": ".py",
   "mimetype": "text/x-python",
   "name": "python",
   "nbconvert_exporter": "python",
   "pygments_lexer": "ipython3",
   "version": "3.9.13"
  }
 },
 "nbformat": 4,
 "nbformat_minor": 5
}
