{
 "cells": [
  {
   "cell_type": "code",
   "execution_count": 25,
   "metadata": {
    "id": "71yGeZ9aXI__",
    "ExecuteTime": {
     "end_time": "2023-12-29T00:56:11.424779700Z",
     "start_time": "2023-12-29T00:56:11.383901600Z"
    }
   },
   "outputs": [],
   "source": [
    "import pandas as pd\n",
    "import matplotlib.pyplot as plt\n",
    "import seaborn as sns\n",
    "import numpy as np\n",
    "import datetime\n",
    "from datetime import date,timedelta\n",
    "\n",
    "import xgboost as xgb\n",
    "from sklearn.metrics import mean_squared_error\n",
    "from sklearn.model_selection import GridSearchCV\n",
    "from sklearn.metrics import mean_absolute_percentage_error\n",
    "from sklearn.metrics import mean_absolute_error\n",
    "from sklearn.metrics import r2_score\n",
    "from sklearn.model_selection import cross_val_score\n",
    "from sklearn.model_selection import KFold"
   ]
  },
  {
   "cell_type": "code",
   "execution_count": 26,
   "metadata": {
    "id": "paNbm39n_I_l",
    "ExecuteTime": {
     "end_time": "2023-12-29T00:56:12.213610100Z",
     "start_time": "2023-12-29T00:56:12.109545Z"
    }
   },
   "outputs": [],
   "source": [
    "import time\n",
    "import datetime\n",
    "\n",
    "import numpy as np\n",
    "import pandas as pd\n",
    "import tensorflow as tf\n",
    "\n",
    "import keras\n",
    "from keras.models import Sequential\n",
    "from keras.layers import *\n",
    "from keras.optimizers import RMSprop\n",
    "from keras.callbacks import CSVLogger, EarlyStopping\n"
   ]
  },
  {
   "cell_type": "code",
   "execution_count": 96,
   "metadata": {
    "id": "Mi-zF_1L9nXg",
    "ExecuteTime": {
     "end_time": "2023-12-29T03:59:54.897811100Z",
     "start_time": "2023-12-29T03:59:46.596091600Z"
    }
   },
   "outputs": [],
   "source": [
    "path= 'bus_running_times_feature_added_all.csv'\n",
    "data = pd.read_csv(path)\n",
    "\n",
    "data = data.drop(data[data['run_time_in_seconds'] > 2000].index )\n",
    "data = data.loc[(data['time_of_day']>= 6) & (data['time_of_day']<19)]\n",
    "data = data[data['direction']==1]"
   ]
  },
  {
   "cell_type": "markdown",
   "metadata": {
    "id": "ufIDVysF2ZI6"
   },
   "source": [
    "PrepData\n"
   ]
  },
  {
   "cell_type": "code",
   "execution_count": 97,
   "metadata": {
    "id": "zz-sHyr404z7",
    "executionInfo": {
     "status": "ok",
     "timestamp": 1679555661186,
     "user_tz": -330,
     "elapsed": 1285,
     "user": {
      "displayName": "Ratneswaran Shiveswarran",
      "userId": "08087910107780316512"
     }
    },
    "colab": {
     "base_uri": "https://localhost:8080/",
     "height": 1000
    },
    "outputId": "c952dcc6-790f-4b94-cec9-b1f99dd564be",
    "ExecuteTime": {
     "end_time": "2023-12-29T04:00:04.982119300Z",
     "start_time": "2023-12-29T03:59:58.379190500Z"
    }
   },
   "outputs": [
    {
     "data": {
      "text/plain": "        trip_id  deviceid  direction  segment        date start_time  \\\n0           1.0     262.0        1.0      1.0  2021-10-01   06:39:49   \n1           1.0     262.0        1.0      2.0  2021-10-01   06:42:12   \n2           1.0     262.0        1.0      3.0  2021-10-01   06:45:42   \n3           1.0     262.0        1.0      4.0  2021-10-01   06:54:04   \n4           1.0     262.0        1.0      5.0  2021-10-01   06:57:19   \n...         ...       ...        ...      ...         ...        ...   \n173720  25370.0     121.0        1.0     11.0  2022-11-01   18:47:53   \n173721  25370.0     121.0        1.0     12.0  2022-11-01   18:50:15   \n173722  25370.0     121.0        1.0     13.0  2022-11-01   18:52:50   \n173723  25370.0     121.0        1.0     14.0  2022-11-01   18:55:14   \n173724  25370.0     121.0        1.0     15.0  2022-11-01   18:57:10   \n\n        end_time         run_time  run_time_in_seconds  length  ...  month  \\\n0       06:40:58  0 days 00:01:09                 69.0  0.6261  ...   10.0   \n1       06:45:42  0 days 00:03:30                210.0  1.2808  ...   10.0   \n2       06:53:58  0 days 00:08:16                496.0  2.1125  ...   10.0   \n3       06:57:19  0 days 00:03:15                195.0  1.5513  ...   10.0   \n4       06:58:56  0 days 00:01:37                 97.0  0.8450  ...   10.0   \n...          ...              ...                  ...     ...  ...    ...   \n173720  18:50:08          0:02:15                135.0  1.1000  ...   11.0   \n173721  18:52:39          0:02:24                144.0  1.3100  ...   11.0   \n173722  18:55:01          0:02:11                131.0  1.1500  ...   11.0   \n173723  18:56:55          0:01:41                101.0  0.8900  ...   11.0   \n173724  19:02:30          0:05:20                320.0  1.9700  ...   11.0   \n\n        temp  precip  windspeed        conditions  dt(n-1)  \\\n0       20.0     0.0        6.1  Partially cloudy      0.0   \n1       20.0     0.0        6.1  Partially cloudy     74.0   \n2       20.0     0.0        6.1  Partially cloudy      0.0   \n3       20.0     0.0        6.1  Partially cloudy      6.0   \n4       20.0     0.0        6.1  Partially cloudy      0.0   \n...      ...     ...        ...               ...      ...   \n173720  20.5     0.0        8.3          Overcast     15.0   \n173721  20.5     0.0        8.3          Overcast      7.0   \n173722  20.5     0.0        8.3          Overcast     11.0   \n173723  20.5     0.0        8.3          Overcast     13.0   \n173724  20.5     0.0        8.3          Overcast     15.0   \n\n                  DateTime         DateTimeRef  DayOfWeek          DowTimeRef  \n0      2021-10-01 06:39:49 2021-10-01 06:30:00          4 1970-01-05 06:30:00  \n1      2021-10-01 06:42:12 2021-10-01 06:30:00          4 1970-01-05 06:30:00  \n2      2021-10-01 06:45:42 2021-10-01 06:45:00          4 1970-01-05 06:45:00  \n3      2021-10-01 06:54:04 2021-10-01 06:45:00          4 1970-01-05 06:45:00  \n4      2021-10-01 06:57:19 2021-10-01 06:45:00          4 1970-01-05 06:45:00  \n...                    ...                 ...        ...                 ...  \n173720 2022-11-01 18:47:53 2022-11-01 18:45:00          1 1970-01-02 18:45:00  \n173721 2022-11-01 18:50:15 2022-11-01 18:45:00          1 1970-01-02 18:45:00  \n173722 2022-11-01 18:52:50 2022-11-01 18:45:00          1 1970-01-02 18:45:00  \n173723 2022-11-01 18:55:14 2022-11-01 18:45:00          1 1970-01-02 18:45:00  \n173724 2022-11-01 18:57:10 2022-11-01 18:45:00          1 1970-01-02 18:45:00  \n\n[97833 rows x 36 columns]",
      "text/html": "<div>\n<style scoped>\n    .dataframe tbody tr th:only-of-type {\n        vertical-align: middle;\n    }\n\n    .dataframe tbody tr th {\n        vertical-align: top;\n    }\n\n    .dataframe thead th {\n        text-align: right;\n    }\n</style>\n<table border=\"1\" class=\"dataframe\">\n  <thead>\n    <tr style=\"text-align: right;\">\n      <th></th>\n      <th>trip_id</th>\n      <th>deviceid</th>\n      <th>direction</th>\n      <th>segment</th>\n      <th>date</th>\n      <th>start_time</th>\n      <th>end_time</th>\n      <th>run_time</th>\n      <th>run_time_in_seconds</th>\n      <th>length</th>\n      <th>...</th>\n      <th>month</th>\n      <th>temp</th>\n      <th>precip</th>\n      <th>windspeed</th>\n      <th>conditions</th>\n      <th>dt(n-1)</th>\n      <th>DateTime</th>\n      <th>DateTimeRef</th>\n      <th>DayOfWeek</th>\n      <th>DowTimeRef</th>\n    </tr>\n  </thead>\n  <tbody>\n    <tr>\n      <th>0</th>\n      <td>1.0</td>\n      <td>262.0</td>\n      <td>1.0</td>\n      <td>1.0</td>\n      <td>2021-10-01</td>\n      <td>06:39:49</td>\n      <td>06:40:58</td>\n      <td>0 days 00:01:09</td>\n      <td>69.0</td>\n      <td>0.6261</td>\n      <td>...</td>\n      <td>10.0</td>\n      <td>20.0</td>\n      <td>0.0</td>\n      <td>6.1</td>\n      <td>Partially cloudy</td>\n      <td>0.0</td>\n      <td>2021-10-01 06:39:49</td>\n      <td>2021-10-01 06:30:00</td>\n      <td>4</td>\n      <td>1970-01-05 06:30:00</td>\n    </tr>\n    <tr>\n      <th>1</th>\n      <td>1.0</td>\n      <td>262.0</td>\n      <td>1.0</td>\n      <td>2.0</td>\n      <td>2021-10-01</td>\n      <td>06:42:12</td>\n      <td>06:45:42</td>\n      <td>0 days 00:03:30</td>\n      <td>210.0</td>\n      <td>1.2808</td>\n      <td>...</td>\n      <td>10.0</td>\n      <td>20.0</td>\n      <td>0.0</td>\n      <td>6.1</td>\n      <td>Partially cloudy</td>\n      <td>74.0</td>\n      <td>2021-10-01 06:42:12</td>\n      <td>2021-10-01 06:30:00</td>\n      <td>4</td>\n      <td>1970-01-05 06:30:00</td>\n    </tr>\n    <tr>\n      <th>2</th>\n      <td>1.0</td>\n      <td>262.0</td>\n      <td>1.0</td>\n      <td>3.0</td>\n      <td>2021-10-01</td>\n      <td>06:45:42</td>\n      <td>06:53:58</td>\n      <td>0 days 00:08:16</td>\n      <td>496.0</td>\n      <td>2.1125</td>\n      <td>...</td>\n      <td>10.0</td>\n      <td>20.0</td>\n      <td>0.0</td>\n      <td>6.1</td>\n      <td>Partially cloudy</td>\n      <td>0.0</td>\n      <td>2021-10-01 06:45:42</td>\n      <td>2021-10-01 06:45:00</td>\n      <td>4</td>\n      <td>1970-01-05 06:45:00</td>\n    </tr>\n    <tr>\n      <th>3</th>\n      <td>1.0</td>\n      <td>262.0</td>\n      <td>1.0</td>\n      <td>4.0</td>\n      <td>2021-10-01</td>\n      <td>06:54:04</td>\n      <td>06:57:19</td>\n      <td>0 days 00:03:15</td>\n      <td>195.0</td>\n      <td>1.5513</td>\n      <td>...</td>\n      <td>10.0</td>\n      <td>20.0</td>\n      <td>0.0</td>\n      <td>6.1</td>\n      <td>Partially cloudy</td>\n      <td>6.0</td>\n      <td>2021-10-01 06:54:04</td>\n      <td>2021-10-01 06:45:00</td>\n      <td>4</td>\n      <td>1970-01-05 06:45:00</td>\n    </tr>\n    <tr>\n      <th>4</th>\n      <td>1.0</td>\n      <td>262.0</td>\n      <td>1.0</td>\n      <td>5.0</td>\n      <td>2021-10-01</td>\n      <td>06:57:19</td>\n      <td>06:58:56</td>\n      <td>0 days 00:01:37</td>\n      <td>97.0</td>\n      <td>0.8450</td>\n      <td>...</td>\n      <td>10.0</td>\n      <td>20.0</td>\n      <td>0.0</td>\n      <td>6.1</td>\n      <td>Partially cloudy</td>\n      <td>0.0</td>\n      <td>2021-10-01 06:57:19</td>\n      <td>2021-10-01 06:45:00</td>\n      <td>4</td>\n      <td>1970-01-05 06:45:00</td>\n    </tr>\n    <tr>\n      <th>...</th>\n      <td>...</td>\n      <td>...</td>\n      <td>...</td>\n      <td>...</td>\n      <td>...</td>\n      <td>...</td>\n      <td>...</td>\n      <td>...</td>\n      <td>...</td>\n      <td>...</td>\n      <td>...</td>\n      <td>...</td>\n      <td>...</td>\n      <td>...</td>\n      <td>...</td>\n      <td>...</td>\n      <td>...</td>\n      <td>...</td>\n      <td>...</td>\n      <td>...</td>\n      <td>...</td>\n    </tr>\n    <tr>\n      <th>173720</th>\n      <td>25370.0</td>\n      <td>121.0</td>\n      <td>1.0</td>\n      <td>11.0</td>\n      <td>2022-11-01</td>\n      <td>18:47:53</td>\n      <td>18:50:08</td>\n      <td>0:02:15</td>\n      <td>135.0</td>\n      <td>1.1000</td>\n      <td>...</td>\n      <td>11.0</td>\n      <td>20.5</td>\n      <td>0.0</td>\n      <td>8.3</td>\n      <td>Overcast</td>\n      <td>15.0</td>\n      <td>2022-11-01 18:47:53</td>\n      <td>2022-11-01 18:45:00</td>\n      <td>1</td>\n      <td>1970-01-02 18:45:00</td>\n    </tr>\n    <tr>\n      <th>173721</th>\n      <td>25370.0</td>\n      <td>121.0</td>\n      <td>1.0</td>\n      <td>12.0</td>\n      <td>2022-11-01</td>\n      <td>18:50:15</td>\n      <td>18:52:39</td>\n      <td>0:02:24</td>\n      <td>144.0</td>\n      <td>1.3100</td>\n      <td>...</td>\n      <td>11.0</td>\n      <td>20.5</td>\n      <td>0.0</td>\n      <td>8.3</td>\n      <td>Overcast</td>\n      <td>7.0</td>\n      <td>2022-11-01 18:50:15</td>\n      <td>2022-11-01 18:45:00</td>\n      <td>1</td>\n      <td>1970-01-02 18:45:00</td>\n    </tr>\n    <tr>\n      <th>173722</th>\n      <td>25370.0</td>\n      <td>121.0</td>\n      <td>1.0</td>\n      <td>13.0</td>\n      <td>2022-11-01</td>\n      <td>18:52:50</td>\n      <td>18:55:01</td>\n      <td>0:02:11</td>\n      <td>131.0</td>\n      <td>1.1500</td>\n      <td>...</td>\n      <td>11.0</td>\n      <td>20.5</td>\n      <td>0.0</td>\n      <td>8.3</td>\n      <td>Overcast</td>\n      <td>11.0</td>\n      <td>2022-11-01 18:52:50</td>\n      <td>2022-11-01 18:45:00</td>\n      <td>1</td>\n      <td>1970-01-02 18:45:00</td>\n    </tr>\n    <tr>\n      <th>173723</th>\n      <td>25370.0</td>\n      <td>121.0</td>\n      <td>1.0</td>\n      <td>14.0</td>\n      <td>2022-11-01</td>\n      <td>18:55:14</td>\n      <td>18:56:55</td>\n      <td>0:01:41</td>\n      <td>101.0</td>\n      <td>0.8900</td>\n      <td>...</td>\n      <td>11.0</td>\n      <td>20.5</td>\n      <td>0.0</td>\n      <td>8.3</td>\n      <td>Overcast</td>\n      <td>13.0</td>\n      <td>2022-11-01 18:55:14</td>\n      <td>2022-11-01 18:45:00</td>\n      <td>1</td>\n      <td>1970-01-02 18:45:00</td>\n    </tr>\n    <tr>\n      <th>173724</th>\n      <td>25370.0</td>\n      <td>121.0</td>\n      <td>1.0</td>\n      <td>15.0</td>\n      <td>2022-11-01</td>\n      <td>18:57:10</td>\n      <td>19:02:30</td>\n      <td>0:05:20</td>\n      <td>320.0</td>\n      <td>1.9700</td>\n      <td>...</td>\n      <td>11.0</td>\n      <td>20.5</td>\n      <td>0.0</td>\n      <td>8.3</td>\n      <td>Overcast</td>\n      <td>15.0</td>\n      <td>2022-11-01 18:57:10</td>\n      <td>2022-11-01 18:45:00</td>\n      <td>1</td>\n      <td>1970-01-02 18:45:00</td>\n    </tr>\n  </tbody>\n</table>\n<p>97833 rows × 36 columns</p>\n</div>"
     },
     "execution_count": 97,
     "metadata": {},
     "output_type": "execute_result"
    }
   ],
   "source": [
    "data['DateTime'] = pd.to_datetime(data['date'] + ' ' + data['start_time'])\n",
    "\n",
    "ref_freq = '15min'\n",
    "ix = pd.DatetimeIndex(pd.to_datetime(data['DateTime'])).floor(ref_freq)\n",
    "\n",
    "data[\"DateTimeRef\"] = ix\n",
    "\n",
    "data['DayOfWeek'] = pd.to_datetime(data['date']).dt.weekday\n",
    "data[\"DowTimeRef\"] = pd.to_datetime((data['DayOfWeek'].values ) * 24 * 60 * 60 + ix.hour * 60 * 60 + ix.minute * 60, unit = 's')\n",
    "\n",
    "data"
   ]
  },
  {
   "cell_type": "code",
   "source": [
    "def datetime_index_generator(start_date,end_date,start_time,end_time,freq):\n",
    "  date_range = pd.date_range(start_date, end_date, freq='D')\n",
    "  date_list = [i.strftime('%Y-%m-%d') for i in date_range]\n",
    "  datetime_series = pd.Series()\n",
    "\n",
    "  for date in date_list:\n",
    "    begin_timestamp = pd.to_datetime(date + ' ' + start_time )\n",
    "    end_timestamp = pd.to_datetime(date + ' ' + end_time )\n",
    "    daily_time_range = pd.Series(index = pd.date_range(begin_timestamp,end_timestamp,freq = freq))\n",
    "\n",
    "    datetime_series = pd.concat([datetime_series,daily_time_range ]).sort_index()\n",
    "\n",
    "  return datetime_series"
   ],
   "metadata": {
    "id": "MHK2NchBwVzg",
    "ExecuteTime": {
     "end_time": "2023-12-29T01:34:49.477451800Z",
     "start_time": "2023-12-29T01:34:49.436570300Z"
    }
   },
   "execution_count": 50,
   "outputs": []
  },
  {
   "cell_type": "markdown",
   "metadata": {
    "id": "WxDcpVsH3SUb"
   },
   "source": [
    "Fit_scale"
   ]
  },
  {
   "cell_type": "code",
   "execution_count": 73,
   "metadata": {
    "id": "ydjyy6D9VEwi",
    "ExecuteTime": {
     "end_time": "2023-12-29T03:09:46.382694100Z",
     "start_time": "2023-12-29T03:09:46.275650Z"
    }
   },
   "outputs": [],
   "source": [
    "def fit_scale(data, ref_freq = '15min'):\n",
    "  means = { }\n",
    "  scales = { }\n",
    "  low = { }\n",
    "  upr = { }\n",
    "\n",
    "  grouping = data[data['run_time_in_seconds'].notnull()].groupby('segment', sort = False)\n",
    "\n",
    "  for segment, data_link in grouping:\n",
    "        # Fit outlier bounds using MAD\n",
    "        median = data_link.groupby('DowTimeRef')['run_time_in_seconds'].median()\n",
    "        error = pd.concat([data_link['DowTimeRef'], np.abs(data_link['run_time_in_seconds'] - median[data_link['DowTimeRef']].values)], axis = 1)\n",
    "        mad = 1.4826 * error.groupby('DowTimeRef')['run_time_in_seconds'].median()\n",
    "        \n",
    "        _low = median - 3 * mad\n",
    "        _upr = median + 3 * mad\n",
    "        mask = (_low[data_link['DowTimeRef']].values < data_link['run_time_in_seconds']) & (data_link['run_time_in_seconds'] < _upr[data_link['DowTimeRef']].values)\n",
    "        data_link_no = data_link[mask]\n",
    "        \n",
    "        _mean = data_link_no.groupby('DowTimeRef')[\"run_time_in_seconds\"].mean()\n",
    "        means[segment] = _mean\n",
    "        low[segment] = _low\n",
    "        upr[segment] = _upr\n",
    "        scales[segment] = data_link_no['run_time_in_seconds'].std()\n",
    "\n",
    "  #ix = pd.date_range('1970-01-01', '1970-01-08', freq = ref_freq, closed = 'left')\n",
    "  index_series = datetime_index_generator('1970-01-01','1970-01-07','06:00:00','19:00:00',freq='15min')\n",
    "  ix = index_series.index\n",
    "  means_df = pd.DataFrame(data = means, index = ix).interpolate()\n",
    "  low_df = pd.DataFrame(data = low, index = ix).interpolate()\n",
    "  upr_df = pd.DataFrame(data = upr, index = ix).interpolate()\n",
    "\n",
    "  means_df = means_df.fillna(method='pad').fillna(method='bfill')\n",
    "  low_df = low_df.fillna(method='pad').fillna(method='bfill')\n",
    "  upr_df = upr_df.fillna(method='pad').fillna(method='bfill')\n",
    "  return means_df, scales, low_df, upr_df\n"
   ]
  },
  {
   "cell_type": "markdown",
   "source": [
    "Time series index generator"
   ],
   "metadata": {
    "id": "lUDGzxgUA8rR"
   }
  },
  {
   "cell_type": "code",
   "source": [
    "s1 = datetime_index_generator('2021-10-01','2022-02-28','06:00:00','19:00:00',freq='15min')\n",
    "s2 = datetime_index_generator('2022-07-01','2022-11-01','06:00:00','19:00:00',freq='15min')\n",
    "\n",
    "s = pd.concat([s1,s2]).sort_index()\n",
    "\n",
    "datetime_index = s.index\n",
    "\n",
    "datetime_index"
   ],
   "metadata": {
    "colab": {
     "base_uri": "https://localhost:8080/"
    },
    "id": "Kr-LvQ1jk9P0",
    "executionInfo": {
     "status": "ok",
     "timestamp": 1679555661187,
     "user_tz": -330,
     "elapsed": 71,
     "user": {
      "displayName": "Ratneswaran Shiveswarran",
      "userId": "08087910107780316512"
     }
    },
    "outputId": "895a16e3-fbb7-4971-fd57-c976b566fd61",
    "ExecuteTime": {
     "end_time": "2023-12-29T04:00:17.718234Z",
     "start_time": "2023-12-29T04:00:16.289035600Z"
    }
   },
   "execution_count": 98,
   "outputs": [
    {
     "name": "stderr",
     "output_type": "stream",
     "text": [
      "C:\\Users\\shang\\AppData\\Local\\Temp\\ipykernel_42228\\1703285400.py:11: FutureWarning: The behavior of array concatenation with empty entries is deprecated. In a future version, this will no longer exclude empty items when determining the result dtype. To retain the old behavior, exclude the empty entries before the concat operation.\n",
      "  datetime_series = pd.concat([datetime_series,daily_time_range ]).sort_index()\n",
      "C:\\Users\\shang\\AppData\\Local\\Temp\\ipykernel_42228\\1703285400.py:11: FutureWarning: The behavior of array concatenation with empty entries is deprecated. In a future version, this will no longer exclude empty items when determining the result dtype. To retain the old behavior, exclude the empty entries before the concat operation.\n",
      "  datetime_series = pd.concat([datetime_series,daily_time_range ]).sort_index()\n"
     ]
    },
    {
     "data": {
      "text/plain": "DatetimeIndex(['2021-10-01 06:00:00', '2021-10-01 06:15:00',\n               '2021-10-01 06:30:00', '2021-10-01 06:45:00',\n               '2021-10-01 07:00:00', '2021-10-01 07:15:00',\n               '2021-10-01 07:30:00', '2021-10-01 07:45:00',\n               '2021-10-01 08:00:00', '2021-10-01 08:15:00',\n               ...\n               '2022-11-01 16:45:00', '2022-11-01 17:00:00',\n               '2022-11-01 17:15:00', '2022-11-01 17:30:00',\n               '2022-11-01 17:45:00', '2022-11-01 18:00:00',\n               '2022-11-01 18:15:00', '2022-11-01 18:30:00',\n               '2022-11-01 18:45:00', '2022-11-01 19:00:00'],\n              dtype='datetime64[ns]', length=14575, freq=None)"
     },
     "execution_count": 98,
     "metadata": {},
     "output_type": "execute_result"
    }
   ]
  },
  {
   "cell_type": "markdown",
   "source": [
    "Outliers"
   ],
   "metadata": {
    "id": "1ExIQJLUCZk7"
   }
  },
  {
   "cell_type": "code",
   "source": [
    "def remove_outliers(data, low, upr):\n",
    "    _low = low.lookup(data['DowTimeRef'], data['segment'])\n",
    "    _upr = upr.lookup(data['DowTimeRef'], data['segment'])\n",
    "    mask = ((_low < data['run_time_in_seconds']) & (data['run_time_in_seconds'] < _upr))\n",
    "    data = data.loc[mask].copy()\n",
    "    return data, (~mask).sum()"
   ],
   "metadata": {
    "id": "qeQOWkTrCa9z",
    "ExecuteTime": {
     "end_time": "2023-12-29T04:00:25.404050900Z",
     "start_time": "2023-12-29T04:00:25.319529700Z"
    }
   },
   "execution_count": 99,
   "outputs": []
  },
  {
   "cell_type": "markdown",
   "metadata": {
    "id": "er_nZd32OWan"
   },
   "source": [
    "Transform"
   ]
  },
  {
   "cell_type": "code",
   "execution_count": 14,
   "metadata": {
    "id": "oE9uQH7fVnyC",
    "ExecuteTime": {
     "end_time": "2023-12-17T14:18:09.378987200Z",
     "start_time": "2023-12-17T14:18:09.339322900Z"
    }
   },
   "outputs": [],
   "source": [
    "def transform(data, means_df, scales,datetime_index, freq = '15min'):\n",
    "  tss = { }\n",
    "  ws = { }\n",
    "  removed_mean = { }\n",
    "  removed_scale = { }\n",
    "  ks = []\n",
    "  \n",
    "  for k, v in data.groupby('segment', sort = False):\n",
    "        # Link Data Time Indexed\n",
    "        link_time_ix = pd.DatetimeIndex(pd.to_datetime(v['DateTime']))    \n",
    "        link_time_ixd = v.set_index(link_time_ix)\n",
    "        \n",
    "        # Link Reference Data Index\n",
    "        ix_ref = link_time_ixd['DowTimeRef']  \n",
    "\n",
    "        link_travel_time_k = link_time_ixd['run_time_in_seconds'].resample(freq).mean()\n",
    "        link_travel_time_k = link_travel_time_k[link_travel_time_k.index.isin(datetime_index)]\n",
    "        \n",
    "        removed_mean[k] = pd.Series(data = means_df.loc[ix_ref, k].values, index = link_time_ix).resample(freq).mean()\n",
    "        removed_mean[k] = removed_mean[k][removed_mean[k].index.isin(datetime_index)]\n",
    "\n",
    "        removed_scale[k] = pd.Series(data = np.repeat(scales[k], link_travel_time_k.shape[0]), index = link_travel_time_k.index)\n",
    "        tss[k] = (link_travel_time_k - removed_mean[k].values) / removed_scale[k].values\n",
    "        \n",
    "        ws[k] = link_time_ixd['run_time_in_seconds'].resample(freq).count()\n",
    "        ws[k] = ws[k][ws[k].index.isin(datetime_index)]\n",
    "\n",
    "        ks.append(k)\n",
    "\n",
    "  ts = pd.DataFrame(data = tss).fillna(method='pad').fillna(0) # Link Travel Time Time Series\n",
    "  df_removed_mean = pd.DataFrame(data = removed_mean, index = ts.index).fillna(method='pad').fillna(method='bfill') # Removed Mean from Link Travel Time\n",
    "  df_removed_scale = pd.DataFrame(data = removed_scale, index = ts.index).fillna(method='pad').fillna(method='bfill')\n",
    "  w = pd.DataFrame(data = ws).fillna(0) # Link Travel Time Weights, e.g. number of measurements\n",
    "\n",
    "  return (ts.index, ts.values, df_removed_mean.values, df_removed_scale.values, w.values, ks)\n"
   ]
  },
  {
   "cell_type": "code",
   "execution_count": 15,
   "metadata": {
    "id": "7lxgYKUyOWH5",
    "ExecuteTime": {
     "end_time": "2023-12-17T14:18:12.333903900Z",
     "start_time": "2023-12-17T14:18:12.303125900Z"
    }
   },
   "outputs": [],
   "source": [
    "def roll(ix, ts, removed_mean, removed_scale, w, lags, preds):\n",
    "    X = np.stack([np.roll(ts, i, axis = 0) for i in range(lags, 0, -1)], axis = 1)[lags:-preds,]\n",
    "    Y = np.stack([np.roll(ts, -i, axis = 0) for i in range(0, preds, 1)], axis = 1)[lags:-preds,]\n",
    "    Y_ix = ix[lags:-preds]\n",
    "    Y_mean = np.stack([np.roll(removed_mean, -i, axis = 0) for i in range(0, preds, 1)], axis = 1)[lags:-preds,]\n",
    "    Y_scale = np.stack([np.roll(removed_scale, -i, axis = 0) for i in range(0, preds, 1)], axis = 1)[lags:-preds,]\n",
    "    w_y = np.stack([np.roll(w, -i, axis = 0) for i in range(0, preds, 1)], axis = 1)[lags:-preds,]\n",
    "\n",
    "    return X, Y, Y_ix, Y_mean, Y_scale, w_y"
   ]
  },
  {
   "cell_type": "markdown",
   "metadata": {
    "id": "RVq024P9AQUU"
   },
   "source": [
    "Model Definition"
   ]
  },
  {
   "cell_type": "code",
   "execution_count": 16,
   "metadata": {
    "id": "ci9cT7N2CwWb",
    "ExecuteTime": {
     "end_time": "2023-12-17T14:18:18.067933700Z",
     "start_time": "2023-12-17T14:18:18.037539900Z"
    }
   },
   "outputs": [],
   "source": [
    "def build_model(input_timesteps, output_timesteps, num_links):\n",
    "    model = Sequential()\n",
    "    model.add(BatchNormalization(name = 'batch_norm_0', input_shape = (input_timesteps, num_links, 1, 1)))\n",
    "    model.add(ConvLSTM2D(name ='conv_lstm_1',\n",
    "                         filters = 64, kernel_size = (10, 1),                       \n",
    "                         padding = 'same', \n",
    "                         return_sequences = True))\n",
    "    \n",
    "    model.add(Dropout(0.2, name = 'dropout_1'))\n",
    "    model.add(BatchNormalization(name = 'batch_norm_1'))\n",
    "\n",
    "    model.add(ConvLSTM2D(name ='conv_lstm_2',\n",
    "                         filters = 64, kernel_size = (5, 1), \n",
    "                         padding='same',\n",
    "                         return_sequences = False))\n",
    "    \n",
    "    model.add(Dropout(0.1, name = 'dropout_2'))\n",
    "    model.add(BatchNormalization(name = 'batch_norm_2'))\n",
    "    \n",
    "    model.add(Flatten())\n",
    "    model.add(RepeatVector(output_timesteps))\n",
    "    model.add(Reshape((output_timesteps, num_links, 1, 64)))\n",
    "    \n",
    "    model.add(ConvLSTM2D(name ='conv_lstm_3',\n",
    "                         filters = 64, kernel_size = (10, 1), \n",
    "                         padding='same',\n",
    "                         return_sequences = True))\n",
    "    \n",
    "    model.add(Dropout(0.1, name = 'dropout_3'))\n",
    "    model.add(BatchNormalization(name = 'batch_norm_3'))\n",
    "    \n",
    "    model.add(ConvLSTM2D(name ='conv_lstm_4',\n",
    "                         filters = 64, kernel_size = (5, 1), \n",
    "                         padding='same',\n",
    "                         return_sequences = True))\n",
    "    \n",
    "    model.add(TimeDistributed(Dense(units=1, name = 'dense_1', activation = 'relu')))\n",
    "    model.add(TimeDistributed(Dense(units=1, name = 'dense_1', activation = 'relu')))\n",
    "    #model.add(Dense(units=1, name = 'dense_2'))\n",
    "\n",
    "    optimizer = RMSprop(lr=0.0001, rho=0.9, epsilon=1e-08, decay=0.9)\n",
    "    model.compile(loss = \"mse\", optimizer = optimizer)\n",
    "    return model"
   ]
  },
  {
   "cell_type": "code",
   "source": [
    "def build_model(input_timesteps, output_timesteps, num_links):\n",
    "    model = Sequential()\n",
    "    #model.add(BatchNormalization(name = 'batch_norm_0', input_shape = (input_timesteps, num_links, 1, 1)))\n",
    "    model.add(ConvLSTM2D(name ='conv_lstm_1',\n",
    "                         filters = 64, kernel_size = (10, 1),                       \n",
    "                         padding = 'same', \n",
    "                         return_sequences = True))\n",
    "    \n",
    "    model.add(Dropout(0.2, name = 'dropout_1'))\n",
    "    #model.add(BatchNormalization(name = 'batch_norm_1'))\n",
    "    \n",
    "    model.add(Flatten())\n",
    "    model.add(RepeatVector(output_timesteps))\n",
    "    model.add(Reshape((output_timesteps, num_links, 1, 64)))\n",
    "    \n",
    "    model.add(ConvLSTM2D(name ='conv_lstm_2',\n",
    "                         filters = 64, kernel_size = (10, 1), \n",
    "                         padding='same',\n",
    "                         return_sequences = True))\n",
    "    \n",
    "    model.add(Dropout(0.1, name = 'dropout_2'))\n",
    "\n",
    "    \n",
    "    model.add(TimeDistributed(Dense(units=1, name = 'dense_1', activation = 'relu')))\n",
    "    #model.add(TimeDistributed(Dense(units=1, name = 'dense_1', activation = 'relu')))\n",
    "    #model.add(Dense(units=1, name = 'dense_2'))\n",
    "\n",
    "    optimizer = RMSprop(lr=0.0001, rho=0.9, epsilon=1e-08)\n",
    "    model.compile(loss = \"mse\", optimizer = optimizer)\n",
    "    return model"
   ],
   "metadata": {
    "id": "Cm0nl4f0ERMT",
    "ExecuteTime": {
     "end_time": "2023-12-30T06:43:32.046755300Z",
     "start_time": "2023-12-30T06:43:32.020111200Z"
    }
   },
   "execution_count": 110,
   "outputs": []
  },
  {
   "cell_type": "code",
   "execution_count": 18,
   "metadata": {
    "id": "HRUG8r3tCi-l",
    "ExecuteTime": {
     "end_time": "2023-12-17T14:18:25.122605600Z",
     "start_time": "2023-12-17T14:18:25.089525700Z"
    }
   },
   "outputs": [],
   "source": [
    "def info(msg):\n",
    "    print(datetime.datetime.now().strftime('%Y-%m-%d %H:%M:%S') + \" \" + msg)"
   ]
  },
  {
   "cell_type": "markdown",
   "metadata": {
    "id": "IMfrkDXwDuvT"
   },
   "source": [
    "Load Data"
   ]
  },
  {
   "cell_type": "code",
   "execution_count": null,
   "metadata": {
    "id": "ahJN9jZcDuNz"
   },
   "outputs": [],
   "source": []
  },
  {
   "cell_type": "code",
   "execution_count": 100,
   "metadata": {
    "id": "k8600RItSn_U",
    "ExecuteTime": {
     "end_time": "2023-12-29T04:00:34.038067Z",
     "start_time": "2023-12-29T04:00:33.898809900Z"
    }
   },
   "outputs": [],
   "source": [
    "lags = 4 * 13\n",
    "preds = 3"
   ]
  },
  {
   "cell_type": "code",
   "execution_count": 101,
   "metadata": {
    "id": "nl9mG4-rYJtT",
    "ExecuteTime": {
     "end_time": "2023-12-29T04:00:35.050870200Z",
     "start_time": "2023-12-29T04:00:34.875638Z"
    }
   },
   "outputs": [],
   "source": [
    "n = len(data)"
   ]
  },
  {
   "cell_type": "markdown",
   "metadata": {
    "id": "q9MQJmEUCnMu"
   },
   "source": [
    "Train and Test"
   ]
  },
  {
   "cell_type": "code",
   "execution_count": 102,
   "metadata": {
    "colab": {
     "base_uri": "https://localhost:8080/"
    },
    "executionInfo": {
     "elapsed": 964,
     "status": "ok",
     "timestamp": 1679555662096,
     "user": {
      "displayName": "Ratneswaran Shiveswarran",
      "userId": "08087910107780316512"
     },
     "user_tz": -330
    },
    "id": "YXWpIqogWiw2",
    "outputId": "6a3b2d6d-7aea-4171-bffb-618121173708",
    "ExecuteTime": {
     "end_time": "2023-12-29T04:00:38.254163Z",
     "start_time": "2023-12-29T04:00:38.090450900Z"
    }
   },
   "outputs": [
    {
     "name": "stdout",
     "output_type": "stream",
     "text": [
      "2023-12-29 09:30:38 - Train size :    78957 (80.71%) \n",
      "2023-12-29 09:30:38 - Test size  :    18876 (19.29%) \n"
     ]
    }
   ],
   "source": [
    "data_train = data[data['week_no'] < 36]\n",
    "data_test = data[36 <= data['week_no']]\n",
    "n_train = len(data_train)\n",
    "n_test = len(data_test)\n",
    "info('- Train size : {:>8} ({:.2f}%) '.format(n_train, 100. * n_train / n))\n",
    "info('- Test size  : {:>8} ({:.2f}%) '.format(n_test, 100. * n_test / n))"
   ]
  },
  {
   "cell_type": "code",
   "execution_count": 103,
   "metadata": {
    "id": "Lkn1U3UfYR6D",
    "colab": {
     "base_uri": "https://localhost:8080/"
    },
    "executionInfo": {
     "status": "ok",
     "timestamp": 1679555662097,
     "user_tz": -330,
     "elapsed": 10,
     "user": {
      "displayName": "Ratneswaran Shiveswarran",
      "userId": "08087910107780316512"
     }
    },
    "outputId": "45da7dcb-c35e-4553-dfcd-2cc01af45029",
    "ExecuteTime": {
     "end_time": "2023-12-29T04:00:44.328590200Z",
     "start_time": "2023-12-29T04:00:41.982659Z"
    }
   },
   "outputs": [
    {
     "name": "stderr",
     "output_type": "stream",
     "text": [
      "C:\\Users\\shang\\AppData\\Local\\Temp\\ipykernel_42228\\1703285400.py:11: FutureWarning: The behavior of array concatenation with empty entries is deprecated. In a future version, this will no longer exclude empty items when determining the result dtype. To retain the old behavior, exclude the empty entries before the concat operation.\n",
      "  datetime_series = pd.concat([datetime_series,daily_time_range ]).sort_index()\n",
      "C:\\Users\\shang\\AppData\\Local\\Temp\\ipykernel_42228\\66091606.py:33: FutureWarning: DataFrame.fillna with 'method' is deprecated and will raise in a future version. Use obj.ffill() or obj.bfill() instead.\n",
      "  means_df = means_df.fillna(method='pad').fillna(method='bfill')\n",
      "C:\\Users\\shang\\AppData\\Local\\Temp\\ipykernel_42228\\66091606.py:34: FutureWarning: DataFrame.fillna with 'method' is deprecated and will raise in a future version. Use obj.ffill() or obj.bfill() instead.\n",
      "  low_df = low_df.fillna(method='pad').fillna(method='bfill')\n",
      "C:\\Users\\shang\\AppData\\Local\\Temp\\ipykernel_42228\\66091606.py:35: FutureWarning: DataFrame.fillna with 'method' is deprecated and will raise in a future version. Use obj.ffill() or obj.bfill() instead.\n",
      "  upr_df = upr_df.fillna(method='pad').fillna(method='bfill')\n"
     ]
    }
   ],
   "source": [
    "(means, scales, low, upr) = fit_scale(data_train)"
   ]
  },
  {
   "cell_type": "code",
   "source": [
    "data_train_no , no_removed =  remove_outliers(data_train,low,upr)"
   ],
   "metadata": {
    "id": "2o7gZKtHEPrC",
    "colab": {
     "base_uri": "https://localhost:8080/"
    },
    "executionInfo": {
     "status": "ok",
     "timestamp": 1679555662097,
     "user_tz": -330,
     "elapsed": 9,
     "user": {
      "displayName": "Ratneswaran Shiveswarran",
      "userId": "08087910107780316512"
     }
    },
    "outputId": "d4cdc39b-02ff-4ea0-b358-e7cb2f9dae51",
    "ExecuteTime": {
     "end_time": "2023-12-29T04:00:47.924371800Z",
     "start_time": "2023-12-29T04:00:47.553120700Z"
    }
   },
   "execution_count": 104,
   "outputs": [
    {
     "ename": "AttributeError",
     "evalue": "'DataFrame' object has no attribute 'lookup'",
     "output_type": "error",
     "traceback": [
      "\u001B[1;31m---------------------------------------------------------------------------\u001B[0m",
      "\u001B[1;31mAttributeError\u001B[0m                            Traceback (most recent call last)",
      "\u001B[1;32m~\\AppData\\Local\\Temp\\ipykernel_42228\\3301215417.py\u001B[0m in \u001B[0;36m?\u001B[1;34m()\u001B[0m\n\u001B[1;32m----> 1\u001B[1;33m \u001B[0mdata_train_no\u001B[0m \u001B[1;33m,\u001B[0m \u001B[0mno_removed\u001B[0m \u001B[1;33m=\u001B[0m  \u001B[0mremove_outliers\u001B[0m\u001B[1;33m(\u001B[0m\u001B[0mdata_train\u001B[0m\u001B[1;33m,\u001B[0m\u001B[0mlow\u001B[0m\u001B[1;33m,\u001B[0m\u001B[0mupr\u001B[0m\u001B[1;33m)\u001B[0m\u001B[1;33m\u001B[0m\u001B[1;33m\u001B[0m\u001B[0m\n\u001B[0m",
      "\u001B[1;32m~\\AppData\\Local\\Temp\\ipykernel_42228\\2393002706.py\u001B[0m in \u001B[0;36m?\u001B[1;34m(data, low, upr)\u001B[0m\n\u001B[0;32m      1\u001B[0m \u001B[1;32mdef\u001B[0m \u001B[0mremove_outliers\u001B[0m\u001B[1;33m(\u001B[0m\u001B[0mdata\u001B[0m\u001B[1;33m,\u001B[0m \u001B[0mlow\u001B[0m\u001B[1;33m,\u001B[0m \u001B[0mupr\u001B[0m\u001B[1;33m)\u001B[0m\u001B[1;33m:\u001B[0m\u001B[1;33m\u001B[0m\u001B[1;33m\u001B[0m\u001B[0m\n\u001B[1;32m----> 2\u001B[1;33m     \u001B[0m_low\u001B[0m \u001B[1;33m=\u001B[0m \u001B[0mlow\u001B[0m\u001B[1;33m.\u001B[0m\u001B[0mlookup\u001B[0m\u001B[1;33m(\u001B[0m\u001B[0mdata\u001B[0m\u001B[1;33m[\u001B[0m\u001B[1;34m'DowTimeRef'\u001B[0m\u001B[1;33m]\u001B[0m\u001B[1;33m,\u001B[0m \u001B[0mdata\u001B[0m\u001B[1;33m[\u001B[0m\u001B[1;34m'segment'\u001B[0m\u001B[1;33m]\u001B[0m\u001B[1;33m)\u001B[0m\u001B[1;33m\u001B[0m\u001B[1;33m\u001B[0m\u001B[0m\n\u001B[0m\u001B[0;32m      3\u001B[0m     \u001B[0m_upr\u001B[0m \u001B[1;33m=\u001B[0m \u001B[0mupr\u001B[0m\u001B[1;33m.\u001B[0m\u001B[0mlookup\u001B[0m\u001B[1;33m(\u001B[0m\u001B[0mdata\u001B[0m\u001B[1;33m[\u001B[0m\u001B[1;34m'DowTimeRef'\u001B[0m\u001B[1;33m]\u001B[0m\u001B[1;33m,\u001B[0m \u001B[0mdata\u001B[0m\u001B[1;33m[\u001B[0m\u001B[1;34m'segment'\u001B[0m\u001B[1;33m]\u001B[0m\u001B[1;33m)\u001B[0m\u001B[1;33m\u001B[0m\u001B[1;33m\u001B[0m\u001B[0m\n\u001B[0;32m      4\u001B[0m     \u001B[0mmask\u001B[0m \u001B[1;33m=\u001B[0m \u001B[1;33m(\u001B[0m\u001B[1;33m(\u001B[0m\u001B[0m_low\u001B[0m \u001B[1;33m<\u001B[0m \u001B[0mdata\u001B[0m\u001B[1;33m[\u001B[0m\u001B[1;34m'run_time_in_seconds'\u001B[0m\u001B[1;33m]\u001B[0m\u001B[1;33m)\u001B[0m \u001B[1;33m&\u001B[0m \u001B[1;33m(\u001B[0m\u001B[0mdata\u001B[0m\u001B[1;33m[\u001B[0m\u001B[1;34m'run_time_in_seconds'\u001B[0m\u001B[1;33m]\u001B[0m \u001B[1;33m<\u001B[0m \u001B[0m_upr\u001B[0m\u001B[1;33m)\u001B[0m\u001B[1;33m)\u001B[0m\u001B[1;33m\u001B[0m\u001B[1;33m\u001B[0m\u001B[0m\n\u001B[0;32m      5\u001B[0m     \u001B[0mdata\u001B[0m \u001B[1;33m=\u001B[0m \u001B[0mdata\u001B[0m\u001B[1;33m.\u001B[0m\u001B[0mloc\u001B[0m\u001B[1;33m[\u001B[0m\u001B[0mmask\u001B[0m\u001B[1;33m]\u001B[0m\u001B[1;33m.\u001B[0m\u001B[0mcopy\u001B[0m\u001B[1;33m(\u001B[0m\u001B[1;33m)\u001B[0m\u001B[1;33m\u001B[0m\u001B[1;33m\u001B[0m\u001B[0m\n",
      "\u001B[1;32m~\\gitrepo\\Incremental-Online-Learning-for-BAT-Prediction\\venv\\lib\\site-packages\\pandas\\core\\generic.py\u001B[0m in \u001B[0;36m?\u001B[1;34m(self, name)\u001B[0m\n\u001B[0;32m   6200\u001B[0m             \u001B[1;32mand\u001B[0m \u001B[0mname\u001B[0m \u001B[1;32mnot\u001B[0m \u001B[1;32min\u001B[0m \u001B[0mself\u001B[0m\u001B[1;33m.\u001B[0m\u001B[0m_accessors\u001B[0m\u001B[1;33m\u001B[0m\u001B[1;33m\u001B[0m\u001B[0m\n\u001B[0;32m   6201\u001B[0m             \u001B[1;32mand\u001B[0m \u001B[0mself\u001B[0m\u001B[1;33m.\u001B[0m\u001B[0m_info_axis\u001B[0m\u001B[1;33m.\u001B[0m\u001B[0m_can_hold_identifiers_and_holds_name\u001B[0m\u001B[1;33m(\u001B[0m\u001B[0mname\u001B[0m\u001B[1;33m)\u001B[0m\u001B[1;33m\u001B[0m\u001B[1;33m\u001B[0m\u001B[0m\n\u001B[0;32m   6202\u001B[0m         ):\n\u001B[0;32m   6203\u001B[0m             \u001B[1;32mreturn\u001B[0m \u001B[0mself\u001B[0m\u001B[1;33m[\u001B[0m\u001B[0mname\u001B[0m\u001B[1;33m]\u001B[0m\u001B[1;33m\u001B[0m\u001B[1;33m\u001B[0m\u001B[0m\n\u001B[1;32m-> 6204\u001B[1;33m         \u001B[1;32mreturn\u001B[0m \u001B[0mobject\u001B[0m\u001B[1;33m.\u001B[0m\u001B[0m__getattribute__\u001B[0m\u001B[1;33m(\u001B[0m\u001B[0mself\u001B[0m\u001B[1;33m,\u001B[0m \u001B[0mname\u001B[0m\u001B[1;33m)\u001B[0m\u001B[1;33m\u001B[0m\u001B[1;33m\u001B[0m\u001B[0m\n\u001B[0m",
      "\u001B[1;31mAttributeError\u001B[0m: 'DataFrame' object has no attribute 'lookup'"
     ]
    }
   ]
  },
  {
   "cell_type": "code",
   "source": [
    "no_removed"
   ],
   "metadata": {
    "colab": {
     "base_uri": "https://localhost:8080/"
    },
    "id": "RU_yKVTyAtDz",
    "executionInfo": {
     "status": "ok",
     "timestamp": 1677822451355,
     "user_tz": -330,
     "elapsed": 843,
     "user": {
      "displayName": "Ratneswaran Shiveswarran",
      "userId": "08087910107780316512"
     }
    },
    "outputId": "50afd1fd-6453-4074-8fd9-d885bc8224fe",
    "ExecuteTime": {
     "end_time": "2023-12-29T03:11:29.294546900Z",
     "start_time": "2023-12-29T03:11:29.220154700Z"
    }
   },
   "execution_count": 76,
   "outputs": [
    {
     "ename": "NameError",
     "evalue": "name 'no_removed' is not defined",
     "output_type": "error",
     "traceback": [
      "\u001B[1;31m---------------------------------------------------------------------------\u001B[0m",
      "\u001B[1;31mNameError\u001B[0m                                 Traceback (most recent call last)",
      "Cell \u001B[1;32mIn[76], line 1\u001B[0m\n\u001B[1;32m----> 1\u001B[0m \u001B[43mno_removed\u001B[49m\n",
      "\u001B[1;31mNameError\u001B[0m: name 'no_removed' is not defined"
     ]
    }
   ]
  },
  {
   "cell_type": "code",
   "source": [
    "data_test_no , no_removed =  remove_outliers(data_test,low,upr)\n",
    "no_removed"
   ],
   "metadata": {
    "id": "t48H-GNaFrWq",
    "colab": {
     "base_uri": "https://localhost:8080/"
    },
    "executionInfo": {
     "status": "ok",
     "timestamp": 1679555662097,
     "user_tz": -330,
     "elapsed": 5,
     "user": {
      "displayName": "Ratneswaran Shiveswarran",
      "userId": "08087910107780316512"
     }
    },
    "outputId": "3ee4973b-f1f6-4895-9781-e60ddd0ec637",
    "ExecuteTime": {
     "end_time": "2023-12-29T03:11:37.968062400Z",
     "start_time": "2023-12-29T03:11:37.799316200Z"
    }
   },
   "execution_count": 77,
   "outputs": [
    {
     "ename": "AttributeError",
     "evalue": "'DataFrame' object has no attribute 'lookup'",
     "output_type": "error",
     "traceback": [
      "\u001B[1;31m---------------------------------------------------------------------------\u001B[0m",
      "\u001B[1;31mAttributeError\u001B[0m                            Traceback (most recent call last)",
      "\u001B[1;32m~\\AppData\\Local\\Temp\\ipykernel_42228\\2293212077.py\u001B[0m in \u001B[0;36m?\u001B[1;34m()\u001B[0m\n\u001B[1;32m----> 1\u001B[1;33m \u001B[0mdata_test_no\u001B[0m \u001B[1;33m,\u001B[0m \u001B[0mno_removed\u001B[0m \u001B[1;33m=\u001B[0m  \u001B[0mremove_outliers\u001B[0m\u001B[1;33m(\u001B[0m\u001B[0mdata_test\u001B[0m\u001B[1;33m,\u001B[0m\u001B[0mlow\u001B[0m\u001B[1;33m,\u001B[0m\u001B[0mupr\u001B[0m\u001B[1;33m)\u001B[0m\u001B[1;33m\u001B[0m\u001B[1;33m\u001B[0m\u001B[0m\n\u001B[0m\u001B[0;32m      2\u001B[0m \u001B[0mno_removed\u001B[0m\u001B[1;33m\u001B[0m\u001B[1;33m\u001B[0m\u001B[0m\n",
      "\u001B[1;32m~\\AppData\\Local\\Temp\\ipykernel_42228\\3731249999.py\u001B[0m in \u001B[0;36m?\u001B[1;34m(data, low, upr)\u001B[0m\n\u001B[0;32m      1\u001B[0m \u001B[1;32mdef\u001B[0m \u001B[0mremove_outliers\u001B[0m\u001B[1;33m(\u001B[0m\u001B[0mdata\u001B[0m\u001B[1;33m,\u001B[0m \u001B[0mlow\u001B[0m\u001B[1;33m,\u001B[0m \u001B[0mupr\u001B[0m\u001B[1;33m)\u001B[0m\u001B[1;33m:\u001B[0m\u001B[1;33m\u001B[0m\u001B[1;33m\u001B[0m\u001B[0m\n\u001B[1;32m----> 2\u001B[1;33m     \u001B[0m_low\u001B[0m \u001B[1;33m=\u001B[0m \u001B[0mlow\u001B[0m\u001B[1;33m.\u001B[0m\u001B[0mlookup\u001B[0m\u001B[1;33m(\u001B[0m\u001B[0mdata\u001B[0m\u001B[1;33m[\u001B[0m\u001B[1;34m'DowTimeRef'\u001B[0m\u001B[1;33m]\u001B[0m\u001B[1;33m,\u001B[0m \u001B[0mdata\u001B[0m\u001B[1;33m[\u001B[0m\u001B[1;34m'segment'\u001B[0m\u001B[1;33m]\u001B[0m\u001B[1;33m)\u001B[0m\u001B[1;33m\u001B[0m\u001B[1;33m\u001B[0m\u001B[0m\n\u001B[0m\u001B[0;32m      3\u001B[0m     \u001B[0m_upr\u001B[0m \u001B[1;33m=\u001B[0m \u001B[0mupr\u001B[0m\u001B[1;33m.\u001B[0m\u001B[0mlookup\u001B[0m\u001B[1;33m(\u001B[0m\u001B[0mdata\u001B[0m\u001B[1;33m[\u001B[0m\u001B[1;34m'DowTimeRef'\u001B[0m\u001B[1;33m]\u001B[0m\u001B[1;33m,\u001B[0m \u001B[0mdata\u001B[0m\u001B[1;33m[\u001B[0m\u001B[1;34m'segment'\u001B[0m\u001B[1;33m]\u001B[0m\u001B[1;33m)\u001B[0m\u001B[1;33m\u001B[0m\u001B[1;33m\u001B[0m\u001B[0m\n\u001B[0;32m      4\u001B[0m     \u001B[0mmask\u001B[0m \u001B[1;33m=\u001B[0m \u001B[1;33m(\u001B[0m\u001B[1;33m(\u001B[0m\u001B[0m_low\u001B[0m \u001B[1;33m<\u001B[0m \u001B[0mdata\u001B[0m\u001B[1;33m[\u001B[0m\u001B[1;34m'run_time_in_seconds'\u001B[0m\u001B[1;33m]\u001B[0m\u001B[1;33m)\u001B[0m \u001B[1;33m&\u001B[0m \u001B[1;33m(\u001B[0m\u001B[0mdata\u001B[0m\u001B[1;33m[\u001B[0m\u001B[1;34m'run_time_in_seconds'\u001B[0m\u001B[1;33m]\u001B[0m \u001B[1;33m<\u001B[0m \u001B[0m_upr\u001B[0m\u001B[1;33m)\u001B[0m\u001B[1;33m)\u001B[0m\u001B[1;33m\u001B[0m\u001B[1;33m\u001B[0m\u001B[0m\n\u001B[0;32m      5\u001B[0m     \u001B[0mdata\u001B[0m \u001B[1;33m=\u001B[0m \u001B[0mdata\u001B[0m\u001B[1;33m.\u001B[0m\u001B[0mloc\u001B[0m\u001B[1;33m[\u001B[0m\u001B[0mmask\u001B[0m\u001B[1;33m]\u001B[0m\u001B[1;33m.\u001B[0m\u001B[0mcopy\u001B[0m\u001B[1;33m(\u001B[0m\u001B[1;33m)\u001B[0m\u001B[1;33m\u001B[0m\u001B[1;33m\u001B[0m\u001B[0m\n",
      "\u001B[1;32m~\\gitrepo\\Incremental-Online-Learning-for-BAT-Prediction\\venv\\lib\\site-packages\\pandas\\core\\generic.py\u001B[0m in \u001B[0;36m?\u001B[1;34m(self, name)\u001B[0m\n\u001B[0;32m   6200\u001B[0m             \u001B[1;32mand\u001B[0m \u001B[0mname\u001B[0m \u001B[1;32mnot\u001B[0m \u001B[1;32min\u001B[0m \u001B[0mself\u001B[0m\u001B[1;33m.\u001B[0m\u001B[0m_accessors\u001B[0m\u001B[1;33m\u001B[0m\u001B[1;33m\u001B[0m\u001B[0m\n\u001B[0;32m   6201\u001B[0m             \u001B[1;32mand\u001B[0m \u001B[0mself\u001B[0m\u001B[1;33m.\u001B[0m\u001B[0m_info_axis\u001B[0m\u001B[1;33m.\u001B[0m\u001B[0m_can_hold_identifiers_and_holds_name\u001B[0m\u001B[1;33m(\u001B[0m\u001B[0mname\u001B[0m\u001B[1;33m)\u001B[0m\u001B[1;33m\u001B[0m\u001B[1;33m\u001B[0m\u001B[0m\n\u001B[0;32m   6202\u001B[0m         ):\n\u001B[0;32m   6203\u001B[0m             \u001B[1;32mreturn\u001B[0m \u001B[0mself\u001B[0m\u001B[1;33m[\u001B[0m\u001B[0mname\u001B[0m\u001B[1;33m]\u001B[0m\u001B[1;33m\u001B[0m\u001B[1;33m\u001B[0m\u001B[0m\n\u001B[1;32m-> 6204\u001B[1;33m         \u001B[1;32mreturn\u001B[0m \u001B[0mobject\u001B[0m\u001B[1;33m.\u001B[0m\u001B[0m__getattribute__\u001B[0m\u001B[1;33m(\u001B[0m\u001B[0mself\u001B[0m\u001B[1;33m,\u001B[0m \u001B[0mname\u001B[0m\u001B[1;33m)\u001B[0m\u001B[1;33m\u001B[0m\u001B[1;33m\u001B[0m\u001B[0m\n\u001B[0m",
      "\u001B[1;31mAttributeError\u001B[0m: 'DataFrame' object has no attribute 'lookup'"
     ]
    }
   ]
  },
  {
   "cell_type": "code",
   "execution_count": 105,
   "outputs": [],
   "source": [
    "data_train_no = data_train\n",
    "data_test_no = data_test"
   ],
   "metadata": {
    "collapsed": false,
    "ExecuteTime": {
     "end_time": "2023-12-29T04:00:51.837348200Z",
     "start_time": "2023-12-29T04:00:51.659550100Z"
    }
   }
  },
  {
   "cell_type": "code",
   "execution_count": 107,
   "metadata": {
    "id": "b-dOiCA7YkM6",
    "colab": {
     "base_uri": "https://localhost:8080/",
     "height": 217
    },
    "executionInfo": {
     "status": "error",
     "timestamp": 1679555664115,
     "user_tz": -330,
     "elapsed": 2021,
     "user": {
      "displayName": "Ratneswaran Shiveswarran",
      "userId": "08087910107780316512"
     }
    },
    "outputId": "124e1e69-f158-493e-adc6-baeb98f31159",
    "ExecuteTime": {
     "end_time": "2023-12-29T04:02:29.117571Z",
     "start_time": "2023-12-29T04:02:21.252501500Z"
    }
   },
   "outputs": [
    {
     "name": "stderr",
     "output_type": "stream",
     "text": [
      "C:\\Users\\shang\\AppData\\Local\\Temp\\ipykernel_42228\\196139629.py:30: FutureWarning: DataFrame.fillna with 'method' is deprecated and will raise in a future version. Use obj.ffill() or obj.bfill() instead.\n",
      "  ts = pd.DataFrame(data = tss).fillna(method='pad').fillna(0) # Link Travel Time Time Series\n",
      "C:\\Users\\shang\\AppData\\Local\\Temp\\ipykernel_42228\\196139629.py:31: FutureWarning: DataFrame.fillna with 'method' is deprecated and will raise in a future version. Use obj.ffill() or obj.bfill() instead.\n",
      "  df_removed_mean = pd.DataFrame(data = removed_mean, index = ts.index).fillna(method='pad').fillna(method='bfill') # Removed Mean from Link Travel Time\n",
      "C:\\Users\\shang\\AppData\\Local\\Temp\\ipykernel_42228\\196139629.py:32: FutureWarning: DataFrame.fillna with 'method' is deprecated and will raise in a future version. Use obj.ffill() or obj.bfill() instead.\n",
      "  df_removed_scale = pd.DataFrame(data = removed_scale, index = ts.index).fillna(method='pad').fillna(method='bfill')\n",
      "C:\\Users\\shang\\AppData\\Local\\Temp\\ipykernel_42228\\196139629.py:30: FutureWarning: DataFrame.fillna with 'method' is deprecated and will raise in a future version. Use obj.ffill() or obj.bfill() instead.\n",
      "  ts = pd.DataFrame(data = tss).fillna(method='pad').fillna(0) # Link Travel Time Time Series\n",
      "C:\\Users\\shang\\AppData\\Local\\Temp\\ipykernel_42228\\196139629.py:31: FutureWarning: DataFrame.fillna with 'method' is deprecated and will raise in a future version. Use obj.ffill() or obj.bfill() instead.\n",
      "  df_removed_mean = pd.DataFrame(data = removed_mean, index = ts.index).fillna(method='pad').fillna(method='bfill') # Removed Mean from Link Travel Time\n",
      "C:\\Users\\shang\\AppData\\Local\\Temp\\ipykernel_42228\\196139629.py:32: FutureWarning: DataFrame.fillna with 'method' is deprecated and will raise in a future version. Use obj.ffill() or obj.bfill() instead.\n",
      "  df_removed_scale = pd.DataFrame(data = removed_scale, index = ts.index).fillna(method='pad').fillna(method='bfill')\n"
     ]
    },
    {
     "name": "stdout",
     "output_type": "stream",
     "text": [
      "2023-12-29 09:32:29 - X_train shape : (12185, 52, 15, 1, 1)    X_test shape : (2275, 52, 15, 1, 1)\n",
      "2023-12-29 09:32:29 - Y_train shape : (12185, 3, 15, 1, 1)    Y_test shape :  (2275, 3, 15, 1, 1)\n"
     ]
    }
   ],
   "source": [
    "ix_train, ts_train, rm_mean_train, rm_scale_train, w_train, lns_train = transform(data_train_no, means, scales,datetime_index)\n",
    "ix_test, ts_test, rm_mean_test, rm_scale_test, w_test, lns_test = transform(data_test_no, means, scales,datetime_index)\n",
    "\n",
    "#Create rolling window tensor\n",
    "X_train, Y_train, Y_ix_train, Y_rm_mean_train, Y_scale_train, Y_w_train = roll(ix_train, ts_train, rm_mean_train, rm_scale_train, w_train, lags, preds)\n",
    "X_test, Y_test, Y_ix_test, Y_rm_mean_test, Y_scale_test, Y_w_test = roll(ix_test, ts_test, rm_mean_test, rm_scale_test, w_test, lags, preds)\n",
    "\n",
    "X_train = X_train[:,:,:,np.newaxis,np.newaxis]\n",
    "Y_train = Y_train[:,:,:,np.newaxis,np.newaxis]\n",
    "X_test = X_test[:,:,:,np.newaxis,np.newaxis]\n",
    "Y_test = Y_test[:,:,:,np.newaxis,np.newaxis]\n",
    "\n",
    "info('- X_train shape : {:>20}    X_test shape : {:>20}'.format(str(X_train.shape), str(X_test.shape)))\n",
    "info('- Y_train shape : {:>20}    Y_test shape : {:>20}'.format(str(Y_train.shape), str(Y_test.shape)))\n"
   ]
  },
  {
   "cell_type": "code",
   "execution_count": 111,
   "metadata": {
    "colab": {
     "base_uri": "https://localhost:8080/"
    },
    "id": "QyYGnvIDY8pb",
    "outputId": "40458597-ee70-49b3-a36a-ff574f38f147",
    "executionInfo": {
     "status": "ok",
     "timestamp": 1679556026537,
     "user_tz": -330,
     "elapsed": 349219,
     "user": {
      "displayName": "Ratneswaran Shiveswarran",
      "userId": "08087910107780316512"
     }
    },
    "ExecuteTime": {
     "end_time": "2023-12-30T06:43:46.121096Z",
     "start_time": "2023-12-30T06:43:38.720638700Z"
    }
   },
   "outputs": [
    {
     "name": "stderr",
     "output_type": "stream",
     "text": [
      "WARNING:absl:`lr` is deprecated in Keras optimizer, please use `learning_rate` or use the legacy optimizer, e.g.,tf.keras.optimizers.legacy.RMSprop.\n"
     ]
    },
    {
     "ename": "ValueError",
     "evalue": "in user code:\n\n    File \"C:\\Users\\shang\\gitrepo\\Incremental-Online-Learning-for-BAT-Prediction\\venv\\lib\\site-packages\\keras\\src\\engine\\training.py\", line 1401, in train_function  *\n        return step_function(self, iterator)\n    File \"C:\\Users\\shang\\gitrepo\\Incremental-Online-Learning-for-BAT-Prediction\\venv\\lib\\site-packages\\keras\\src\\engine\\training.py\", line 1384, in step_function  **\n        outputs = model.distribute_strategy.run(run_step, args=(data,))\n    File \"C:\\Users\\shang\\gitrepo\\Incremental-Online-Learning-for-BAT-Prediction\\venv\\lib\\site-packages\\keras\\src\\engine\\training.py\", line 1373, in run_step  **\n        outputs = model.train_step(data)\n    File \"C:\\Users\\shang\\gitrepo\\Incremental-Online-Learning-for-BAT-Prediction\\venv\\lib\\site-packages\\keras\\src\\engine\\training.py\", line 1150, in train_step\n        y_pred = self(x, training=True)\n    File \"C:\\Users\\shang\\gitrepo\\Incremental-Online-Learning-for-BAT-Prediction\\venv\\lib\\site-packages\\keras\\src\\utils\\traceback_utils.py\", line 70, in error_handler\n        raise e.with_traceback(filtered_tb) from None\n    File \"C:\\Users\\shang\\gitrepo\\Incremental-Online-Learning-for-BAT-Prediction\\venv\\lib\\site-packages\\keras\\src\\layers\\reshaping\\reshape.py\", line 118, in _fix_unknown_dimension\n        raise ValueError(msg)\n\n    ValueError: Exception encountered when calling layer 'reshape_2' (type Reshape).\n    \n    total size of new array must be unchanged, input_shape = [3, 49920], output_shape = [3, 15, 1, 64]\n    \n    Call arguments received by layer 'reshape_2' (type Reshape):\n      • inputs=tf.Tensor(shape=(None, 3, 49920), dtype=float32)\n",
     "output_type": "error",
     "traceback": [
      "\u001B[1;31m---------------------------------------------------------------------------\u001B[0m",
      "\u001B[1;31mValueError\u001B[0m                                Traceback (most recent call last)",
      "Cell \u001B[1;32mIn[111], line 7\u001B[0m\n\u001B[0;32m      4\u001B[0m model \u001B[38;5;241m=\u001B[39m build_model(lags, preds, \u001B[38;5;28mlen\u001B[39m(lns_train))\n\u001B[0;32m      6\u001B[0m \u001B[38;5;66;03m# Train\u001B[39;00m\n\u001B[1;32m----> 7\u001B[0m history \u001B[38;5;241m=\u001B[39m \u001B[43mmodel\u001B[49m\u001B[38;5;241;43m.\u001B[39;49m\u001B[43mfit\u001B[49m\u001B[43m(\u001B[49m\u001B[43mX_train\u001B[49m\u001B[43m,\u001B[49m\u001B[43m \u001B[49m\u001B[43mY_train\u001B[49m\u001B[43m,\u001B[49m\n\u001B[0;32m      8\u001B[0m \u001B[43m                    \u001B[49m\u001B[43mbatch_size\u001B[49m\u001B[43m \u001B[49m\u001B[38;5;241;43m=\u001B[39;49m\u001B[43m \u001B[49m\u001B[38;5;241;43m32\u001B[39;49m\u001B[43m,\u001B[49m\u001B[43m \u001B[49m\u001B[43mepochs\u001B[49m\u001B[43m \u001B[49m\u001B[38;5;241;43m=\u001B[39;49m\u001B[43m \u001B[49m\u001B[38;5;241;43m1\u001B[39;49m\u001B[43m,\u001B[49m\n\u001B[0;32m      9\u001B[0m \u001B[43m                    \u001B[49m\u001B[43mshuffle\u001B[49m\u001B[43m \u001B[49m\u001B[38;5;241;43m=\u001B[39;49m\u001B[43m \u001B[49m\u001B[38;5;28;43;01mFalse\u001B[39;49;00m\u001B[43m,\u001B[49m\u001B[43m \u001B[49m\u001B[43mvalidation_data\u001B[49m\u001B[43m \u001B[49m\u001B[38;5;241;43m=\u001B[39;49m\u001B[43m \u001B[49m\u001B[43m(\u001B[49m\u001B[43mX_test\u001B[49m\u001B[43m,\u001B[49m\u001B[43m \u001B[49m\u001B[43mY_test\u001B[49m\u001B[43m)\u001B[49m\u001B[43m,\u001B[49m\n\u001B[0;32m     10\u001B[0m \u001B[43m                    \u001B[49m\u001B[43mverbose\u001B[49m\u001B[43m \u001B[49m\u001B[38;5;241;43m=\u001B[39;49m\u001B[43m \u001B[49m\u001B[38;5;241;43m2\u001B[39;49m\u001B[43m,\u001B[49m\u001B[43m \u001B[49m\u001B[43mcallbacks\u001B[49m\u001B[43m \u001B[49m\u001B[38;5;241;43m=\u001B[39;49m\u001B[43m \u001B[49m\u001B[43m[\u001B[49m\u001B[43mearly_stopping\u001B[49m\u001B[43m]\u001B[49m\u001B[43m)\u001B[49m\n\u001B[0;32m     11\u001B[0m model\u001B[38;5;241m.\u001B[39msave(\u001B[38;5;124m'\u001B[39m\u001B[38;5;124mmodels/ConvLSTM_3x15min_10x64-5x64-10x64-5x64_Comparison.h5\u001B[39m\u001B[38;5;124m'\u001B[39m) \n\u001B[0;32m     13\u001B[0m Y_true \u001B[38;5;241m=\u001B[39m Y_test\u001B[38;5;241m.\u001B[39msqueeze() \u001B[38;5;241m*\u001B[39m Y_scale_test \u001B[38;5;241m+\u001B[39m Y_rm_mean_test\n",
      "File \u001B[1;32m~\\gitrepo\\Incremental-Online-Learning-for-BAT-Prediction\\venv\\lib\\site-packages\\keras\\src\\utils\\traceback_utils.py:70\u001B[0m, in \u001B[0;36mfilter_traceback.<locals>.error_handler\u001B[1;34m(*args, **kwargs)\u001B[0m\n\u001B[0;32m     67\u001B[0m     filtered_tb \u001B[38;5;241m=\u001B[39m _process_traceback_frames(e\u001B[38;5;241m.\u001B[39m__traceback__)\n\u001B[0;32m     68\u001B[0m     \u001B[38;5;66;03m# To get the full stack trace, call:\u001B[39;00m\n\u001B[0;32m     69\u001B[0m     \u001B[38;5;66;03m# `tf.debugging.disable_traceback_filtering()`\u001B[39;00m\n\u001B[1;32m---> 70\u001B[0m     \u001B[38;5;28;01mraise\u001B[39;00m e\u001B[38;5;241m.\u001B[39mwith_traceback(filtered_tb) \u001B[38;5;28;01mfrom\u001B[39;00m \u001B[38;5;28;01mNone\u001B[39;00m\n\u001B[0;32m     71\u001B[0m \u001B[38;5;28;01mfinally\u001B[39;00m:\n\u001B[0;32m     72\u001B[0m     \u001B[38;5;28;01mdel\u001B[39;00m filtered_tb\n",
      "File \u001B[1;32m~\\AppData\\Local\\Temp\\__autograph_generated_filepjsrc2tp.py:15\u001B[0m, in \u001B[0;36mouter_factory.<locals>.inner_factory.<locals>.tf__train_function\u001B[1;34m(iterator)\u001B[0m\n\u001B[0;32m     13\u001B[0m \u001B[38;5;28;01mtry\u001B[39;00m:\n\u001B[0;32m     14\u001B[0m     do_return \u001B[38;5;241m=\u001B[39m \u001B[38;5;28;01mTrue\u001B[39;00m\n\u001B[1;32m---> 15\u001B[0m     retval_ \u001B[38;5;241m=\u001B[39m ag__\u001B[38;5;241m.\u001B[39mconverted_call(ag__\u001B[38;5;241m.\u001B[39mld(step_function), (ag__\u001B[38;5;241m.\u001B[39mld(\u001B[38;5;28mself\u001B[39m), ag__\u001B[38;5;241m.\u001B[39mld(iterator)), \u001B[38;5;28;01mNone\u001B[39;00m, fscope)\n\u001B[0;32m     16\u001B[0m \u001B[38;5;28;01mexcept\u001B[39;00m:\n\u001B[0;32m     17\u001B[0m     do_return \u001B[38;5;241m=\u001B[39m \u001B[38;5;28;01mFalse\u001B[39;00m\n",
      "\u001B[1;31mValueError\u001B[0m: in user code:\n\n    File \"C:\\Users\\shang\\gitrepo\\Incremental-Online-Learning-for-BAT-Prediction\\venv\\lib\\site-packages\\keras\\src\\engine\\training.py\", line 1401, in train_function  *\n        return step_function(self, iterator)\n    File \"C:\\Users\\shang\\gitrepo\\Incremental-Online-Learning-for-BAT-Prediction\\venv\\lib\\site-packages\\keras\\src\\engine\\training.py\", line 1384, in step_function  **\n        outputs = model.distribute_strategy.run(run_step, args=(data,))\n    File \"C:\\Users\\shang\\gitrepo\\Incremental-Online-Learning-for-BAT-Prediction\\venv\\lib\\site-packages\\keras\\src\\engine\\training.py\", line 1373, in run_step  **\n        outputs = model.train_step(data)\n    File \"C:\\Users\\shang\\gitrepo\\Incremental-Online-Learning-for-BAT-Prediction\\venv\\lib\\site-packages\\keras\\src\\engine\\training.py\", line 1150, in train_step\n        y_pred = self(x, training=True)\n    File \"C:\\Users\\shang\\gitrepo\\Incremental-Online-Learning-for-BAT-Prediction\\venv\\lib\\site-packages\\keras\\src\\utils\\traceback_utils.py\", line 70, in error_handler\n        raise e.with_traceback(filtered_tb) from None\n    File \"C:\\Users\\shang\\gitrepo\\Incremental-Online-Learning-for-BAT-Prediction\\venv\\lib\\site-packages\\keras\\src\\layers\\reshaping\\reshape.py\", line 118, in _fix_unknown_dimension\n        raise ValueError(msg)\n\n    ValueError: Exception encountered when calling layer 'reshape_2' (type Reshape).\n    \n    total size of new array must be unchanged, input_shape = [3, 49920], output_shape = [3, 15, 1, 64]\n    \n    Call arguments received by layer 'reshape_2' (type Reshape):\n      • inputs=tf.Tensor(shape=(None, 3, 49920), dtype=float32)\n"
     ]
    }
   ],
   "source": [
    "global_start_time = time.time()\n",
    "early_stopping = EarlyStopping(monitor='val_loss', patience = 3)\n",
    "\n",
    "model = build_model(lags, preds, len(lns_train))\n",
    "\n",
    "# Train\n",
    "history = model.fit(X_train, Y_train,\n",
    "                    batch_size = 32, epochs = 1,\n",
    "                    shuffle = False, validation_data = (X_test, Y_test),\n",
    "                    verbose = 2, callbacks = [early_stopping])\n",
    "model.save('models/ConvLSTM_3x15min_10x64-5x64-10x64-5x64_Comparison.h5') \n",
    "\n",
    "Y_true = Y_test.squeeze() * Y_scale_test + Y_rm_mean_test\n",
    "Y_naive = Y_rm_mean_test\n",
    "Y_pred = model.predict(X_test).squeeze() * Y_scale_test + Y_rm_mean_test\n",
    "\n",
    "Y_true_total = np.sum(Y_true * Y_w_test, axis = 2).squeeze()\n",
    "Y_naive_total = np.sum(Y_naive * Y_w_test, axis = 2).squeeze()\n",
    "Y_pred_total = np.sum(Y_pred * Y_w_test, axis = 2).squeeze()\n",
    "    \n",
    "for t in range(preds):\n",
    "    mask = Y_true_total[:,t] > 0\n",
    "    Y_true_total_t = Y_true_total[mask, t] / 60\n",
    "    Y_naive_total_t = Y_naive_total[mask, t] / 60\n",
    "    Y_pred_total_t = Y_pred_total[mask, t] / 60  \n",
    "\n",
    "    error_naive_total_t = (Y_naive_total_t - Y_true_total_t)\n",
    "    error_lstm_total_t = (Y_pred_total_t - Y_true_total_t)\n",
    "\n",
    "    mae_ha = np.mean(np.abs(error_naive_total_t))\n",
    "    rmse_ha = np.sqrt(np.mean((error_naive_total_t)**2))\n",
    "    mape_ha = np.mean(np.abs(error_naive_total_t) / Y_true_total_t) * 100\n",
    "\n",
    "    mae_lstm = np.mean(np.abs(error_lstm_total_t))\n",
    "    rmse_lstm = np.sqrt(np.mean((error_lstm_total_t)**2))\n",
    "    mape_lstm = np.mean(np.abs(error_lstm_total_t) / Y_true_total_t) * 100\n",
    "\n",
    "    info(\"- t + %d - HA       - MAE: %5.2f - RMSE: %5.2f - MAPE: %5.2f\" % (t + 1, mae_ha, rmse_ha, mape_ha))\n",
    "    info(\"- t + %d - ConvLSTM - MAE: %5.2f - RMSE: %5.2f - MAPE: %5.2f\" % (t + 1, mae_lstm, rmse_lstm, mape_lstm))\n",
    "    info(\"- t + %d - *        - MAE: %5.2f - RMSE: %5.2f - MAPE: %5.2f\" % (t + 1, mae_lstm - mae_ha, rmse_lstm - rmse_ha, mape_lstm - mape_ha))"
   ]
  },
  {
   "cell_type": "code",
   "source": [
    "model.summary()"
   ],
   "metadata": {
    "colab": {
     "base_uri": "https://localhost:8080/"
    },
    "id": "VRxBEk2VEDUj",
    "executionInfo": {
     "status": "ok",
     "timestamp": 1679556028584,
     "user_tz": -330,
     "elapsed": 14,
     "user": {
      "displayName": "Ratneswaran Shiveswarran",
      "userId": "08087910107780316512"
     }
    },
    "outputId": "b0225d05-4344-4da5-f664-9f4f4c6272c7"
   },
   "execution_count": null,
   "outputs": [
    {
     "output_type": "stream",
     "name": "stdout",
     "text": [
      "Model: \"sequential\"\n",
      "_________________________________________________________________\n",
      " Layer (type)                Output Shape              Param #   \n",
      "=================================================================\n",
      " batch_norm_0 (BatchNormaliz  (None, 52, 15, 1, 1)     4         \n",
      " ation)                                                          \n",
      "                                                                 \n",
      " conv_lstm_1 (ConvLSTM2D)    (None, 52, 15, 1, 64)     166656    \n",
      "                                                                 \n",
      " dropout_1 (Dropout)         (None, 52, 15, 1, 64)     0         \n",
      "                                                                 \n",
      " batch_norm_1 (BatchNormaliz  (None, 52, 15, 1, 64)    256       \n",
      " ation)                                                          \n",
      "                                                                 \n",
      " conv_lstm_2 (ConvLSTM2D)    (None, 15, 1, 64)         164096    \n",
      "                                                                 \n",
      " dropout_2 (Dropout)         (None, 15, 1, 64)         0         \n",
      "                                                                 \n",
      " batch_norm_2 (BatchNormaliz  (None, 15, 1, 64)        256       \n",
      " ation)                                                          \n",
      "                                                                 \n",
      " flatten (Flatten)           (None, 960)               0         \n",
      "                                                                 \n",
      " repeat_vector (RepeatVector  (None, 3, 960)           0         \n",
      " )                                                               \n",
      "                                                                 \n",
      " reshape (Reshape)           (None, 3, 15, 1, 64)      0         \n",
      "                                                                 \n",
      " conv_lstm_3 (ConvLSTM2D)    (None, 3, 15, 1, 64)      327936    \n",
      "                                                                 \n",
      " dropout_3 (Dropout)         (None, 3, 15, 1, 64)      0         \n",
      "                                                                 \n",
      " batch_norm_3 (BatchNormaliz  (None, 3, 15, 1, 64)     256       \n",
      " ation)                                                          \n",
      "                                                                 \n",
      " conv_lstm_4 (ConvLSTM2D)    (None, 3, 15, 1, 64)      164096    \n",
      "                                                                 \n",
      " time_distributed (TimeDistr  (None, 3, 15, 1, 1)      65        \n",
      " ibuted)                                                         \n",
      "                                                                 \n",
      " time_distributed_1 (TimeDis  (None, 3, 15, 1, 1)      2         \n",
      " tributed)                                                       \n",
      "                                                                 \n",
      "=================================================================\n",
      "Total params: 823,623\n",
      "Trainable params: 823,237\n",
      "Non-trainable params: 386\n",
      "_________________________________________________________________\n"
     ]
    }
   ]
  },
  {
   "cell_type": "code",
   "source": [
    "!pip install neuralplot"
   ],
   "metadata": {
    "colab": {
     "base_uri": "https://localhost:8080/"
    },
    "id": "O3Q5NV2rS5pg",
    "executionInfo": {
     "status": "ok",
     "timestamp": 1679556276062,
     "user_tz": -330,
     "elapsed": 4337,
     "user": {
      "displayName": "Ratneswaran Shiveswarran",
      "userId": "08087910107780316512"
     }
    },
    "outputId": "ffeb9ac7-cf2f-4c6b-a305-3b74af4e672d"
   },
   "execution_count": null,
   "outputs": [
    {
     "output_type": "stream",
     "name": "stdout",
     "text": [
      "Looking in indexes: https://pypi.org/simple, https://us-python.pkg.dev/colab-wheels/public/simple/\n",
      "Collecting neuralplot\n",
      "  Downloading neuralplot-0.0.8-py3-none-any.whl (4.6 kB)\n",
      "Requirement already satisfied: matplotlib>=3.1numpy>=1.16 in /usr/local/lib/python3.9/dist-packages (from neuralplot) (3.7.1)\n",
      "Requirement already satisfied: cycler>=0.10 in /usr/local/lib/python3.9/dist-packages (from matplotlib>=3.1numpy>=1.16->neuralplot) (0.11.0)\n",
      "Requirement already satisfied: contourpy>=1.0.1 in /usr/local/lib/python3.9/dist-packages (from matplotlib>=3.1numpy>=1.16->neuralplot) (1.0.7)\n",
      "Requirement already satisfied: packaging>=20.0 in /usr/local/lib/python3.9/dist-packages (from matplotlib>=3.1numpy>=1.16->neuralplot) (23.0)\n",
      "Requirement already satisfied: importlib-resources>=3.2.0 in /usr/local/lib/python3.9/dist-packages (from matplotlib>=3.1numpy>=1.16->neuralplot) (5.12.0)\n",
      "Requirement already satisfied: python-dateutil>=2.7 in /usr/local/lib/python3.9/dist-packages (from matplotlib>=3.1numpy>=1.16->neuralplot) (2.8.2)\n",
      "Requirement already satisfied: fonttools>=4.22.0 in /usr/local/lib/python3.9/dist-packages (from matplotlib>=3.1numpy>=1.16->neuralplot) (4.39.2)\n",
      "Requirement already satisfied: kiwisolver>=1.0.1 in /usr/local/lib/python3.9/dist-packages (from matplotlib>=3.1numpy>=1.16->neuralplot) (1.4.4)\n",
      "Requirement already satisfied: pyparsing>=2.3.1 in /usr/local/lib/python3.9/dist-packages (from matplotlib>=3.1numpy>=1.16->neuralplot) (3.0.9)\n",
      "Requirement already satisfied: pillow>=6.2.0 in /usr/local/lib/python3.9/dist-packages (from matplotlib>=3.1numpy>=1.16->neuralplot) (8.4.0)\n",
      "Requirement already satisfied: numpy>=1.20 in /usr/local/lib/python3.9/dist-packages (from matplotlib>=3.1numpy>=1.16->neuralplot) (1.22.4)\n",
      "Requirement already satisfied: zipp>=3.1.0 in /usr/local/lib/python3.9/dist-packages (from importlib-resources>=3.2.0->matplotlib>=3.1numpy>=1.16->neuralplot) (3.15.0)\n",
      "Requirement already satisfied: six>=1.5 in /usr/local/lib/python3.9/dist-packages (from python-dateutil>=2.7->matplotlib>=3.1numpy>=1.16->neuralplot) (1.16.0)\n",
      "Installing collected packages: neuralplot\n",
      "Successfully installed neuralplot-0.0.8\n"
     ]
    }
   ]
  },
  {
   "cell_type": "code",
   "source": [
    "from neuralplot import ModelPlot"
   ],
   "metadata": {
    "id": "dOWgzoEbSpIt"
   },
   "execution_count": null,
   "outputs": []
  },
  {
   "cell_type": "code",
   "source": [
    "%matplotlib inline "
   ],
   "metadata": {
    "id": "xst49LjNTBhf"
   },
   "execution_count": null,
   "outputs": []
  },
  {
   "cell_type": "code",
   "source": [
    "modelplot = ModelPlot(model=model, grid=False, connection=True, linewidth=0.1)\n",
    "modelplot.show()"
   ],
   "metadata": {
    "colab": {
     "base_uri": "https://localhost:8080/",
     "height": 777
    },
    "id": "7lwM193eSsVs",
    "executionInfo": {
     "status": "error",
     "timestamp": 1679556286666,
     "user_tz": -330,
     "elapsed": 5,
     "user": {
      "displayName": "Ratneswaran Shiveswarran",
      "userId": "08087910107780316512"
     }
    },
    "outputId": "78e07896-df6a-46a8-f9c9-bee888669106"
   },
   "execution_count": null,
   "outputs": [
    {
     "output_type": "error",
     "ename": "ValueError",
     "evalue": "ignored",
     "traceback": [
      "\u001B[0;31m---------------------------------------------------------------------------\u001B[0m",
      "\u001B[0;31mValueError\u001B[0m                                Traceback (most recent call last)",
      "\u001B[0;32m<ipython-input-26-bdb9fd7a757f>\u001B[0m in \u001B[0;36m<module>\u001B[0;34m\u001B[0m\n\u001B[1;32m      1\u001B[0m \u001B[0mmodelplot\u001B[0m \u001B[0;34m=\u001B[0m \u001B[0mModelPlot\u001B[0m\u001B[0;34m(\u001B[0m\u001B[0mmodel\u001B[0m\u001B[0;34m=\u001B[0m\u001B[0mmodel\u001B[0m\u001B[0;34m,\u001B[0m \u001B[0mgrid\u001B[0m\u001B[0;34m=\u001B[0m\u001B[0;32mFalse\u001B[0m\u001B[0;34m,\u001B[0m \u001B[0mconnection\u001B[0m\u001B[0;34m=\u001B[0m\u001B[0;32mTrue\u001B[0m\u001B[0;34m,\u001B[0m \u001B[0mlinewidth\u001B[0m\u001B[0;34m=\u001B[0m\u001B[0;36m0.1\u001B[0m\u001B[0;34m)\u001B[0m\u001B[0;34m\u001B[0m\u001B[0;34m\u001B[0m\u001B[0m\n\u001B[0;32m----> 2\u001B[0;31m \u001B[0mmodelplot\u001B[0m\u001B[0;34m.\u001B[0m\u001B[0mshow\u001B[0m\u001B[0;34m(\u001B[0m\u001B[0;34m)\u001B[0m\u001B[0;34m\u001B[0m\u001B[0;34m\u001B[0m\u001B[0m\n\u001B[0m",
      "\u001B[0;32m/usr/local/lib/python3.9/dist-packages/neuralplot.py\u001B[0m in \u001B[0;36mshow\u001B[0;34m(self)\u001B[0m\n\u001B[1;32m    197\u001B[0m \u001B[0;34m\u001B[0m\u001B[0m\n\u001B[1;32m    198\u001B[0m                 \u001B[0;31m# plot dots and lines\u001B[0m\u001B[0;34m\u001B[0m\u001B[0;34m\u001B[0m\u001B[0m\n\u001B[0;32m--> 199\u001B[0;31m                 \u001B[0mself\u001B[0m\u001B[0;34m.\u001B[0m\u001B[0m_plot_dots\u001B[0m\u001B[0;34m(\u001B[0m\u001B[0mlayers_array\u001B[0m\u001B[0;34m,\u001B[0m \u001B[0mlayers_name\u001B[0m\u001B[0;34m,\u001B[0m \u001B[0mlayers_color\u001B[0m\u001B[0;34m,\u001B[0m \u001B[0mlayers_marker\u001B[0m\u001B[0;34m,\u001B[0m \u001B[0max\u001B[0m\u001B[0;34m,\u001B[0m \u001B[0mxy_max\u001B[0m\u001B[0;34m)\u001B[0m\u001B[0;34m\u001B[0m\u001B[0;34m\u001B[0m\u001B[0m\n\u001B[0m\u001B[1;32m    200\u001B[0m \u001B[0;34m\u001B[0m\u001B[0m\n\u001B[1;32m    201\u001B[0m                 \u001B[0;31m# Hide axes ticks\u001B[0m\u001B[0;34m\u001B[0m\u001B[0;34m\u001B[0m\u001B[0m\n",
      "\u001B[0;32m/usr/local/lib/python3.9/dist-packages/neuralplot.py\u001B[0m in \u001B[0;36m_plot_dots\u001B[0;34m(self, layers_array, layers_name, layers_color, layers_marker, ax, xy_max)\u001B[0m\n\u001B[1;32m    150\u001B[0m                                         \u001B[0mcolor\u001B[0m \u001B[0;34m=\u001B[0m \u001B[0mcolor_in\u001B[0m\u001B[0;34m\u001B[0m\u001B[0;34m\u001B[0m\u001B[0m\n\u001B[1;32m    151\u001B[0m \u001B[0;34m\u001B[0m\u001B[0m\n\u001B[0;32m--> 152\u001B[0;31m                                 \u001B[0max\u001B[0m\u001B[0;34m.\u001B[0m\u001B[0mscatter\u001B[0m\u001B[0;34m(\u001B[0m\u001B[0mmy_x\u001B[0m\u001B[0;34m,\u001B[0m \u001B[0mmy_z\u001B[0m\u001B[0;34m,\u001B[0m \u001B[0mmy_y\u001B[0m\u001B[0;34m,\u001B[0m \u001B[0mc\u001B[0m\u001B[0;34m=\u001B[0m\u001B[0mcolor\u001B[0m\u001B[0;34m,\u001B[0m \u001B[0mmarker\u001B[0m\u001B[0;34m=\u001B[0m\u001B[0mmarker\u001B[0m\u001B[0;34m,\u001B[0m \u001B[0ms\u001B[0m\u001B[0;34m=\u001B[0m\u001B[0;36m20\u001B[0m\u001B[0;34m)\u001B[0m\u001B[0;34m\u001B[0m\u001B[0;34m\u001B[0m\u001B[0m\n\u001B[0m\u001B[1;32m    153\u001B[0m \u001B[0;34m\u001B[0m\u001B[0m\n\u001B[1;32m    154\u001B[0m                                 \u001B[0;32mif\u001B[0m \u001B[0mself\u001B[0m\u001B[0;34m.\u001B[0m\u001B[0mconnection\u001B[0m\u001B[0;34m:\u001B[0m\u001B[0;34m\u001B[0m\u001B[0;34m\u001B[0m\u001B[0m\n",
      "\u001B[0;32m/usr/local/lib/python3.9/dist-packages/matplotlib/__init__.py\u001B[0m in \u001B[0;36minner\u001B[0;34m(ax, data, *args, **kwargs)\u001B[0m\n\u001B[1;32m   1440\u001B[0m     \u001B[0;32mdef\u001B[0m \u001B[0minner\u001B[0m\u001B[0;34m(\u001B[0m\u001B[0max\u001B[0m\u001B[0;34m,\u001B[0m \u001B[0;34m*\u001B[0m\u001B[0margs\u001B[0m\u001B[0;34m,\u001B[0m \u001B[0mdata\u001B[0m\u001B[0;34m=\u001B[0m\u001B[0;32mNone\u001B[0m\u001B[0;34m,\u001B[0m \u001B[0;34m**\u001B[0m\u001B[0mkwargs\u001B[0m\u001B[0;34m)\u001B[0m\u001B[0;34m:\u001B[0m\u001B[0;34m\u001B[0m\u001B[0;34m\u001B[0m\u001B[0m\n\u001B[1;32m   1441\u001B[0m         \u001B[0;32mif\u001B[0m \u001B[0mdata\u001B[0m \u001B[0;32mis\u001B[0m \u001B[0;32mNone\u001B[0m\u001B[0;34m:\u001B[0m\u001B[0;34m\u001B[0m\u001B[0;34m\u001B[0m\u001B[0m\n\u001B[0;32m-> 1442\u001B[0;31m             \u001B[0;32mreturn\u001B[0m \u001B[0mfunc\u001B[0m\u001B[0;34m(\u001B[0m\u001B[0max\u001B[0m\u001B[0;34m,\u001B[0m \u001B[0;34m*\u001B[0m\u001B[0mmap\u001B[0m\u001B[0;34m(\u001B[0m\u001B[0msanitize_sequence\u001B[0m\u001B[0;34m,\u001B[0m \u001B[0margs\u001B[0m\u001B[0;34m)\u001B[0m\u001B[0;34m,\u001B[0m \u001B[0;34m**\u001B[0m\u001B[0mkwargs\u001B[0m\u001B[0;34m)\u001B[0m\u001B[0;34m\u001B[0m\u001B[0;34m\u001B[0m\u001B[0m\n\u001B[0m\u001B[1;32m   1443\u001B[0m \u001B[0;34m\u001B[0m\u001B[0m\n\u001B[1;32m   1444\u001B[0m         \u001B[0mbound\u001B[0m \u001B[0;34m=\u001B[0m \u001B[0mnew_sig\u001B[0m\u001B[0;34m.\u001B[0m\u001B[0mbind\u001B[0m\u001B[0;34m(\u001B[0m\u001B[0max\u001B[0m\u001B[0;34m,\u001B[0m \u001B[0;34m*\u001B[0m\u001B[0margs\u001B[0m\u001B[0;34m,\u001B[0m \u001B[0;34m**\u001B[0m\u001B[0mkwargs\u001B[0m\u001B[0;34m)\u001B[0m\u001B[0;34m\u001B[0m\u001B[0;34m\u001B[0m\u001B[0m\n",
      "\u001B[0;32m/usr/local/lib/python3.9/dist-packages/mpl_toolkits/mplot3d/axes3d.py\u001B[0m in \u001B[0;36mscatter\u001B[0;34m(self, xs, ys, zs, zdir, s, c, depthshade, *args, **kwargs)\u001B[0m\n\u001B[1;32m   2263\u001B[0m         \u001B[0mzs_orig\u001B[0m \u001B[0;34m=\u001B[0m \u001B[0mzs\u001B[0m\u001B[0;34m\u001B[0m\u001B[0;34m\u001B[0m\u001B[0m\n\u001B[1;32m   2264\u001B[0m \u001B[0;34m\u001B[0m\u001B[0m\n\u001B[0;32m-> 2265\u001B[0;31m         xs, ys, zs = np.broadcast_arrays(\n\u001B[0m\u001B[1;32m   2266\u001B[0m             *[np.ravel(np.ma.filled(t, np.nan)) for t in [xs, ys, zs]])\n\u001B[1;32m   2267\u001B[0m         \u001B[0ms\u001B[0m \u001B[0;34m=\u001B[0m \u001B[0mnp\u001B[0m\u001B[0;34m.\u001B[0m\u001B[0mma\u001B[0m\u001B[0;34m.\u001B[0m\u001B[0mravel\u001B[0m\u001B[0;34m(\u001B[0m\u001B[0ms\u001B[0m\u001B[0;34m)\u001B[0m  \u001B[0;31m# This doesn't have to match x, y in size.\u001B[0m\u001B[0;34m\u001B[0m\u001B[0;34m\u001B[0m\u001B[0m\n",
      "\u001B[0;32m/usr/local/lib/python3.9/dist-packages/numpy/core/overrides.py\u001B[0m in \u001B[0;36mbroadcast_arrays\u001B[0;34m(*args, **kwargs)\u001B[0m\n",
      "\u001B[0;32m/usr/local/lib/python3.9/dist-packages/numpy/lib/stride_tricks.py\u001B[0m in \u001B[0;36mbroadcast_arrays\u001B[0;34m(subok, *args)\u001B[0m\n\u001B[1;32m    537\u001B[0m     \u001B[0margs\u001B[0m \u001B[0;34m=\u001B[0m \u001B[0;34m[\u001B[0m\u001B[0mnp\u001B[0m\u001B[0;34m.\u001B[0m\u001B[0marray\u001B[0m\u001B[0;34m(\u001B[0m\u001B[0m_m\u001B[0m\u001B[0;34m,\u001B[0m \u001B[0mcopy\u001B[0m\u001B[0;34m=\u001B[0m\u001B[0;32mFalse\u001B[0m\u001B[0;34m,\u001B[0m \u001B[0msubok\u001B[0m\u001B[0;34m=\u001B[0m\u001B[0msubok\u001B[0m\u001B[0;34m)\u001B[0m \u001B[0;32mfor\u001B[0m \u001B[0m_m\u001B[0m \u001B[0;32min\u001B[0m \u001B[0margs\u001B[0m\u001B[0;34m]\u001B[0m\u001B[0;34m\u001B[0m\u001B[0;34m\u001B[0m\u001B[0m\n\u001B[1;32m    538\u001B[0m \u001B[0;34m\u001B[0m\u001B[0m\n\u001B[0;32m--> 539\u001B[0;31m     \u001B[0mshape\u001B[0m \u001B[0;34m=\u001B[0m \u001B[0m_broadcast_shape\u001B[0m\u001B[0;34m(\u001B[0m\u001B[0;34m*\u001B[0m\u001B[0margs\u001B[0m\u001B[0;34m)\u001B[0m\u001B[0;34m\u001B[0m\u001B[0;34m\u001B[0m\u001B[0m\n\u001B[0m\u001B[1;32m    540\u001B[0m \u001B[0;34m\u001B[0m\u001B[0m\n\u001B[1;32m    541\u001B[0m     \u001B[0;32mif\u001B[0m \u001B[0mall\u001B[0m\u001B[0;34m(\u001B[0m\u001B[0marray\u001B[0m\u001B[0;34m.\u001B[0m\u001B[0mshape\u001B[0m \u001B[0;34m==\u001B[0m \u001B[0mshape\u001B[0m \u001B[0;32mfor\u001B[0m \u001B[0marray\u001B[0m \u001B[0;32min\u001B[0m \u001B[0margs\u001B[0m\u001B[0;34m)\u001B[0m\u001B[0;34m:\u001B[0m\u001B[0;34m\u001B[0m\u001B[0;34m\u001B[0m\u001B[0m\n",
      "\u001B[0;32m/usr/local/lib/python3.9/dist-packages/numpy/lib/stride_tricks.py\u001B[0m in \u001B[0;36m_broadcast_shape\u001B[0;34m(*args)\u001B[0m\n\u001B[1;32m    419\u001B[0m     \u001B[0;31m# use the old-iterator because np.nditer does not handle size 0 arrays\u001B[0m\u001B[0;34m\u001B[0m\u001B[0;34m\u001B[0m\u001B[0m\n\u001B[1;32m    420\u001B[0m     \u001B[0;31m# consistently\u001B[0m\u001B[0;34m\u001B[0m\u001B[0;34m\u001B[0m\u001B[0m\n\u001B[0;32m--> 421\u001B[0;31m     \u001B[0mb\u001B[0m \u001B[0;34m=\u001B[0m \u001B[0mnp\u001B[0m\u001B[0;34m.\u001B[0m\u001B[0mbroadcast\u001B[0m\u001B[0;34m(\u001B[0m\u001B[0;34m*\u001B[0m\u001B[0margs\u001B[0m\u001B[0;34m[\u001B[0m\u001B[0;34m:\u001B[0m\u001B[0;36m32\u001B[0m\u001B[0;34m]\u001B[0m\u001B[0;34m)\u001B[0m\u001B[0;34m\u001B[0m\u001B[0;34m\u001B[0m\u001B[0m\n\u001B[0m\u001B[1;32m    422\u001B[0m     \u001B[0;31m# unfortunately, it cannot handle 32 or more arguments directly\u001B[0m\u001B[0;34m\u001B[0m\u001B[0;34m\u001B[0m\u001B[0m\n\u001B[1;32m    423\u001B[0m     \u001B[0;32mfor\u001B[0m \u001B[0mpos\u001B[0m \u001B[0;32min\u001B[0m \u001B[0mrange\u001B[0m\u001B[0;34m(\u001B[0m\u001B[0;36m32\u001B[0m\u001B[0;34m,\u001B[0m \u001B[0mlen\u001B[0m\u001B[0;34m(\u001B[0m\u001B[0margs\u001B[0m\u001B[0;34m)\u001B[0m\u001B[0;34m,\u001B[0m \u001B[0;36m31\u001B[0m\u001B[0;34m)\u001B[0m\u001B[0;34m:\u001B[0m\u001B[0;34m\u001B[0m\u001B[0;34m\u001B[0m\u001B[0m\n",
      "\u001B[0;31mValueError\u001B[0m: shape mismatch: objects cannot be broadcast to a single shape.  Mismatch is between arg 0 with shape (780,) and arg 1 with shape (225,)."
     ]
    },
    {
     "output_type": "display_data",
     "data": {
      "text/plain": [
       "<Figure size 576x576 with 1 Axes>"
      ],
      "image/png": "[encoded data removed]"
     },
     "metadata": {
      "needs_background": "light"
     }
    }
   ]
  },
  {
   "cell_type": "code",
   "execution_count": null,
   "metadata": {
    "id": "G0UNbOp3Y8nN",
    "colab": {
     "base_uri": "https://localhost:8080/",
     "height": 286
    },
    "executionInfo": {
     "status": "ok",
     "timestamp": 1677823222816,
     "user_tz": -330,
     "elapsed": 542,
     "user": {
      "displayName": "Ratneswaran Shiveswarran",
      "userId": "08087910107780316512"
     }
    },
    "outputId": "dab36fd5-f214-4222-e98a-a3c5ca5bfc16"
   },
   "outputs": [
    {
     "output_type": "execute_result",
     "data": {
      "text/plain": [
       "[<matplotlib.lines.Line2D at 0x7f0358623130>]"
      ]
     },
     "metadata": {},
     "execution_count": 26
    },
    {
     "output_type": "display_data",
     "data": {
      "text/plain": [
       "<Figure size 432x288 with 1 Axes>"
      ],
      "image/png": "[encoded data removed]"
     },
     "metadata": {
      "needs_background": "light"
     }
    }
   ],
   "source": [
    "plt.plot(history.history['loss'])\n",
    "plt.plot(history.history['val_loss'], linestyle = '--')"
   ]
  },
  {
   "cell_type": "code",
   "execution_count": null,
   "metadata": {
    "id": "i2KdKtClY8kj"
   },
   "outputs": [],
   "source": [
    "output = pd.DataFrame(data = Y_pred[:,0,:], index = Y_ix_test, columns = lns_test)"
   ]
  },
  {
   "cell_type": "code",
   "source": [
    "output['Datetime']=output.index"
   ],
   "metadata": {
    "id": "o9PCG_noP4KB"
   },
   "execution_count": null,
   "outputs": []
  },
  {
   "cell_type": "code",
   "execution_count": null,
   "metadata": {
    "colab": {
     "base_uri": "https://localhost:8080/",
     "height": 866
    },
    "executionInfo": {
     "elapsed": 4,
     "status": "ok",
     "timestamp": 1677823239980,
     "user": {
      "displayName": "Ratneswaran Shiveswarran",
      "userId": "08087910107780316512"
     },
     "user_tz": -330
    },
    "id": "Nos9v6y1Y8iO",
    "outputId": "0d8dcf73-242f-4b3a-aa73-632ae67f64b5"
   },
   "outputs": [
    {
     "output_type": "execute_result",
     "data": {
      "text/plain": [
       "                            1.0         3.0         4.0         5.0  \\\n",
       "DateTime                                                              \n",
       "2022-09-20 06:15:00   83.916667  412.090909  230.647059  146.333333   \n",
       "2022-09-20 06:30:00   83.916667  412.090909  195.272727  121.923077   \n",
       "2022-09-20 06:45:00   83.916667  412.090909  195.272727  121.923077   \n",
       "2022-09-20 07:00:00   97.000000  703.814815  195.272727  121.923077   \n",
       "2022-09-20 07:15:00   98.700000  564.071429  197.958333  121.916667   \n",
       "...                         ...         ...         ...         ...   \n",
       "2022-11-01 17:00:00   93.941176  437.615385  232.250000  143.000000   \n",
       "2022-11-01 17:15:00   93.941176  437.615385  232.250000  142.941176   \n",
       "2022-11-01 17:30:00   93.941176  437.615385  232.250000  142.941176   \n",
       "2022-11-01 17:45:00   99.785714  416.888889  232.250000  142.941176   \n",
       "2022-11-01 18:00:00  109.133333  436.666667  236.375000  138.571429   \n",
       "\n",
       "                           7.0     8.0        9.0        10.0        11.0  \\\n",
       "DateTime                                                                    \n",
       "2022-09-20 06:15:00  46.750000  80.300  28.222222  158.444444  139.000000   \n",
       "2022-09-20 06:30:00  46.750000  80.300  28.222222  158.444444  139.000000   \n",
       "2022-09-20 06:45:00  40.200000  80.500  24.600000  192.500000  241.000000   \n",
       "2022-09-20 07:00:00  40.200000  80.500  24.600000  192.500000  241.000000   \n",
       "2022-09-20 07:15:00  40.200000  80.500  24.600000  192.500000  241.000000   \n",
       "...                        ...     ...        ...         ...         ...   \n",
       "2022-11-01 17:00:00  44.571429  82.875  27.294118  159.928571  173.500000   \n",
       "2022-11-01 17:15:00  44.571429  82.875  31.230769  164.142857  139.230769   \n",
       "2022-11-01 17:30:00  44.571429  82.875  31.230769  164.142857  139.692308   \n",
       "2022-11-01 17:45:00  44.571429  82.875  31.230769  164.142857  139.692308   \n",
       "2022-11-01 18:00:00  44.571429  82.875  31.230769  164.142857  139.692308   \n",
       "\n",
       "                           12.0        13.0        14.0        15.0  \\\n",
       "DateTime                                                              \n",
       "2022-09-20 06:15:00  155.611111  128.882353  101.869565  337.150000   \n",
       "2022-09-20 06:30:00  155.611111  128.882353  101.869565  337.150000   \n",
       "2022-09-20 06:45:00  167.285714  128.882353  101.869565  337.150000   \n",
       "2022-09-20 07:00:00  167.285714  170.384615  105.000000  408.857143   \n",
       "2022-09-20 07:15:00  167.285714  170.384615  105.000000  408.857143   \n",
       "...                         ...         ...         ...         ...   \n",
       "2022-11-01 17:00:00  163.153846  154.928571  104.500000  328.100000   \n",
       "2022-11-01 17:15:00  155.333333  141.437500  106.578947  328.100000   \n",
       "2022-11-01 17:30:00  165.066667  144.750000  106.277778  350.714286   \n",
       "2022-11-01 17:45:00  165.066667  144.750000  106.277778  350.714286   \n",
       "2022-11-01 18:00:00  165.066667  144.750000  106.277778  350.714286   \n",
       "\n",
       "                            2.0         6.0            Datetime  \n",
       "DateTime                                                         \n",
       "2022-09-20 06:15:00  233.923077  217.733333 2022-09-20 06:15:00  \n",
       "2022-09-20 06:30:00  233.923077  276.052632 2022-09-20 06:30:00  \n",
       "2022-09-20 06:45:00  233.923077  276.052632 2022-09-20 06:45:00  \n",
       "2022-09-20 07:00:00  302.880000  276.052632 2022-09-20 07:00:00  \n",
       "2022-09-20 07:15:00  314.272727  235.080000 2022-09-20 07:15:00  \n",
       "...                         ...         ...                 ...  \n",
       "2022-11-01 17:00:00  247.937500  230.333333 2022-11-01 17:00:00  \n",
       "2022-11-01 17:15:00  247.937500  230.615385 2022-11-01 17:15:00  \n",
       "2022-11-01 17:30:00  247.937500  230.615385 2022-11-01 17:30:00  \n",
       "2022-11-01 17:45:00  210.866667  230.615385 2022-11-01 17:45:00  \n",
       "2022-11-01 18:00:00  242.090909  227.375000 2022-11-01 18:00:00  \n",
       "\n",
       "[2232 rows x 16 columns]"
      ],
      "text/html": [
       "\n",
       "  <div id=\"df-02c1e1b0-b9ce-4b37-8810-33820f415edb\">\n",
       "    <div class=\"colab-df-container\">\n",
       "      <div>\n",
       "<style scoped>\n",
       "    .dataframe tbody tr th:only-of-type {\n",
       "        vertical-align: middle;\n",
       "    }\n",
       "\n",
       "    .dataframe tbody tr th {\n",
       "        vertical-align: top;\n",
       "    }\n",
       "\n",
       "    .dataframe thead th {\n",
       "        text-align: right;\n",
       "    }\n",
       "</style>\n",
       "<table border=\"1\" class=\"dataframe\">\n",
       "  <thead>\n",
       "    <tr style=\"text-align: right;\">\n",
       "      <th></th>\n",
       "      <th>1.0</th>\n",
       "      <th>3.0</th>\n",
       "      <th>4.0</th>\n",
       "      <th>5.0</th>\n",
       "      <th>7.0</th>\n",
       "      <th>8.0</th>\n",
       "      <th>9.0</th>\n",
       "      <th>10.0</th>\n",
       "      <th>11.0</th>\n",
       "      <th>12.0</th>\n",
       "      <th>13.0</th>\n",
       "      <th>14.0</th>\n",
       "      <th>15.0</th>\n",
       "      <th>2.0</th>\n",
       "      <th>6.0</th>\n",
       "      <th>Datetime</th>\n",
       "    </tr>\n",
       "    <tr>\n",
       "      <th>DateTime</th>\n",
       "      <th></th>\n",
       "      <th></th>\n",
       "      <th></th>\n",
       "      <th></th>\n",
       "      <th></th>\n",
       "      <th></th>\n",
       "      <th></th>\n",
       "      <th></th>\n",
       "      <th></th>\n",
       "      <th></th>\n",
       "      <th></th>\n",
       "      <th></th>\n",
       "      <th></th>\n",
       "      <th></th>\n",
       "      <th></th>\n",
       "      <th></th>\n",
       "    </tr>\n",
       "  </thead>\n",
       "  <tbody>\n",
       "    <tr>\n",
       "      <th>2022-09-20 06:15:00</th>\n",
       "      <td>83.916667</td>\n",
       "      <td>412.090909</td>\n",
       "      <td>230.647059</td>\n",
       "      <td>146.333333</td>\n",
       "      <td>46.750000</td>\n",
       "      <td>80.300</td>\n",
       "      <td>28.222222</td>\n",
       "      <td>158.444444</td>\n",
       "      <td>139.000000</td>\n",
       "      <td>155.611111</td>\n",
       "      <td>128.882353</td>\n",
       "      <td>101.869565</td>\n",
       "      <td>337.150000</td>\n",
       "      <td>233.923077</td>\n",
       "      <td>217.733333</td>\n",
       "      <td>2022-09-20 06:15:00</td>\n",
       "    </tr>\n",
       "    <tr>\n",
       "      <th>2022-09-20 06:30:00</th>\n",
       "      <td>83.916667</td>\n",
       "      <td>412.090909</td>\n",
       "      <td>195.272727</td>\n",
       "      <td>121.923077</td>\n",
       "      <td>46.750000</td>\n",
       "      <td>80.300</td>\n",
       "      <td>28.222222</td>\n",
       "      <td>158.444444</td>\n",
       "      <td>139.000000</td>\n",
       "      <td>155.611111</td>\n",
       "      <td>128.882353</td>\n",
       "      <td>101.869565</td>\n",
       "      <td>337.150000</td>\n",
       "      <td>233.923077</td>\n",
       "      <td>276.052632</td>\n",
       "      <td>2022-09-20 06:30:00</td>\n",
       "    </tr>\n",
       "    <tr>\n",
       "      <th>2022-09-20 06:45:00</th>\n",
       "      <td>83.916667</td>\n",
       "      <td>412.090909</td>\n",
       "      <td>195.272727</td>\n",
       "      <td>121.923077</td>\n",
       "      <td>40.200000</td>\n",
       "      <td>80.500</td>\n",
       "      <td>24.600000</td>\n",
       "      <td>192.500000</td>\n",
       "      <td>241.000000</td>\n",
       "      <td>167.285714</td>\n",
       "      <td>128.882353</td>\n",
       "      <td>101.869565</td>\n",
       "      <td>337.150000</td>\n",
       "      <td>233.923077</td>\n",
       "      <td>276.052632</td>\n",
       "      <td>2022-09-20 06:45:00</td>\n",
       "    </tr>\n",
       "    <tr>\n",
       "      <th>2022-09-20 07:00:00</th>\n",
       "      <td>97.000000</td>\n",
       "      <td>703.814815</td>\n",
       "      <td>195.272727</td>\n",
       "      <td>121.923077</td>\n",
       "      <td>40.200000</td>\n",
       "      <td>80.500</td>\n",
       "      <td>24.600000</td>\n",
       "      <td>192.500000</td>\n",
       "      <td>241.000000</td>\n",
       "      <td>167.285714</td>\n",
       "      <td>170.384615</td>\n",
       "      <td>105.000000</td>\n",
       "      <td>408.857143</td>\n",
       "      <td>302.880000</td>\n",
       "      <td>276.052632</td>\n",
       "      <td>2022-09-20 07:00:00</td>\n",
       "    </tr>\n",
       "    <tr>\n",
       "      <th>2022-09-20 07:15:00</th>\n",
       "      <td>98.700000</td>\n",
       "      <td>564.071429</td>\n",
       "      <td>197.958333</td>\n",
       "      <td>121.916667</td>\n",
       "      <td>40.200000</td>\n",
       "      <td>80.500</td>\n",
       "      <td>24.600000</td>\n",
       "      <td>192.500000</td>\n",
       "      <td>241.000000</td>\n",
       "      <td>167.285714</td>\n",
       "      <td>170.384615</td>\n",
       "      <td>105.000000</td>\n",
       "      <td>408.857143</td>\n",
       "      <td>314.272727</td>\n",
       "      <td>235.080000</td>\n",
       "      <td>2022-09-20 07:15:00</td>\n",
       "    </tr>\n",
       "    <tr>\n",
       "      <th>...</th>\n",
       "      <td>...</td>\n",
       "      <td>...</td>\n",
       "      <td>...</td>\n",
       "      <td>...</td>\n",
       "      <td>...</td>\n",
       "      <td>...</td>\n",
       "      <td>...</td>\n",
       "      <td>...</td>\n",
       "      <td>...</td>\n",
       "      <td>...</td>\n",
       "      <td>...</td>\n",
       "      <td>...</td>\n",
       "      <td>...</td>\n",
       "      <td>...</td>\n",
       "      <td>...</td>\n",
       "      <td>...</td>\n",
       "    </tr>\n",
       "    <tr>\n",
       "      <th>2022-11-01 17:00:00</th>\n",
       "      <td>93.941176</td>\n",
       "      <td>437.615385</td>\n",
       "      <td>232.250000</td>\n",
       "      <td>143.000000</td>\n",
       "      <td>44.571429</td>\n",
       "      <td>82.875</td>\n",
       "      <td>27.294118</td>\n",
       "      <td>159.928571</td>\n",
       "      <td>173.500000</td>\n",
       "      <td>163.153846</td>\n",
       "      <td>154.928571</td>\n",
       "      <td>104.500000</td>\n",
       "      <td>328.100000</td>\n",
       "      <td>247.937500</td>\n",
       "      <td>230.333333</td>\n",
       "      <td>2022-11-01 17:00:00</td>\n",
       "    </tr>\n",
       "    <tr>\n",
       "      <th>2022-11-01 17:15:00</th>\n",
       "      <td>93.941176</td>\n",
       "      <td>437.615385</td>\n",
       "      <td>232.250000</td>\n",
       "      <td>142.941176</td>\n",
       "      <td>44.571429</td>\n",
       "      <td>82.875</td>\n",
       "      <td>31.230769</td>\n",
       "      <td>164.142857</td>\n",
       "      <td>139.230769</td>\n",
       "      <td>155.333333</td>\n",
       "      <td>141.437500</td>\n",
       "      <td>106.578947</td>\n",
       "      <td>328.100000</td>\n",
       "      <td>247.937500</td>\n",
       "      <td>230.615385</td>\n",
       "      <td>2022-11-01 17:15:00</td>\n",
       "    </tr>\n",
       "    <tr>\n",
       "      <th>2022-11-01 17:30:00</th>\n",
       "      <td>93.941176</td>\n",
       "      <td>437.615385</td>\n",
       "      <td>232.250000</td>\n",
       "      <td>142.941176</td>\n",
       "      <td>44.571429</td>\n",
       "      <td>82.875</td>\n",
       "      <td>31.230769</td>\n",
       "      <td>164.142857</td>\n",
       "      <td>139.692308</td>\n",
       "      <td>165.066667</td>\n",
       "      <td>144.750000</td>\n",
       "      <td>106.277778</td>\n",
       "      <td>350.714286</td>\n",
       "      <td>247.937500</td>\n",
       "      <td>230.615385</td>\n",
       "      <td>2022-11-01 17:30:00</td>\n",
       "    </tr>\n",
       "    <tr>\n",
       "      <th>2022-11-01 17:45:00</th>\n",
       "      <td>99.785714</td>\n",
       "      <td>416.888889</td>\n",
       "      <td>232.250000</td>\n",
       "      <td>142.941176</td>\n",
       "      <td>44.571429</td>\n",
       "      <td>82.875</td>\n",
       "      <td>31.230769</td>\n",
       "      <td>164.142857</td>\n",
       "      <td>139.692308</td>\n",
       "      <td>165.066667</td>\n",
       "      <td>144.750000</td>\n",
       "      <td>106.277778</td>\n",
       "      <td>350.714286</td>\n",
       "      <td>210.866667</td>\n",
       "      <td>230.615385</td>\n",
       "      <td>2022-11-01 17:45:00</td>\n",
       "    </tr>\n",
       "    <tr>\n",
       "      <th>2022-11-01 18:00:00</th>\n",
       "      <td>109.133333</td>\n",
       "      <td>436.666667</td>\n",
       "      <td>236.375000</td>\n",
       "      <td>138.571429</td>\n",
       "      <td>44.571429</td>\n",
       "      <td>82.875</td>\n",
       "      <td>31.230769</td>\n",
       "      <td>164.142857</td>\n",
       "      <td>139.692308</td>\n",
       "      <td>165.066667</td>\n",
       "      <td>144.750000</td>\n",
       "      <td>106.277778</td>\n",
       "      <td>350.714286</td>\n",
       "      <td>242.090909</td>\n",
       "      <td>227.375000</td>\n",
       "      <td>2022-11-01 18:00:00</td>\n",
       "    </tr>\n",
       "  </tbody>\n",
       "</table>\n",
       "<p>2232 rows × 16 columns</p>\n",
       "</div>\n",
       "      <button class=\"colab-df-convert\" onclick=\"convertToInteractive('df-02c1e1b0-b9ce-4b37-8810-33820f415edb')\"\n",
       "              title=\"Convert this dataframe to an interactive table.\"\n",
       "              style=\"display:none;\">\n",
       "        \n",
       "  <svg xmlns=\"http://www.w3.org/2000/svg\" height=\"24px\"viewBox=\"0 0 24 24\"\n",
       "       width=\"24px\">\n",
       "    <path d=\"M0 0h24v24H0V0z\" fill=\"none\"/>\n",
       "    <path d=\"M18.56 5.44l.94 2.06.94-2.06 2.06-.94-2.06-.94-.94-2.06-.94 2.06-2.06.94zm-11 1L8.5 8.5l.94-2.06 2.06-.94-2.06-.94L8.5 2.5l-.94 2.06-2.06.94zm10 10l.94 2.06.94-2.06 2.06-.94-2.06-.94-.94-2.06-.94 2.06-2.06.94z\"/><path d=\"M17.41 7.96l-1.37-1.37c-.4-.4-.92-.59-1.43-.59-.52 0-1.04.2-1.43.59L10.3 9.45l-7.72 7.72c-.78.78-.78 2.05 0 2.83L4 21.41c.39.39.9.59 1.41.59.51 0 1.02-.2 1.41-.59l7.78-7.78 2.81-2.81c.8-.78.8-2.07 0-2.86zM5.41 20L4 18.59l7.72-7.72 1.47 1.35L5.41 20z\"/>\n",
       "  </svg>\n",
       "      </button>\n",
       "      \n",
       "  <style>\n",
       "    .colab-df-container {\n",
       "      display:flex;\n",
       "      flex-wrap:wrap;\n",
       "      gap: 12px;\n",
       "    }\n",
       "\n",
       "    .colab-df-convert {\n",
       "      background-color: #E8F0FE;\n",
       "      border: none;\n",
       "      border-radius: 50%;\n",
       "      cursor: pointer;\n",
       "      display: none;\n",
       "      fill: #1967D2;\n",
       "      height: 32px;\n",
       "      padding: 0 0 0 0;\n",
       "      width: 32px;\n",
       "    }\n",
       "\n",
       "    .colab-df-convert:hover {\n",
       "      background-color: #E2EBFA;\n",
       "      box-shadow: 0px 1px 2px rgba(60, 64, 67, 0.3), 0px 1px 3px 1px rgba(60, 64, 67, 0.15);\n",
       "      fill: #174EA6;\n",
       "    }\n",
       "\n",
       "    [theme=dark] .colab-df-convert {\n",
       "      background-color: #3B4455;\n",
       "      fill: #D2E3FC;\n",
       "    }\n",
       "\n",
       "    [theme=dark] .colab-df-convert:hover {\n",
       "      background-color: #434B5C;\n",
       "      box-shadow: 0px 1px 3px 1px rgba(0, 0, 0, 0.15);\n",
       "      filter: drop-shadow(0px 1px 2px rgba(0, 0, 0, 0.3));\n",
       "      fill: #FFFFFF;\n",
       "    }\n",
       "  </style>\n",
       "\n",
       "      <script>\n",
       "        const buttonEl =\n",
       "          document.querySelector('#df-02c1e1b0-b9ce-4b37-8810-33820f415edb button.colab-df-convert');\n",
       "        buttonEl.style.display =\n",
       "          google.colab.kernel.accessAllowed ? 'block' : 'none';\n",
       "\n",
       "        async function convertToInteractive(key) {\n",
       "          const element = document.querySelector('#df-02c1e1b0-b9ce-4b37-8810-33820f415edb');\n",
       "          const dataTable =\n",
       "            await google.colab.kernel.invokeFunction('convertToInteractive',\n",
       "                                                     [key], {});\n",
       "          if (!dataTable) return;\n",
       "\n",
       "          const docLinkHtml = 'Like what you see? Visit the ' +\n",
       "            '<a target=\"_blank\" href=https://colab.research.google.com/notebooks/data_table.ipynb>data table notebook</a>'\n",
       "            + ' to learn more about interactive tables.';\n",
       "          element.innerHTML = '';\n",
       "          dataTable['output_type'] = 'display_data';\n",
       "          await google.colab.output.renderOutput(dataTable, element);\n",
       "          const docLink = document.createElement('div');\n",
       "          docLink.innerHTML = docLinkHtml;\n",
       "          element.appendChild(docLink);\n",
       "        }\n",
       "      </script>\n",
       "    </div>\n",
       "  </div>\n",
       "  "
      ]
     },
     "metadata": {},
     "execution_count": 29
    }
   ],
   "source": [
    "output"
   ]
  },
  {
   "cell_type": "code",
   "execution_count": null,
   "metadata": {
    "id": "d4m5sY7gY8fW"
   },
   "outputs": [],
   "source": [
    "def download_csv(data,filename):\n",
    "  filename= filename + '.csv'\n",
    "  data.to_csv(filename, encoding = 'utf-8-sig',index= False)\n",
    "  files.download(filename)"
   ]
  },
  {
   "cell_type": "code",
   "execution_count": null,
   "metadata": {
    "id": "HSU8LFcaY8c7",
    "colab": {
     "base_uri": "https://localhost:8080/",
     "height": 17
    },
    "executionInfo": {
     "status": "ok",
     "timestamp": 1677663356700,
     "user_tz": -330,
     "elapsed": 828,
     "user": {
      "displayName": "Ratneswaran Shiveswarran",
      "userId": "08087910107780316512"
     }
    },
    "outputId": "4c0260bd-98ac-4ca9-d3f7-35151e74ea41"
   },
   "outputs": [
    {
     "output_type": "display_data",
     "data": {
      "text/plain": [
       "<IPython.core.display.Javascript object>"
      ],
      "application/javascript": [
       "\n",
       "    async function download(id, filename, size) {\n",
       "      if (!google.colab.kernel.accessAllowed) {\n",
       "        return;\n",
       "      }\n",
       "      const div = document.createElement('div');\n",
       "      const label = document.createElement('label');\n",
       "      label.textContent = `Downloading \"${filename}\": `;\n",
       "      div.appendChild(label);\n",
       "      const progress = document.createElement('progress');\n",
       "      progress.max = size;\n",
       "      div.appendChild(progress);\n",
       "      document.body.appendChild(div);\n",
       "\n",
       "      const buffers = [];\n",
       "      let downloaded = 0;\n",
       "\n",
       "      const channel = await google.colab.kernel.comms.open(id);\n",
       "      // Send a message to notify the kernel that we're ready.\n",
       "      channel.send({})\n",
       "\n",
       "      for await (const message of channel.messages) {\n",
       "        // Send a message to notify the kernel that we're ready.\n",
       "        channel.send({})\n",
       "        if (message.buffers) {\n",
       "          for (const buffer of message.buffers) {\n",
       "            buffers.push(buffer);\n",
       "            downloaded += buffer.byteLength;\n",
       "            progress.value = downloaded;\n",
       "          }\n",
       "        }\n",
       "      }\n",
       "      const blob = new Blob(buffers, {type: 'application/binary'});\n",
       "      const a = document.createElement('a');\n",
       "      a.href = window.URL.createObjectURL(blob);\n",
       "      a.download = filename;\n",
       "      div.appendChild(a);\n",
       "      a.click();\n",
       "      div.remove();\n",
       "    }\n",
       "  "
      ]
     },
     "metadata": {}
    },
    {
     "output_type": "display_data",
     "data": {
      "text/plain": [
       "<IPython.core.display.Javascript object>"
      ],
      "application/javascript": [
       "download(\"download_869ed753-f667-4329-adb5-bec78432c8cd\", \"cnn_running_1.csv\", 1151581)"
      ]
     },
     "metadata": {}
    }
   ],
   "source": [
    "download_csv(output,'cnn_running_1')"
   ]
  },
  {
   "cell_type": "code",
   "source": [
    "means"
   ],
   "metadata": {
    "colab": {
     "base_uri": "https://localhost:8080/",
     "height": 835
    },
    "id": "RJRMw9hF7m4M",
    "executionInfo": {
     "status": "ok",
     "timestamp": 1677955383986,
     "user_tz": -330,
     "elapsed": 5,
     "user": {
      "displayName": "Ratneswaran Shiveswarran",
      "userId": "08087910107780316512"
     }
    },
    "outputId": "4b6e4a17-053f-446a-c63d-73690c1852bf"
   },
   "execution_count": null,
   "outputs": [
    {
     "output_type": "execute_result",
     "data": {
      "text/plain": [
       "                            1.0         2.0         3.0         4.0  \\\n",
       "1970-01-01 06:00:00   91.727273  228.800000  397.772727  216.800000   \n",
       "1970-01-01 06:15:00   86.705882  220.800000  397.772727  216.800000   \n",
       "1970-01-01 06:30:00   90.500000  236.000000  435.866667  191.117647   \n",
       "1970-01-01 06:45:00   96.550000  260.952381  546.782609  195.666667   \n",
       "1970-01-01 07:00:00   93.750000  298.761905  722.916667  206.944444   \n",
       "...                         ...         ...         ...         ...   \n",
       "1970-01-07 17:45:00  116.142857  209.428571  402.222222  205.100000   \n",
       "1970-01-07 18:00:00  110.000000  178.000000  429.700000  220.166667   \n",
       "1970-01-07 18:15:00  100.625000  187.500000  407.666667  224.444444   \n",
       "1970-01-07 18:30:00  102.250000  217.500000  407.600000  231.875000   \n",
       "1970-01-07 18:45:00  106.600000  173.166667  402.900000  219.375000   \n",
       "\n",
       "                            5.0         6.0        7.0        8.0        9.0  \\\n",
       "1970-01-01 06:00:00  123.900000  230.166667  39.600000  83.454545  24.666667   \n",
       "1970-01-01 06:15:00  123.900000  230.166667  39.600000  83.454545  24.666667   \n",
       "1970-01-01 06:30:00  107.384615  230.166667  39.600000  83.454545  24.666667   \n",
       "1970-01-01 06:45:00  108.500000  223.533333  45.761905  82.450000  25.250000   \n",
       "1970-01-01 07:00:00  120.350000  213.631579  36.947368  73.210526  26.421053   \n",
       "...                         ...         ...        ...        ...        ...   \n",
       "1970-01-07 17:45:00  142.625000  194.625000  50.200000  79.000000  23.100000   \n",
       "1970-01-07 18:00:00  138.666667  195.400000  44.500000  81.750000  20.777778   \n",
       "1970-01-07 18:15:00  139.818182  184.444444  46.400000  71.600000  26.375000   \n",
       "1970-01-07 18:30:00  125.200000  213.800000  49.500000  80.600000  26.166667   \n",
       "1970-01-07 18:45:00  124.200000  189.222222  42.800000  63.400000  27.333333   \n",
       "\n",
       "                           10.0        11.0        12.0        13.0  \\\n",
       "1970-01-01 06:00:00  179.777778  199.833333  131.000000  160.500000   \n",
       "1970-01-01 06:15:00  179.777778  199.833333  131.000000  160.500000   \n",
       "1970-01-01 06:30:00  179.777778  199.833333  131.000000  160.500000   \n",
       "1970-01-01 06:45:00  166.200000  225.176471  169.166667  161.166667   \n",
       "1970-01-01 07:00:00  172.687500  219.588235  177.809524  154.750000   \n",
       "...                         ...         ...         ...         ...   \n",
       "1970-01-07 17:45:00  156.909091  145.900000  154.875000  152.777778   \n",
       "1970-01-07 18:00:00  151.300000  127.888889  159.636364  142.800000   \n",
       "1970-01-07 18:15:00  151.888889  135.727273  147.222222  123.125000   \n",
       "1970-01-07 18:30:00  168.125000  123.600000  153.375000  126.600000   \n",
       "1970-01-07 18:45:00  139.111111  124.000000  151.375000  134.400000   \n",
       "\n",
       "                           14.0        15.0            Datetime  \n",
       "1970-01-01 06:00:00  102.545455  334.250000 1970-01-01 06:00:00  \n",
       "1970-01-01 06:15:00  102.545455  334.250000 1970-01-01 06:15:00  \n",
       "1970-01-01 06:30:00  102.545455  334.250000 1970-01-01 06:30:00  \n",
       "1970-01-01 06:45:00  102.545455  334.250000 1970-01-01 06:45:00  \n",
       "1970-01-01 07:00:00   99.125000  347.812500 1970-01-01 07:00:00  \n",
       "...                         ...         ...                 ...  \n",
       "1970-01-07 17:45:00  102.933333  322.846154 1970-01-07 17:45:00  \n",
       "1970-01-07 18:00:00  109.750000  330.642857 1970-01-07 18:00:00  \n",
       "1970-01-07 18:15:00   92.714286  312.300000 1970-01-07 18:15:00  \n",
       "1970-01-07 18:30:00   93.750000  334.888889 1970-01-07 18:30:00  \n",
       "1970-01-07 18:45:00  105.600000  322.400000 1970-01-07 18:45:00  \n",
       "\n",
       "[364 rows x 16 columns]"
      ],
      "text/html": [
       "\n",
       "  <div id=\"df-93cae018-f799-439d-b3dc-6699424c21e6\">\n",
       "    <div class=\"colab-df-container\">\n",
       "      <div>\n",
       "<style scoped>\n",
       "    .dataframe tbody tr th:only-of-type {\n",
       "        vertical-align: middle;\n",
       "    }\n",
       "\n",
       "    .dataframe tbody tr th {\n",
       "        vertical-align: top;\n",
       "    }\n",
       "\n",
       "    .dataframe thead th {\n",
       "        text-align: right;\n",
       "    }\n",
       "</style>\n",
       "<table border=\"1\" class=\"dataframe\">\n",
       "  <thead>\n",
       "    <tr style=\"text-align: right;\">\n",
       "      <th></th>\n",
       "      <th>1.0</th>\n",
       "      <th>2.0</th>\n",
       "      <th>3.0</th>\n",
       "      <th>4.0</th>\n",
       "      <th>5.0</th>\n",
       "      <th>6.0</th>\n",
       "      <th>7.0</th>\n",
       "      <th>8.0</th>\n",
       "      <th>9.0</th>\n",
       "      <th>10.0</th>\n",
       "      <th>11.0</th>\n",
       "      <th>12.0</th>\n",
       "      <th>13.0</th>\n",
       "      <th>14.0</th>\n",
       "      <th>15.0</th>\n",
       "      <th>Datetime</th>\n",
       "    </tr>\n",
       "  </thead>\n",
       "  <tbody>\n",
       "    <tr>\n",
       "      <th>1970-01-01 06:00:00</th>\n",
       "      <td>91.727273</td>\n",
       "      <td>228.800000</td>\n",
       "      <td>397.772727</td>\n",
       "      <td>216.800000</td>\n",
       "      <td>123.900000</td>\n",
       "      <td>230.166667</td>\n",
       "      <td>39.600000</td>\n",
       "      <td>83.454545</td>\n",
       "      <td>24.666667</td>\n",
       "      <td>179.777778</td>\n",
       "      <td>199.833333</td>\n",
       "      <td>131.000000</td>\n",
       "      <td>160.500000</td>\n",
       "      <td>102.545455</td>\n",
       "      <td>334.250000</td>\n",
       "      <td>1970-01-01 06:00:00</td>\n",
       "    </tr>\n",
       "    <tr>\n",
       "      <th>1970-01-01 06:15:00</th>\n",
       "      <td>86.705882</td>\n",
       "      <td>220.800000</td>\n",
       "      <td>397.772727</td>\n",
       "      <td>216.800000</td>\n",
       "      <td>123.900000</td>\n",
       "      <td>230.166667</td>\n",
       "      <td>39.600000</td>\n",
       "      <td>83.454545</td>\n",
       "      <td>24.666667</td>\n",
       "      <td>179.777778</td>\n",
       "      <td>199.833333</td>\n",
       "      <td>131.000000</td>\n",
       "      <td>160.500000</td>\n",
       "      <td>102.545455</td>\n",
       "      <td>334.250000</td>\n",
       "      <td>1970-01-01 06:15:00</td>\n",
       "    </tr>\n",
       "    <tr>\n",
       "      <th>1970-01-01 06:30:00</th>\n",
       "      <td>90.500000</td>\n",
       "      <td>236.000000</td>\n",
       "      <td>435.866667</td>\n",
       "      <td>191.117647</td>\n",
       "      <td>107.384615</td>\n",
       "      <td>230.166667</td>\n",
       "      <td>39.600000</td>\n",
       "      <td>83.454545</td>\n",
       "      <td>24.666667</td>\n",
       "      <td>179.777778</td>\n",
       "      <td>199.833333</td>\n",
       "      <td>131.000000</td>\n",
       "      <td>160.500000</td>\n",
       "      <td>102.545455</td>\n",
       "      <td>334.250000</td>\n",
       "      <td>1970-01-01 06:30:00</td>\n",
       "    </tr>\n",
       "    <tr>\n",
       "      <th>1970-01-01 06:45:00</th>\n",
       "      <td>96.550000</td>\n",
       "      <td>260.952381</td>\n",
       "      <td>546.782609</td>\n",
       "      <td>195.666667</td>\n",
       "      <td>108.500000</td>\n",
       "      <td>223.533333</td>\n",
       "      <td>45.761905</td>\n",
       "      <td>82.450000</td>\n",
       "      <td>25.250000</td>\n",
       "      <td>166.200000</td>\n",
       "      <td>225.176471</td>\n",
       "      <td>169.166667</td>\n",
       "      <td>161.166667</td>\n",
       "      <td>102.545455</td>\n",
       "      <td>334.250000</td>\n",
       "      <td>1970-01-01 06:45:00</td>\n",
       "    </tr>\n",
       "    <tr>\n",
       "      <th>1970-01-01 07:00:00</th>\n",
       "      <td>93.750000</td>\n",
       "      <td>298.761905</td>\n",
       "      <td>722.916667</td>\n",
       "      <td>206.944444</td>\n",
       "      <td>120.350000</td>\n",
       "      <td>213.631579</td>\n",
       "      <td>36.947368</td>\n",
       "      <td>73.210526</td>\n",
       "      <td>26.421053</td>\n",
       "      <td>172.687500</td>\n",
       "      <td>219.588235</td>\n",
       "      <td>177.809524</td>\n",
       "      <td>154.750000</td>\n",
       "      <td>99.125000</td>\n",
       "      <td>347.812500</td>\n",
       "      <td>1970-01-01 07:00:00</td>\n",
       "    </tr>\n",
       "    <tr>\n",
       "      <th>...</th>\n",
       "      <td>...</td>\n",
       "      <td>...</td>\n",
       "      <td>...</td>\n",
       "      <td>...</td>\n",
       "      <td>...</td>\n",
       "      <td>...</td>\n",
       "      <td>...</td>\n",
       "      <td>...</td>\n",
       "      <td>...</td>\n",
       "      <td>...</td>\n",
       "      <td>...</td>\n",
       "      <td>...</td>\n",
       "      <td>...</td>\n",
       "      <td>...</td>\n",
       "      <td>...</td>\n",
       "      <td>...</td>\n",
       "    </tr>\n",
       "    <tr>\n",
       "      <th>1970-01-07 17:45:00</th>\n",
       "      <td>116.142857</td>\n",
       "      <td>209.428571</td>\n",
       "      <td>402.222222</td>\n",
       "      <td>205.100000</td>\n",
       "      <td>142.625000</td>\n",
       "      <td>194.625000</td>\n",
       "      <td>50.200000</td>\n",
       "      <td>79.000000</td>\n",
       "      <td>23.100000</td>\n",
       "      <td>156.909091</td>\n",
       "      <td>145.900000</td>\n",
       "      <td>154.875000</td>\n",
       "      <td>152.777778</td>\n",
       "      <td>102.933333</td>\n",
       "      <td>322.846154</td>\n",
       "      <td>1970-01-07 17:45:00</td>\n",
       "    </tr>\n",
       "    <tr>\n",
       "      <th>1970-01-07 18:00:00</th>\n",
       "      <td>110.000000</td>\n",
       "      <td>178.000000</td>\n",
       "      <td>429.700000</td>\n",
       "      <td>220.166667</td>\n",
       "      <td>138.666667</td>\n",
       "      <td>195.400000</td>\n",
       "      <td>44.500000</td>\n",
       "      <td>81.750000</td>\n",
       "      <td>20.777778</td>\n",
       "      <td>151.300000</td>\n",
       "      <td>127.888889</td>\n",
       "      <td>159.636364</td>\n",
       "      <td>142.800000</td>\n",
       "      <td>109.750000</td>\n",
       "      <td>330.642857</td>\n",
       "      <td>1970-01-07 18:00:00</td>\n",
       "    </tr>\n",
       "    <tr>\n",
       "      <th>1970-01-07 18:15:00</th>\n",
       "      <td>100.625000</td>\n",
       "      <td>187.500000</td>\n",
       "      <td>407.666667</td>\n",
       "      <td>224.444444</td>\n",
       "      <td>139.818182</td>\n",
       "      <td>184.444444</td>\n",
       "      <td>46.400000</td>\n",
       "      <td>71.600000</td>\n",
       "      <td>26.375000</td>\n",
       "      <td>151.888889</td>\n",
       "      <td>135.727273</td>\n",
       "      <td>147.222222</td>\n",
       "      <td>123.125000</td>\n",
       "      <td>92.714286</td>\n",
       "      <td>312.300000</td>\n",
       "      <td>1970-01-07 18:15:00</td>\n",
       "    </tr>\n",
       "    <tr>\n",
       "      <th>1970-01-07 18:30:00</th>\n",
       "      <td>102.250000</td>\n",
       "      <td>217.500000</td>\n",
       "      <td>407.600000</td>\n",
       "      <td>231.875000</td>\n",
       "      <td>125.200000</td>\n",
       "      <td>213.800000</td>\n",
       "      <td>49.500000</td>\n",
       "      <td>80.600000</td>\n",
       "      <td>26.166667</td>\n",
       "      <td>168.125000</td>\n",
       "      <td>123.600000</td>\n",
       "      <td>153.375000</td>\n",
       "      <td>126.600000</td>\n",
       "      <td>93.750000</td>\n",
       "      <td>334.888889</td>\n",
       "      <td>1970-01-07 18:30:00</td>\n",
       "    </tr>\n",
       "    <tr>\n",
       "      <th>1970-01-07 18:45:00</th>\n",
       "      <td>106.600000</td>\n",
       "      <td>173.166667</td>\n",
       "      <td>402.900000</td>\n",
       "      <td>219.375000</td>\n",
       "      <td>124.200000</td>\n",
       "      <td>189.222222</td>\n",
       "      <td>42.800000</td>\n",
       "      <td>63.400000</td>\n",
       "      <td>27.333333</td>\n",
       "      <td>139.111111</td>\n",
       "      <td>124.000000</td>\n",
       "      <td>151.375000</td>\n",
       "      <td>134.400000</td>\n",
       "      <td>105.600000</td>\n",
       "      <td>322.400000</td>\n",
       "      <td>1970-01-07 18:45:00</td>\n",
       "    </tr>\n",
       "  </tbody>\n",
       "</table>\n",
       "<p>364 rows × 16 columns</p>\n",
       "</div>\n",
       "      <button class=\"colab-df-convert\" onclick=\"convertToInteractive('df-93cae018-f799-439d-b3dc-6699424c21e6')\"\n",
       "              title=\"Convert this dataframe to an interactive table.\"\n",
       "              style=\"display:none;\">\n",
       "        \n",
       "  <svg xmlns=\"http://www.w3.org/2000/svg\" height=\"24px\"viewBox=\"0 0 24 24\"\n",
       "       width=\"24px\">\n",
       "    <path d=\"M0 0h24v24H0V0z\" fill=\"none\"/>\n",
       "    <path d=\"M18.56 5.44l.94 2.06.94-2.06 2.06-.94-2.06-.94-.94-2.06-.94 2.06-2.06.94zm-11 1L8.5 8.5l.94-2.06 2.06-.94-2.06-.94L8.5 2.5l-.94 2.06-2.06.94zm10 10l.94 2.06.94-2.06 2.06-.94-2.06-.94-.94-2.06-.94 2.06-2.06.94z\"/><path d=\"M17.41 7.96l-1.37-1.37c-.4-.4-.92-.59-1.43-.59-.52 0-1.04.2-1.43.59L10.3 9.45l-7.72 7.72c-.78.78-.78 2.05 0 2.83L4 21.41c.39.39.9.59 1.41.59.51 0 1.02-.2 1.41-.59l7.78-7.78 2.81-2.81c.8-.78.8-2.07 0-2.86zM5.41 20L4 18.59l7.72-7.72 1.47 1.35L5.41 20z\"/>\n",
       "  </svg>\n",
       "      </button>\n",
       "      \n",
       "  <style>\n",
       "    .colab-df-container {\n",
       "      display:flex;\n",
       "      flex-wrap:wrap;\n",
       "      gap: 12px;\n",
       "    }\n",
       "\n",
       "    .colab-df-convert {\n",
       "      background-color: #E8F0FE;\n",
       "      border: none;\n",
       "      border-radius: 50%;\n",
       "      cursor: pointer;\n",
       "      display: none;\n",
       "      fill: #1967D2;\n",
       "      height: 32px;\n",
       "      padding: 0 0 0 0;\n",
       "      width: 32px;\n",
       "    }\n",
       "\n",
       "    .colab-df-convert:hover {\n",
       "      background-color: #E2EBFA;\n",
       "      box-shadow: 0px 1px 2px rgba(60, 64, 67, 0.3), 0px 1px 3px 1px rgba(60, 64, 67, 0.15);\n",
       "      fill: #174EA6;\n",
       "    }\n",
       "\n",
       "    [theme=dark] .colab-df-convert {\n",
       "      background-color: #3B4455;\n",
       "      fill: #D2E3FC;\n",
       "    }\n",
       "\n",
       "    [theme=dark] .colab-df-convert:hover {\n",
       "      background-color: #434B5C;\n",
       "      box-shadow: 0px 1px 3px 1px rgba(0, 0, 0, 0.15);\n",
       "      filter: drop-shadow(0px 1px 2px rgba(0, 0, 0, 0.3));\n",
       "      fill: #FFFFFF;\n",
       "    }\n",
       "  </style>\n",
       "\n",
       "      <script>\n",
       "        const buttonEl =\n",
       "          document.querySelector('#df-93cae018-f799-439d-b3dc-6699424c21e6 button.colab-df-convert');\n",
       "        buttonEl.style.display =\n",
       "          google.colab.kernel.accessAllowed ? 'block' : 'none';\n",
       "\n",
       "        async function convertToInteractive(key) {\n",
       "          const element = document.querySelector('#df-93cae018-f799-439d-b3dc-6699424c21e6');\n",
       "          const dataTable =\n",
       "            await google.colab.kernel.invokeFunction('convertToInteractive',\n",
       "                                                     [key], {});\n",
       "          if (!dataTable) return;\n",
       "\n",
       "          const docLinkHtml = 'Like what you see? Visit the ' +\n",
       "            '<a target=\"_blank\" href=https://colab.research.google.com/notebooks/data_table.ipynb>data table notebook</a>'\n",
       "            + ' to learn more about interactive tables.';\n",
       "          element.innerHTML = '';\n",
       "          dataTable['output_type'] = 'display_data';\n",
       "          await google.colab.output.renderOutput(dataTable, element);\n",
       "          const docLink = document.createElement('div');\n",
       "          docLink.innerHTML = docLinkHtml;\n",
       "          element.appendChild(docLink);\n",
       "        }\n",
       "      </script>\n",
       "    </div>\n",
       "  </div>\n",
       "  "
      ]
     },
     "metadata": {},
     "execution_count": 19
    }
   ]
  },
  {
   "cell_type": "code",
   "source": [
    "means['Datetime']=means.index"
   ],
   "metadata": {
    "id": "kwtqozv87uDc"
   },
   "execution_count": null,
   "outputs": []
  },
  {
   "cell_type": "code",
   "source": [
    "download_csv(means,'HA')"
   ],
   "metadata": {
    "colab": {
     "base_uri": "https://localhost:8080/",
     "height": 17
    },
    "id": "VnIbEYEF73g8",
    "executionInfo": {
     "status": "ok",
     "timestamp": 1677955406980,
     "user_tz": -330,
     "elapsed": 4,
     "user": {
      "displayName": "Ratneswaran Shiveswarran",
      "userId": "08087910107780316512"
     }
    },
    "outputId": "1e88ce80-813c-4775-967f-4ac125c3972e"
   },
   "execution_count": null,
   "outputs": [
    {
     "output_type": "display_data",
     "data": {
      "text/plain": [
       "<IPython.core.display.Javascript object>"
      ],
      "application/javascript": [
       "\n",
       "    async function download(id, filename, size) {\n",
       "      if (!google.colab.kernel.accessAllowed) {\n",
       "        return;\n",
       "      }\n",
       "      const div = document.createElement('div');\n",
       "      const label = document.createElement('label');\n",
       "      label.textContent = `Downloading \"${filename}\": `;\n",
       "      div.appendChild(label);\n",
       "      const progress = document.createElement('progress');\n",
       "      progress.max = size;\n",
       "      div.appendChild(progress);\n",
       "      document.body.appendChild(div);\n",
       "\n",
       "      const buffers = [];\n",
       "      let downloaded = 0;\n",
       "\n",
       "      const channel = await google.colab.kernel.comms.open(id);\n",
       "      // Send a message to notify the kernel that we're ready.\n",
       "      channel.send({})\n",
       "\n",
       "      for await (const message of channel.messages) {\n",
       "        // Send a message to notify the kernel that we're ready.\n",
       "        channel.send({})\n",
       "        if (message.buffers) {\n",
       "          for (const buffer of message.buffers) {\n",
       "            buffers.push(buffer);\n",
       "            downloaded += buffer.byteLength;\n",
       "            progress.value = downloaded;\n",
       "          }\n",
       "        }\n",
       "      }\n",
       "      const blob = new Blob(buffers, {type: 'application/binary'});\n",
       "      const a = document.createElement('a');\n",
       "      a.href = window.URL.createObjectURL(blob);\n",
       "      a.download = filename;\n",
       "      div.appendChild(a);\n",
       "      a.click();\n",
       "      div.remove();\n",
       "    }\n",
       "  "
      ]
     },
     "metadata": {}
    },
    {
     "output_type": "display_data",
     "data": {
      "text/plain": [
       "<IPython.core.display.Javascript object>"
      ],
      "application/javascript": [
       "download(\"download_55f5f990-f910-4860-8659-7c873fcf845b\", \"HA.csv\", 86245)"
      ]
     },
     "metadata": {}
    }
   ]
  },
  {
   "cell_type": "markdown",
   "source": [
    "Out of Fold Training"
   ],
   "metadata": {
    "id": "M85aIUHT0mB_"
   }
  },
  {
   "cell_type": "code",
   "execution_count": null,
   "metadata": {
    "id": "t1Ii4Z4OY8ad"
   },
   "outputs": [],
   "source": []
  },
  {
   "cell_type": "code",
   "source": [],
   "metadata": {
    "id": "0y0kdj_a0k0X"
   },
   "execution_count": null,
   "outputs": []
  },
  {
   "cell_type": "code",
   "source": [],
   "metadata": {
    "id": "dDJDRUFY0lvO"
   },
   "execution_count": null,
   "outputs": []
  },
  {
   "cell_type": "code",
   "source": [],
   "metadata": {
    "id": "GfUbbiW60lsi"
   },
   "execution_count": null,
   "outputs": []
  },
  {
   "cell_type": "code",
   "source": [],
   "metadata": {
    "id": "72aAJifV0loe"
   },
   "execution_count": null,
   "outputs": []
  },
  {
   "cell_type": "code",
   "source": [],
   "metadata": {
    "id": "VOhm-P5_0ljI"
   },
   "execution_count": null,
   "outputs": []
  },
  {
   "cell_type": "code",
   "source": [],
   "metadata": {
    "id": "Vf85BN6D0lgf"
   },
   "execution_count": null,
   "outputs": []
  },
  {
   "cell_type": "code",
   "source": [],
   "metadata": {
    "id": "vkV57rvN0ldv"
   },
   "execution_count": null,
   "outputs": []
  },
  {
   "cell_type": "code",
   "execution_count": null,
   "metadata": {
    "colab": {
     "base_uri": "https://localhost:8080/",
     "height": 235
    },
    "executionInfo": {
     "elapsed": 8,
     "status": "error",
     "timestamp": 1675654479384,
     "user": {
      "displayName": "Ratneswaran Shiveswarran",
      "userId": "08087910107780316512"
     },
     "user_tz": -330
    },
    "id": "TfImuk1ayRfh",
    "outputId": "ea12f7f2-aa42-4a07-8bf8-c691501d5a4a"
   },
   "outputs": [
    {
     "ename": "NameError",
     "evalue": "ignored",
     "output_type": "error",
     "traceback": [
      "\u001B[0;31m---------------------------------------------------------------------------\u001B[0m",
      "\u001B[0;31mNameError\u001B[0m                                 Traceback (most recent call last)",
      "\u001B[0;32m<ipython-input-2-2ddf7459a5f2>\u001B[0m in \u001B[0;36m<module>\u001B[0;34m\u001B[0m\n\u001B[0;32m----> 1\u001B[0;31m \u001B[0mglobal_start_time\u001B[0m \u001B[0;34m=\u001B[0m \u001B[0mtime\u001B[0m\u001B[0;34m.\u001B[0m\u001B[0mtime\u001B[0m\u001B[0;34m(\u001B[0m\u001B[0;34m)\u001B[0m\u001B[0;34m\u001B[0m\u001B[0;34m\u001B[0m\u001B[0m\n\u001B[0m\u001B[1;32m      2\u001B[0m \u001B[0mearly_stopping\u001B[0m \u001B[0;34m=\u001B[0m \u001B[0mEarlyStopping\u001B[0m\u001B[0;34m(\u001B[0m\u001B[0mmonitor\u001B[0m\u001B[0;34m=\u001B[0m\u001B[0;34m'val_loss'\u001B[0m\u001B[0;34m,\u001B[0m \u001B[0mpatience\u001B[0m \u001B[0;34m=\u001B[0m \u001B[0;36m3\u001B[0m\u001B[0;34m)\u001B[0m\u001B[0;34m\u001B[0m\u001B[0;34m\u001B[0m\u001B[0m\n\u001B[1;32m      3\u001B[0m \u001B[0;34m\u001B[0m\u001B[0m\n\u001B[1;32m      4\u001B[0m \u001B[0mbootstrap_size_pct\u001B[0m \u001B[0;34m=\u001B[0m \u001B[0;36m0.80\u001B[0m\u001B[0;34m\u001B[0m\u001B[0;34m\u001B[0m\u001B[0m\n\u001B[1;32m      5\u001B[0m \u001B[0mtest_window_pct\u001B[0m \u001B[0;34m=\u001B[0m \u001B[0;36m0.05\u001B[0m\u001B[0;34m\u001B[0m\u001B[0;34m\u001B[0m\u001B[0m\n",
      "\u001B[0;31mNameError\u001B[0m: name 'time' is not defined"
     ]
    }
   ],
   "source": [
    "global_start_time = time.time()\n",
    "early_stopping = EarlyStopping(monitor='val_loss', patience = 3)\n",
    "\n",
    "bootstrap_size_pct = 0.80\n",
    "test_window_pct = 0.05\n",
    "max_iter = 4\n",
    "\n",
    "lags = 4 * 8\n",
    "preds = 3\n",
    "\n",
    "hist = []\n",
    "for i in range(max_iter):\n",
    "\n",
    "    info(\"Current window: \" + str(i))\n",
    "    \n",
    "    # Devide into test and train\n",
    "    data_train = data[:int((bootstrap_size_pct + i * test_window_pct) * n)]\n",
    "    data_test = data[int((bootstrap_size_pct + i * test_window_pct) * n):int((bootstrap_size_pct + (i + 1) * test_window_pct) * n)]\n",
    "    n_train = len(data_train)\n",
    "    n_test = len(data_test)\n",
    "    info('- Train size : {:>8} ({:.2f}%) '.format(n_train, 100. * n_train / n))\n",
    "    info('- Test size  : {:>8} ({:.2f}%) '.format(n_test, 100. * n_test / n))\n",
    "    \n",
    "    # Mean center and scale\n",
    "    (means, scales, low, upr) = fit_scale(data_train)\n",
    "    assert means.shape == (4 * 24 * 7, 32)\n",
    "    assert len(scales) == 32\n",
    "    assert low.shape == (4 * 24 * 7, 32)\n",
    "    assert upr.shape == (4 * 24 * 7, 32)\n",
    "    \n",
    "    data_train_no = data_train\n",
    "    data_test_no = data_test\n",
    "    #data_train_no, n_outliers = remove_outliers(data_train, low, upr)\n",
    "    #info('- Removed {0} outliers ({1:.2f}%) from train'.format(n_outliers, 100.0 * n_outliers / len(data_train)))\n",
    "    #data_test_no, n_outliers = remove_outliers(data_test, low, upr)\n",
    "    #info('- Removed {0} outliers ({1:.2f}%) from test'.format(n_outliers, 100.0 * n_outliers / len(data_test)))\n",
    "    \n",
    "    ix_train, ts_train, rm_mean_train, rm_scale_train, w_train, lns_train = transform(data_train_no, means, scales)\n",
    "    ix_test, ts_test, rm_mean_test, rm_scale_test, w_test, lns_test = transform(data_test_no, means, scales)"
   ]
  },
  {
   "cell_type": "code",
   "execution_count": null,
   "metadata": {
    "id": "8GnAclHJyeet"
   },
   "outputs": [],
   "source": [
    "X_train, Y_train, Y_ix_train, Y_rm_mean_train, Y_scale_train, Y_w_train = roll(ix_train, ts_train, rm_mean_train, rm_scale_train, w_train, lags, preds)\n",
    "X_test, Y_test, Y_ix_test, Y_rm_mean_test, Y_scale_test, Y_w_test = roll(ix_test, ts_test, rm_mean_test, rm_scale_test, w_test, lags, preds)\n",
    "X_train = X_train[:,:,:,np.newaxis,np.newaxis]\n",
    "Y_train = Y_train[:,:,:,np.newaxis,np.newaxis]\n",
    "X_test = X_test[:,:,:,np.newaxis,np.newaxis]\n",
    "Y_test = Y_test[:,:,:,np.newaxis,np.newaxis]\n",
    "    \n",
    "info('- X_train shape : {:>20}    X_test shape : {:>20}'.format(X_train.shape, X_test.shape))\n",
    "info('- Y_train shape : {:>20}    Y_test shape : {:>20}'.format(Y_train.shape, Y_test.shape))\n",
    "    \n",
    "model = build_model(lags, preds, len(lns_train))\n",
    "    \n",
    "    # Train\n",
    "history = model.fit(X_train, Y_train,\n",
    "                        batch_size = 128, epochs = 30,\n",
    "                        shuffle = False, validation_data = (X_test, Y_test),\n",
    "                        verbose = 2) #, callbacks = [csv_logger, early_stopping])\n",
    "hist.append(history)\n",
    "model.save('models/ConvLSTM_3x15min_10x64-5x64-10x64-5x64_' + str(i) + '.h5') \n",
    "\n",
    "Y_true = Y_test.squeeze() * Y_scale_test + Y_rm_mean_test\n",
    "Y_naive = Y_rm_mean_test\n",
    "Y_pred = model.predict(X_test).squeeze() * Y_scale_test + Y_rm_mean_test\n",
    "        \n",
    "Y_true_total = np.sum(Y_true * Y_w_test, axis = 2).squeeze()\n",
    "Y_naive_total = np.sum(Y_naive * Y_w_test, axis = 2).squeeze()\n",
    "Y_pred_total = np.sum(Y_pred * Y_w_test, axis = 2).squeeze()"
   ]
  },
  {
   "cell_type": "code",
   "execution_count": null,
   "metadata": {
    "id": "72fM6XUVDL6e"
   },
   "outputs": [],
   "source": []
  }
 ],
 "metadata": {
  "colab": {
   "provenance": [],
   "authorship_tag": "ABX9TyMSqej2x83O6FMO2UW7ZFnP"
  },
  "gpuClass": "standard",
  "kernelspec": {
   "name": "python3",
   "language": "python",
   "display_name": "Python 3 (ipykernel)"
  },
  "language_info": {
   "name": "python"
  },
  "accelerator": "GPU"
 },
 "nbformat": 4,
 "nbformat_minor": 0
}
